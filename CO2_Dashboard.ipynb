{
 "cells": [
  {
   "cell_type": "code",
   "execution_count": 345,
   "id": "ab15fea9",
   "metadata": {
    "scrolled": true
   },
   "outputs": [
    {
     "data": {
      "application/javascript": [
       "(function(root) {\n",
       "  function now() {\n",
       "    return new Date();\n",
       "  }\n",
       "\n",
       "  var force = true;\n",
       "\n",
       "  if (typeof root._bokeh_onload_callbacks === \"undefined\" || force === true) {\n",
       "    root._bokeh_onload_callbacks = [];\n",
       "    root._bokeh_is_loading = undefined;\n",
       "  }\n",
       "\n",
       "  if (typeof (root._bokeh_timeout) === \"undefined\" || force === true) {\n",
       "    root._bokeh_timeout = Date.now() + 5000;\n",
       "    root._bokeh_failed_load = false;\n",
       "  }\n",
       "\n",
       "  function run_callbacks() {\n",
       "    try {\n",
       "      root._bokeh_onload_callbacks.forEach(function(callback) {\n",
       "        if (callback != null)\n",
       "          callback();\n",
       "      });\n",
       "    } finally {\n",
       "      delete root._bokeh_onload_callbacks\n",
       "    }\n",
       "    console.debug(\"Bokeh: all callbacks have finished\");\n",
       "  }\n",
       "\n",
       "  function load_libs(css_urls, js_urls, js_modules, callback) {\n",
       "    if (css_urls == null) css_urls = [];\n",
       "    if (js_urls == null) js_urls = [];\n",
       "    if (js_modules == null) js_modules = [];\n",
       "\n",
       "    root._bokeh_onload_callbacks.push(callback);\n",
       "    if (root._bokeh_is_loading > 0) {\n",
       "      console.debug(\"Bokeh: BokehJS is being loaded, scheduling callback at\", now());\n",
       "      return null;\n",
       "    }\n",
       "    if (js_urls.length === 0 && js_modules.length === 0) {\n",
       "      run_callbacks();\n",
       "      return null;\n",
       "    }\n",
       "    console.debug(\"Bokeh: BokehJS not loaded, scheduling load and callback at\", now());\n",
       "\n",
       "    function on_load() {\n",
       "      root._bokeh_is_loading--;\n",
       "      if (root._bokeh_is_loading === 0) {\n",
       "        console.debug(\"Bokeh: all BokehJS libraries/stylesheets loaded\");\n",
       "        run_callbacks()\n",
       "      }\n",
       "    }\n",
       "\n",
       "    function on_error() {\n",
       "      console.error(\"failed to load \" + url);\n",
       "    }\n",
       "\n",
       "    for (var i = 0; i < css_urls.length; i++) {\n",
       "      var url = css_urls[i];\n",
       "      const element = document.createElement(\"link\");\n",
       "      element.onload = on_load;\n",
       "      element.onerror = on_error;\n",
       "      element.rel = \"stylesheet\";\n",
       "      element.type = \"text/css\";\n",
       "      element.href = url;\n",
       "      console.debug(\"Bokeh: injecting link tag for BokehJS stylesheet: \", url);\n",
       "      document.body.appendChild(element);\n",
       "    }\n",
       "\n",
       "    var skip = [];\n",
       "    if (window.requirejs) {\n",
       "      window.requirejs.config({'packages': {}, 'paths': {'tabulator': 'https://unpkg.com/tabulator-tables@4.9.3/dist/js/tabulator', 'moment': 'https://cdn.jsdelivr.net/npm/luxon/build/global/luxon.min', 'gridstack': 'https://cdn.jsdelivr.net/npm/gridstack@4.2.5/dist/gridstack-h5', 'notyf': 'https://cdn.jsdelivr.net/npm/notyf@3/notyf.min'}, 'shim': {'gridstack': {'exports': 'GridStack'}}});\n",
       "      require([\"tabulator\"], function(Tabulator) {\n",
       "\twindow.Tabulator = Tabulator\n",
       "\ton_load()\n",
       "      })\n",
       "      require([\"moment\"], function(moment) {\n",
       "\twindow.moment = moment\n",
       "\ton_load()\n",
       "      })\n",
       "      require([\"gridstack\"], function(GridStack) {\n",
       "\twindow.GridStack = GridStack\n",
       "\ton_load()\n",
       "      })\n",
       "      require([\"notyf\"], function() {\n",
       "\ton_load()\n",
       "      })\n",
       "      root._bokeh_is_loading = css_urls.length + 4;\n",
       "    } else {\n",
       "      root._bokeh_is_loading = css_urls.length + js_urls.length + js_modules.length;\n",
       "    }    if (((window['Tabulator'] !== undefined) && (!(window['Tabulator'] instanceof HTMLElement))) || window.requirejs) {\n",
       "      var urls = ['https://unpkg.com/tabulator-tables@4.9.3/dist/js/tabulator.js'];\n",
       "      for (var i = 0; i < urls.length; i++) {\n",
       "        skip.push(urls[i])\n",
       "      }\n",
       "    }    if (((window['moment'] !== undefined) && (!(window['moment'] instanceof HTMLElement))) || window.requirejs) {\n",
       "      var urls = ['https://cdn.jsdelivr.net/npm/luxon/build/global/luxon.min.js'];\n",
       "      for (var i = 0; i < urls.length; i++) {\n",
       "        skip.push(urls[i])\n",
       "      }\n",
       "    }    if (((window['GridStack'] !== undefined) && (!(window['GridStack'] instanceof HTMLElement))) || window.requirejs) {\n",
       "      var urls = ['https://cdn.jsdelivr.net/npm/gridstack@4.2.5/dist/gridstack-h5.js'];\n",
       "      for (var i = 0; i < urls.length; i++) {\n",
       "        skip.push(urls[i])\n",
       "      }\n",
       "    }    if (((window['Notyf'] !== undefined) && (!(window['Notyf'] instanceof HTMLElement))) || window.requirejs) {\n",
       "      var urls = ['https://cdn.jsdelivr.net/npm/notyf@3/notyf.min.js'];\n",
       "      for (var i = 0; i < urls.length; i++) {\n",
       "        skip.push(urls[i])\n",
       "      }\n",
       "    }    for (var i = 0; i < js_urls.length; i++) {\n",
       "      var url = js_urls[i];\n",
       "      if (skip.indexOf(url) >= 0) {\n",
       "\tif (!window.requirejs) {\n",
       "\t  on_load();\n",
       "\t}\n",
       "\tcontinue;\n",
       "      }\n",
       "      var element = document.createElement('script');\n",
       "      element.onload = on_load;\n",
       "      element.onerror = on_error;\n",
       "      element.async = false;\n",
       "      element.src = url;\n",
       "      console.debug(\"Bokeh: injecting script tag for BokehJS library: \", url);\n",
       "      document.head.appendChild(element);\n",
       "    }\n",
       "    for (var i = 0; i < js_modules.length; i++) {\n",
       "      var url = js_modules[i];\n",
       "      if (skip.indexOf(url) >= 0) {\n",
       "\tif (!window.requirejs) {\n",
       "\t  on_load();\n",
       "\t}\n",
       "\tcontinue;\n",
       "      }\n",
       "      var element = document.createElement('script');\n",
       "      element.onload = on_load;\n",
       "      element.onerror = on_error;\n",
       "      element.async = false;\n",
       "      element.src = url;\n",
       "      element.type = \"module\";\n",
       "      console.debug(\"Bokeh: injecting script tag for BokehJS library: \", url);\n",
       "      document.head.appendChild(element);\n",
       "    }\n",
       "    if (!js_urls.length && !js_modules.length) {\n",
       "      on_load()\n",
       "    }\n",
       "  };\n",
       "\n",
       "  function inject_raw_css(css) {\n",
       "    const element = document.createElement(\"style\");\n",
       "    element.appendChild(document.createTextNode(css));\n",
       "    document.body.appendChild(element);\n",
       "  }\n",
       "\n",
       "  var js_urls = [\"https://unpkg.com/tabulator-tables@4.9.3/dist/js/tabulator.js\", \"https://cdn.jsdelivr.net/npm/luxon/build/global/luxon.min.js\", \"https://cdn.bokeh.org/bokeh/release/bokeh-2.4.3.min.js\", \"https://cdn.bokeh.org/bokeh/release/bokeh-gl-2.4.3.min.js\", \"https://cdn.bokeh.org/bokeh/release/bokeh-widgets-2.4.3.min.js\", \"https://cdn.bokeh.org/bokeh/release/bokeh-tables-2.4.3.min.js\", \"https://cdn.bokeh.org/bokeh/release/bokeh-mathjax-2.4.3.min.js\", \"https://cdn.jsdelivr.net/npm/notyf@3/notyf.min.js\", \"https://unpkg.com/@holoviz/panel@0.13.1/dist/panel.min.js\"];\n",
       "  var js_modules = [];\n",
       "  var css_urls = [\"https://unpkg.com/tabulator-tables@4.9.3/dist/css/tabulator_simple.min.css\", \"https://cdn.jsdelivr.net/npm/notyf@3/notyf.min.css\", \"https://cdnjs.cloudflare.com/ajax/libs/font-awesome/5.15.1/css/all.min.css\", \"https://unpkg.com/@holoviz/panel@0.13.1/dist/css/debugger.css\", \"https://unpkg.com/@holoviz/panel@0.13.1/dist/css/alerts.css\", \"https://unpkg.com/@holoviz/panel@0.13.1/dist/css/card.css\", \"https://unpkg.com/@holoviz/panel@0.13.1/dist/css/widgets.css\", \"https://unpkg.com/@holoviz/panel@0.13.1/dist/css/markdown.css\", \"https://unpkg.com/@holoviz/panel@0.13.1/dist/css/json.css\", \"https://unpkg.com/@holoviz/panel@0.13.1/dist/css/loading.css\", \"https://unpkg.com/@holoviz/panel@0.13.1/dist/css/dataframe.css\"];\n",
       "  var inline_js = [    function(Bokeh) {\n",
       "      inject_raw_css(\"\\n    .bk.pn-loading.arcs:before {\\n      background-image: url(\\\"data:image/svg+xml;base64,PHN2ZyB4bWxucz0iaHR0cDovL3d3dy53My5vcmcvMjAwMC9zdmciIHhtbG5zOnhsaW5rPSJodHRwOi8vd3d3LnczLm9yZy8xOTk5L3hsaW5rIiBzdHlsZT0ibWFyZ2luOiBhdXRvOyBiYWNrZ3JvdW5kOiBub25lOyBkaXNwbGF5OiBibG9jazsgc2hhcGUtcmVuZGVyaW5nOiBhdXRvOyIgdmlld0JveD0iMCAwIDEwMCAxMDAiIHByZXNlcnZlQXNwZWN0UmF0aW89InhNaWRZTWlkIj4gIDxjaXJjbGUgY3g9IjUwIiBjeT0iNTAiIHI9IjMyIiBzdHJva2Utd2lkdGg9IjgiIHN0cm9rZT0iI2MzYzNjMyIgc3Ryb2tlLWRhc2hhcnJheT0iNTAuMjY1NDgyNDU3NDM2NjkgNTAuMjY1NDgyNDU3NDM2NjkiIGZpbGw9Im5vbmUiIHN0cm9rZS1saW5lY2FwPSJyb3VuZCI+ICAgIDxhbmltYXRlVHJhbnNmb3JtIGF0dHJpYnV0ZU5hbWU9InRyYW5zZm9ybSIgdHlwZT0icm90YXRlIiByZXBlYXRDb3VudD0iaW5kZWZpbml0ZSIgZHVyPSIxcyIga2V5VGltZXM9IjA7MSIgdmFsdWVzPSIwIDUwIDUwOzM2MCA1MCA1MCI+PC9hbmltYXRlVHJhbnNmb3JtPiAgPC9jaXJjbGU+PC9zdmc+\\\");\\n      background-size: auto calc(min(50%, 400px));\\n    }\\n    \");\n",
       "    },    function(Bokeh) {\n",
       "      Bokeh.set_log_level(\"info\");\n",
       "    },\n",
       "function(Bokeh) {} // ensure no trailing comma for IE\n",
       "  ];\n",
       "\n",
       "  function run_inline_js() {\n",
       "    if ((root.Bokeh !== undefined) || (force === true)) {\n",
       "      for (var i = 0; i < inline_js.length; i++) {\n",
       "        inline_js[i].call(root, root.Bokeh);\n",
       "      }} else if (Date.now() < root._bokeh_timeout) {\n",
       "      setTimeout(run_inline_js, 100);\n",
       "    } else if (!root._bokeh_failed_load) {\n",
       "      console.log(\"Bokeh: BokehJS failed to load within specified timeout.\");\n",
       "      root._bokeh_failed_load = true;\n",
       "    }\n",
       "  }\n",
       "\n",
       "  if (root._bokeh_is_loading === 0) {\n",
       "    console.debug(\"Bokeh: BokehJS loaded, going straight to plotting\");\n",
       "    run_inline_js();\n",
       "  } else {\n",
       "    load_libs(css_urls, js_urls, js_modules, function() {\n",
       "      console.debug(\"Bokeh: BokehJS plotting callback run at\", now());\n",
       "      run_inline_js();\n",
       "    });\n",
       "  }\n",
       "}(window));"
      ],
      "application/vnd.holoviews_load.v0+json": "(function(root) {\n  function now() {\n    return new Date();\n  }\n\n  var force = true;\n\n  if (typeof root._bokeh_onload_callbacks === \"undefined\" || force === true) {\n    root._bokeh_onload_callbacks = [];\n    root._bokeh_is_loading = undefined;\n  }\n\n  if (typeof (root._bokeh_timeout) === \"undefined\" || force === true) {\n    root._bokeh_timeout = Date.now() + 5000;\n    root._bokeh_failed_load = false;\n  }\n\n  function run_callbacks() {\n    try {\n      root._bokeh_onload_callbacks.forEach(function(callback) {\n        if (callback != null)\n          callback();\n      });\n    } finally {\n      delete root._bokeh_onload_callbacks\n    }\n    console.debug(\"Bokeh: all callbacks have finished\");\n  }\n\n  function load_libs(css_urls, js_urls, js_modules, callback) {\n    if (css_urls == null) css_urls = [];\n    if (js_urls == null) js_urls = [];\n    if (js_modules == null) js_modules = [];\n\n    root._bokeh_onload_callbacks.push(callback);\n    if (root._bokeh_is_loading > 0) {\n      console.debug(\"Bokeh: BokehJS is being loaded, scheduling callback at\", now());\n      return null;\n    }\n    if (js_urls.length === 0 && js_modules.length === 0) {\n      run_callbacks();\n      return null;\n    }\n    console.debug(\"Bokeh: BokehJS not loaded, scheduling load and callback at\", now());\n\n    function on_load() {\n      root._bokeh_is_loading--;\n      if (root._bokeh_is_loading === 0) {\n        console.debug(\"Bokeh: all BokehJS libraries/stylesheets loaded\");\n        run_callbacks()\n      }\n    }\n\n    function on_error() {\n      console.error(\"failed to load \" + url);\n    }\n\n    for (var i = 0; i < css_urls.length; i++) {\n      var url = css_urls[i];\n      const element = document.createElement(\"link\");\n      element.onload = on_load;\n      element.onerror = on_error;\n      element.rel = \"stylesheet\";\n      element.type = \"text/css\";\n      element.href = url;\n      console.debug(\"Bokeh: injecting link tag for BokehJS stylesheet: \", url);\n      document.body.appendChild(element);\n    }\n\n    var skip = [];\n    if (window.requirejs) {\n      window.requirejs.config({'packages': {}, 'paths': {'tabulator': 'https://unpkg.com/tabulator-tables@4.9.3/dist/js/tabulator', 'moment': 'https://cdn.jsdelivr.net/npm/luxon/build/global/luxon.min', 'gridstack': 'https://cdn.jsdelivr.net/npm/gridstack@4.2.5/dist/gridstack-h5', 'notyf': 'https://cdn.jsdelivr.net/npm/notyf@3/notyf.min'}, 'shim': {'gridstack': {'exports': 'GridStack'}}});\n      require([\"tabulator\"], function(Tabulator) {\n\twindow.Tabulator = Tabulator\n\ton_load()\n      })\n      require([\"moment\"], function(moment) {\n\twindow.moment = moment\n\ton_load()\n      })\n      require([\"gridstack\"], function(GridStack) {\n\twindow.GridStack = GridStack\n\ton_load()\n      })\n      require([\"notyf\"], function() {\n\ton_load()\n      })\n      root._bokeh_is_loading = css_urls.length + 4;\n    } else {\n      root._bokeh_is_loading = css_urls.length + js_urls.length + js_modules.length;\n    }    if (((window['Tabulator'] !== undefined) && (!(window['Tabulator'] instanceof HTMLElement))) || window.requirejs) {\n      var urls = ['https://unpkg.com/tabulator-tables@4.9.3/dist/js/tabulator.js'];\n      for (var i = 0; i < urls.length; i++) {\n        skip.push(urls[i])\n      }\n    }    if (((window['moment'] !== undefined) && (!(window['moment'] instanceof HTMLElement))) || window.requirejs) {\n      var urls = ['https://cdn.jsdelivr.net/npm/luxon/build/global/luxon.min.js'];\n      for (var i = 0; i < urls.length; i++) {\n        skip.push(urls[i])\n      }\n    }    if (((window['GridStack'] !== undefined) && (!(window['GridStack'] instanceof HTMLElement))) || window.requirejs) {\n      var urls = ['https://cdn.jsdelivr.net/npm/gridstack@4.2.5/dist/gridstack-h5.js'];\n      for (var i = 0; i < urls.length; i++) {\n        skip.push(urls[i])\n      }\n    }    if (((window['Notyf'] !== undefined) && (!(window['Notyf'] instanceof HTMLElement))) || window.requirejs) {\n      var urls = ['https://cdn.jsdelivr.net/npm/notyf@3/notyf.min.js'];\n      for (var i = 0; i < urls.length; i++) {\n        skip.push(urls[i])\n      }\n    }    for (var i = 0; i < js_urls.length; i++) {\n      var url = js_urls[i];\n      if (skip.indexOf(url) >= 0) {\n\tif (!window.requirejs) {\n\t  on_load();\n\t}\n\tcontinue;\n      }\n      var element = document.createElement('script');\n      element.onload = on_load;\n      element.onerror = on_error;\n      element.async = false;\n      element.src = url;\n      console.debug(\"Bokeh: injecting script tag for BokehJS library: \", url);\n      document.head.appendChild(element);\n    }\n    for (var i = 0; i < js_modules.length; i++) {\n      var url = js_modules[i];\n      if (skip.indexOf(url) >= 0) {\n\tif (!window.requirejs) {\n\t  on_load();\n\t}\n\tcontinue;\n      }\n      var element = document.createElement('script');\n      element.onload = on_load;\n      element.onerror = on_error;\n      element.async = false;\n      element.src = url;\n      element.type = \"module\";\n      console.debug(\"Bokeh: injecting script tag for BokehJS library: \", url);\n      document.head.appendChild(element);\n    }\n    if (!js_urls.length && !js_modules.length) {\n      on_load()\n    }\n  };\n\n  function inject_raw_css(css) {\n    const element = document.createElement(\"style\");\n    element.appendChild(document.createTextNode(css));\n    document.body.appendChild(element);\n  }\n\n  var js_urls = [\"https://unpkg.com/tabulator-tables@4.9.3/dist/js/tabulator.js\", \"https://cdn.jsdelivr.net/npm/luxon/build/global/luxon.min.js\", \"https://cdn.bokeh.org/bokeh/release/bokeh-2.4.3.min.js\", \"https://cdn.bokeh.org/bokeh/release/bokeh-gl-2.4.3.min.js\", \"https://cdn.bokeh.org/bokeh/release/bokeh-widgets-2.4.3.min.js\", \"https://cdn.bokeh.org/bokeh/release/bokeh-tables-2.4.3.min.js\", \"https://cdn.bokeh.org/bokeh/release/bokeh-mathjax-2.4.3.min.js\", \"https://cdn.jsdelivr.net/npm/notyf@3/notyf.min.js\", \"https://unpkg.com/@holoviz/panel@0.13.1/dist/panel.min.js\"];\n  var js_modules = [];\n  var css_urls = [\"https://unpkg.com/tabulator-tables@4.9.3/dist/css/tabulator_simple.min.css\", \"https://cdn.jsdelivr.net/npm/notyf@3/notyf.min.css\", \"https://cdnjs.cloudflare.com/ajax/libs/font-awesome/5.15.1/css/all.min.css\", \"https://unpkg.com/@holoviz/panel@0.13.1/dist/css/debugger.css\", \"https://unpkg.com/@holoviz/panel@0.13.1/dist/css/alerts.css\", \"https://unpkg.com/@holoviz/panel@0.13.1/dist/css/card.css\", \"https://unpkg.com/@holoviz/panel@0.13.1/dist/css/widgets.css\", \"https://unpkg.com/@holoviz/panel@0.13.1/dist/css/markdown.css\", \"https://unpkg.com/@holoviz/panel@0.13.1/dist/css/json.css\", \"https://unpkg.com/@holoviz/panel@0.13.1/dist/css/loading.css\", \"https://unpkg.com/@holoviz/panel@0.13.1/dist/css/dataframe.css\"];\n  var inline_js = [    function(Bokeh) {\n      inject_raw_css(\"\\n    .bk.pn-loading.arcs:before {\\n      background-image: url(\\\"data:image/svg+xml;base64,PHN2ZyB4bWxucz0iaHR0cDovL3d3dy53My5vcmcvMjAwMC9zdmciIHhtbG5zOnhsaW5rPSJodHRwOi8vd3d3LnczLm9yZy8xOTk5L3hsaW5rIiBzdHlsZT0ibWFyZ2luOiBhdXRvOyBiYWNrZ3JvdW5kOiBub25lOyBkaXNwbGF5OiBibG9jazsgc2hhcGUtcmVuZGVyaW5nOiBhdXRvOyIgdmlld0JveD0iMCAwIDEwMCAxMDAiIHByZXNlcnZlQXNwZWN0UmF0aW89InhNaWRZTWlkIj4gIDxjaXJjbGUgY3g9IjUwIiBjeT0iNTAiIHI9IjMyIiBzdHJva2Utd2lkdGg9IjgiIHN0cm9rZT0iI2MzYzNjMyIgc3Ryb2tlLWRhc2hhcnJheT0iNTAuMjY1NDgyNDU3NDM2NjkgNTAuMjY1NDgyNDU3NDM2NjkiIGZpbGw9Im5vbmUiIHN0cm9rZS1saW5lY2FwPSJyb3VuZCI+ICAgIDxhbmltYXRlVHJhbnNmb3JtIGF0dHJpYnV0ZU5hbWU9InRyYW5zZm9ybSIgdHlwZT0icm90YXRlIiByZXBlYXRDb3VudD0iaW5kZWZpbml0ZSIgZHVyPSIxcyIga2V5VGltZXM9IjA7MSIgdmFsdWVzPSIwIDUwIDUwOzM2MCA1MCA1MCI+PC9hbmltYXRlVHJhbnNmb3JtPiAgPC9jaXJjbGU+PC9zdmc+\\\");\\n      background-size: auto calc(min(50%, 400px));\\n    }\\n    \");\n    },    function(Bokeh) {\n      Bokeh.set_log_level(\"info\");\n    },\nfunction(Bokeh) {} // ensure no trailing comma for IE\n  ];\n\n  function run_inline_js() {\n    if ((root.Bokeh !== undefined) || (force === true)) {\n      for (var i = 0; i < inline_js.length; i++) {\n        inline_js[i].call(root, root.Bokeh);\n      }} else if (Date.now() < root._bokeh_timeout) {\n      setTimeout(run_inline_js, 100);\n    } else if (!root._bokeh_failed_load) {\n      console.log(\"Bokeh: BokehJS failed to load within specified timeout.\");\n      root._bokeh_failed_load = true;\n    }\n  }\n\n  if (root._bokeh_is_loading === 0) {\n    console.debug(\"Bokeh: BokehJS loaded, going straight to plotting\");\n    run_inline_js();\n  } else {\n    load_libs(css_urls, js_urls, js_modules, function() {\n      console.debug(\"Bokeh: BokehJS plotting callback run at\", now());\n      run_inline_js();\n    });\n  }\n}(window));"
     },
     "metadata": {},
     "output_type": "display_data"
    },
    {
     "data": {
      "application/javascript": [
       "\n",
       "if ((window.PyViz === undefined) || (window.PyViz instanceof HTMLElement)) {\n",
       "  window.PyViz = {comms: {}, comm_status:{}, kernels:{}, receivers: {}, plot_index: []}\n",
       "}\n",
       "\n",
       "\n",
       "    function JupyterCommManager() {\n",
       "    }\n",
       "\n",
       "    JupyterCommManager.prototype.register_target = function(plot_id, comm_id, msg_handler) {\n",
       "      if (window.comm_manager || ((window.Jupyter !== undefined) && (Jupyter.notebook.kernel != null))) {\n",
       "        var comm_manager = window.comm_manager || Jupyter.notebook.kernel.comm_manager;\n",
       "        comm_manager.register_target(comm_id, function(comm) {\n",
       "          comm.on_msg(msg_handler);\n",
       "        });\n",
       "      } else if ((plot_id in window.PyViz.kernels) && (window.PyViz.kernels[plot_id])) {\n",
       "        window.PyViz.kernels[plot_id].registerCommTarget(comm_id, function(comm) {\n",
       "          comm.onMsg = msg_handler;\n",
       "        });\n",
       "      } else if (typeof google != 'undefined' && google.colab.kernel != null) {\n",
       "        google.colab.kernel.comms.registerTarget(comm_id, (comm) => {\n",
       "          var messages = comm.messages[Symbol.asyncIterator]();\n",
       "          function processIteratorResult(result) {\n",
       "            var message = result.value;\n",
       "            console.log(message)\n",
       "            var content = {data: message.data, comm_id};\n",
       "            var buffers = []\n",
       "            for (var buffer of message.buffers || []) {\n",
       "              buffers.push(new DataView(buffer))\n",
       "            }\n",
       "            var metadata = message.metadata || {};\n",
       "            var msg = {content, buffers, metadata}\n",
       "            msg_handler(msg);\n",
       "            return messages.next().then(processIteratorResult);\n",
       "          }\n",
       "          return messages.next().then(processIteratorResult);\n",
       "        })\n",
       "      }\n",
       "    }\n",
       "\n",
       "    JupyterCommManager.prototype.get_client_comm = function(plot_id, comm_id, msg_handler) {\n",
       "      if (comm_id in window.PyViz.comms) {\n",
       "        return window.PyViz.comms[comm_id];\n",
       "      } else if (window.comm_manager || ((window.Jupyter !== undefined) && (Jupyter.notebook.kernel != null))) {\n",
       "        var comm_manager = window.comm_manager || Jupyter.notebook.kernel.comm_manager;\n",
       "        var comm = comm_manager.new_comm(comm_id, {}, {}, {}, comm_id);\n",
       "        if (msg_handler) {\n",
       "          comm.on_msg(msg_handler);\n",
       "        }\n",
       "      } else if ((plot_id in window.PyViz.kernels) && (window.PyViz.kernels[plot_id])) {\n",
       "        var comm = window.PyViz.kernels[plot_id].connectToComm(comm_id);\n",
       "        comm.open();\n",
       "        if (msg_handler) {\n",
       "          comm.onMsg = msg_handler;\n",
       "        }\n",
       "      } else if (typeof google != 'undefined' && google.colab.kernel != null) {\n",
       "        var comm_promise = google.colab.kernel.comms.open(comm_id)\n",
       "        comm_promise.then((comm) => {\n",
       "          window.PyViz.comms[comm_id] = comm;\n",
       "          if (msg_handler) {\n",
       "            var messages = comm.messages[Symbol.asyncIterator]();\n",
       "            function processIteratorResult(result) {\n",
       "              var message = result.value;\n",
       "              var content = {data: message.data};\n",
       "              var metadata = message.metadata || {comm_id};\n",
       "              var msg = {content, metadata}\n",
       "              msg_handler(msg);\n",
       "              return messages.next().then(processIteratorResult);\n",
       "            }\n",
       "            return messages.next().then(processIteratorResult);\n",
       "          }\n",
       "        }) \n",
       "        var sendClosure = (data, metadata, buffers, disposeOnDone) => {\n",
       "          return comm_promise.then((comm) => {\n",
       "            comm.send(data, metadata, buffers, disposeOnDone);\n",
       "          });\n",
       "        };\n",
       "        var comm = {\n",
       "          send: sendClosure\n",
       "        };\n",
       "      }\n",
       "      window.PyViz.comms[comm_id] = comm;\n",
       "      return comm;\n",
       "    }\n",
       "    window.PyViz.comm_manager = new JupyterCommManager();\n",
       "    \n",
       "\n",
       "\n",
       "var JS_MIME_TYPE = 'application/javascript';\n",
       "var HTML_MIME_TYPE = 'text/html';\n",
       "var EXEC_MIME_TYPE = 'application/vnd.holoviews_exec.v0+json';\n",
       "var CLASS_NAME = 'output';\n",
       "\n",
       "/**\n",
       " * Render data to the DOM node\n",
       " */\n",
       "function render(props, node) {\n",
       "  var div = document.createElement(\"div\");\n",
       "  var script = document.createElement(\"script\");\n",
       "  node.appendChild(div);\n",
       "  node.appendChild(script);\n",
       "}\n",
       "\n",
       "/**\n",
       " * Handle when a new output is added\n",
       " */\n",
       "function handle_add_output(event, handle) {\n",
       "  var output_area = handle.output_area;\n",
       "  var output = handle.output;\n",
       "  if ((output.data == undefined) || (!output.data.hasOwnProperty(EXEC_MIME_TYPE))) {\n",
       "    return\n",
       "  }\n",
       "  var id = output.metadata[EXEC_MIME_TYPE][\"id\"];\n",
       "  var toinsert = output_area.element.find(\".\" + CLASS_NAME.split(' ')[0]);\n",
       "  if (id !== undefined) {\n",
       "    var nchildren = toinsert.length;\n",
       "    var html_node = toinsert[nchildren-1].children[0];\n",
       "    html_node.innerHTML = output.data[HTML_MIME_TYPE];\n",
       "    var scripts = [];\n",
       "    var nodelist = html_node.querySelectorAll(\"script\");\n",
       "    for (var i in nodelist) {\n",
       "      if (nodelist.hasOwnProperty(i)) {\n",
       "        scripts.push(nodelist[i])\n",
       "      }\n",
       "    }\n",
       "\n",
       "    scripts.forEach( function (oldScript) {\n",
       "      var newScript = document.createElement(\"script\");\n",
       "      var attrs = [];\n",
       "      var nodemap = oldScript.attributes;\n",
       "      for (var j in nodemap) {\n",
       "        if (nodemap.hasOwnProperty(j)) {\n",
       "          attrs.push(nodemap[j])\n",
       "        }\n",
       "      }\n",
       "      attrs.forEach(function(attr) { newScript.setAttribute(attr.name, attr.value) });\n",
       "      newScript.appendChild(document.createTextNode(oldScript.innerHTML));\n",
       "      oldScript.parentNode.replaceChild(newScript, oldScript);\n",
       "    });\n",
       "    if (JS_MIME_TYPE in output.data) {\n",
       "      toinsert[nchildren-1].children[1].textContent = output.data[JS_MIME_TYPE];\n",
       "    }\n",
       "    output_area._hv_plot_id = id;\n",
       "    if ((window.Bokeh !== undefined) && (id in Bokeh.index)) {\n",
       "      window.PyViz.plot_index[id] = Bokeh.index[id];\n",
       "    } else {\n",
       "      window.PyViz.plot_index[id] = null;\n",
       "    }\n",
       "  } else if (output.metadata[EXEC_MIME_TYPE][\"server_id\"] !== undefined) {\n",
       "    var bk_div = document.createElement(\"div\");\n",
       "    bk_div.innerHTML = output.data[HTML_MIME_TYPE];\n",
       "    var script_attrs = bk_div.children[0].attributes;\n",
       "    for (var i = 0; i < script_attrs.length; i++) {\n",
       "      toinsert[toinsert.length - 1].childNodes[1].setAttribute(script_attrs[i].name, script_attrs[i].value);\n",
       "    }\n",
       "    // store reference to server id on output_area\n",
       "    output_area._bokeh_server_id = output.metadata[EXEC_MIME_TYPE][\"server_id\"];\n",
       "  }\n",
       "}\n",
       "\n",
       "/**\n",
       " * Handle when an output is cleared or removed\n",
       " */\n",
       "function handle_clear_output(event, handle) {\n",
       "  var id = handle.cell.output_area._hv_plot_id;\n",
       "  var server_id = handle.cell.output_area._bokeh_server_id;\n",
       "  if (((id === undefined) || !(id in PyViz.plot_index)) && (server_id !== undefined)) { return; }\n",
       "  var comm = window.PyViz.comm_manager.get_client_comm(\"hv-extension-comm\", \"hv-extension-comm\", function () {});\n",
       "  if (server_id !== null) {\n",
       "    comm.send({event_type: 'server_delete', 'id': server_id});\n",
       "    return;\n",
       "  } else if (comm !== null) {\n",
       "    comm.send({event_type: 'delete', 'id': id});\n",
       "  }\n",
       "  delete PyViz.plot_index[id];\n",
       "  if ((window.Bokeh !== undefined) & (id in window.Bokeh.index)) {\n",
       "    var doc = window.Bokeh.index[id].model.document\n",
       "    doc.clear();\n",
       "    const i = window.Bokeh.documents.indexOf(doc);\n",
       "    if (i > -1) {\n",
       "      window.Bokeh.documents.splice(i, 1);\n",
       "    }\n",
       "  }\n",
       "}\n",
       "\n",
       "/**\n",
       " * Handle kernel restart event\n",
       " */\n",
       "function handle_kernel_cleanup(event, handle) {\n",
       "  delete PyViz.comms[\"hv-extension-comm\"];\n",
       "  window.PyViz.plot_index = {}\n",
       "}\n",
       "\n",
       "/**\n",
       " * Handle update_display_data messages\n",
       " */\n",
       "function handle_update_output(event, handle) {\n",
       "  handle_clear_output(event, {cell: {output_area: handle.output_area}})\n",
       "  handle_add_output(event, handle)\n",
       "}\n",
       "\n",
       "function register_renderer(events, OutputArea) {\n",
       "  function append_mime(data, metadata, element) {\n",
       "    // create a DOM node to render to\n",
       "    var toinsert = this.create_output_subarea(\n",
       "    metadata,\n",
       "    CLASS_NAME,\n",
       "    EXEC_MIME_TYPE\n",
       "    );\n",
       "    this.keyboard_manager.register_events(toinsert);\n",
       "    // Render to node\n",
       "    var props = {data: data, metadata: metadata[EXEC_MIME_TYPE]};\n",
       "    render(props, toinsert[0]);\n",
       "    element.append(toinsert);\n",
       "    return toinsert\n",
       "  }\n",
       "\n",
       "  events.on('output_added.OutputArea', handle_add_output);\n",
       "  events.on('output_updated.OutputArea', handle_update_output);\n",
       "  events.on('clear_output.CodeCell', handle_clear_output);\n",
       "  events.on('delete.Cell', handle_clear_output);\n",
       "  events.on('kernel_ready.Kernel', handle_kernel_cleanup);\n",
       "\n",
       "  OutputArea.prototype.register_mime_type(EXEC_MIME_TYPE, append_mime, {\n",
       "    safe: true,\n",
       "    index: 0\n",
       "  });\n",
       "}\n",
       "\n",
       "if (window.Jupyter !== undefined) {\n",
       "  try {\n",
       "    var events = require('base/js/events');\n",
       "    var OutputArea = require('notebook/js/outputarea').OutputArea;\n",
       "    if (OutputArea.prototype.mime_types().indexOf(EXEC_MIME_TYPE) == -1) {\n",
       "      register_renderer(events, OutputArea);\n",
       "    }\n",
       "  } catch(err) {\n",
       "  }\n",
       "}\n"
      ],
      "application/vnd.holoviews_load.v0+json": "\nif ((window.PyViz === undefined) || (window.PyViz instanceof HTMLElement)) {\n  window.PyViz = {comms: {}, comm_status:{}, kernels:{}, receivers: {}, plot_index: []}\n}\n\n\n    function JupyterCommManager() {\n    }\n\n    JupyterCommManager.prototype.register_target = function(plot_id, comm_id, msg_handler) {\n      if (window.comm_manager || ((window.Jupyter !== undefined) && (Jupyter.notebook.kernel != null))) {\n        var comm_manager = window.comm_manager || Jupyter.notebook.kernel.comm_manager;\n        comm_manager.register_target(comm_id, function(comm) {\n          comm.on_msg(msg_handler);\n        });\n      } else if ((plot_id in window.PyViz.kernels) && (window.PyViz.kernels[plot_id])) {\n        window.PyViz.kernels[plot_id].registerCommTarget(comm_id, function(comm) {\n          comm.onMsg = msg_handler;\n        });\n      } else if (typeof google != 'undefined' && google.colab.kernel != null) {\n        google.colab.kernel.comms.registerTarget(comm_id, (comm) => {\n          var messages = comm.messages[Symbol.asyncIterator]();\n          function processIteratorResult(result) {\n            var message = result.value;\n            console.log(message)\n            var content = {data: message.data, comm_id};\n            var buffers = []\n            for (var buffer of message.buffers || []) {\n              buffers.push(new DataView(buffer))\n            }\n            var metadata = message.metadata || {};\n            var msg = {content, buffers, metadata}\n            msg_handler(msg);\n            return messages.next().then(processIteratorResult);\n          }\n          return messages.next().then(processIteratorResult);\n        })\n      }\n    }\n\n    JupyterCommManager.prototype.get_client_comm = function(plot_id, comm_id, msg_handler) {\n      if (comm_id in window.PyViz.comms) {\n        return window.PyViz.comms[comm_id];\n      } else if (window.comm_manager || ((window.Jupyter !== undefined) && (Jupyter.notebook.kernel != null))) {\n        var comm_manager = window.comm_manager || Jupyter.notebook.kernel.comm_manager;\n        var comm = comm_manager.new_comm(comm_id, {}, {}, {}, comm_id);\n        if (msg_handler) {\n          comm.on_msg(msg_handler);\n        }\n      } else if ((plot_id in window.PyViz.kernels) && (window.PyViz.kernels[plot_id])) {\n        var comm = window.PyViz.kernels[plot_id].connectToComm(comm_id);\n        comm.open();\n        if (msg_handler) {\n          comm.onMsg = msg_handler;\n        }\n      } else if (typeof google != 'undefined' && google.colab.kernel != null) {\n        var comm_promise = google.colab.kernel.comms.open(comm_id)\n        comm_promise.then((comm) => {\n          window.PyViz.comms[comm_id] = comm;\n          if (msg_handler) {\n            var messages = comm.messages[Symbol.asyncIterator]();\n            function processIteratorResult(result) {\n              var message = result.value;\n              var content = {data: message.data};\n              var metadata = message.metadata || {comm_id};\n              var msg = {content, metadata}\n              msg_handler(msg);\n              return messages.next().then(processIteratorResult);\n            }\n            return messages.next().then(processIteratorResult);\n          }\n        }) \n        var sendClosure = (data, metadata, buffers, disposeOnDone) => {\n          return comm_promise.then((comm) => {\n            comm.send(data, metadata, buffers, disposeOnDone);\n          });\n        };\n        var comm = {\n          send: sendClosure\n        };\n      }\n      window.PyViz.comms[comm_id] = comm;\n      return comm;\n    }\n    window.PyViz.comm_manager = new JupyterCommManager();\n    \n\n\nvar JS_MIME_TYPE = 'application/javascript';\nvar HTML_MIME_TYPE = 'text/html';\nvar EXEC_MIME_TYPE = 'application/vnd.holoviews_exec.v0+json';\nvar CLASS_NAME = 'output';\n\n/**\n * Render data to the DOM node\n */\nfunction render(props, node) {\n  var div = document.createElement(\"div\");\n  var script = document.createElement(\"script\");\n  node.appendChild(div);\n  node.appendChild(script);\n}\n\n/**\n * Handle when a new output is added\n */\nfunction handle_add_output(event, handle) {\n  var output_area = handle.output_area;\n  var output = handle.output;\n  if ((output.data == undefined) || (!output.data.hasOwnProperty(EXEC_MIME_TYPE))) {\n    return\n  }\n  var id = output.metadata[EXEC_MIME_TYPE][\"id\"];\n  var toinsert = output_area.element.find(\".\" + CLASS_NAME.split(' ')[0]);\n  if (id !== undefined) {\n    var nchildren = toinsert.length;\n    var html_node = toinsert[nchildren-1].children[0];\n    html_node.innerHTML = output.data[HTML_MIME_TYPE];\n    var scripts = [];\n    var nodelist = html_node.querySelectorAll(\"script\");\n    for (var i in nodelist) {\n      if (nodelist.hasOwnProperty(i)) {\n        scripts.push(nodelist[i])\n      }\n    }\n\n    scripts.forEach( function (oldScript) {\n      var newScript = document.createElement(\"script\");\n      var attrs = [];\n      var nodemap = oldScript.attributes;\n      for (var j in nodemap) {\n        if (nodemap.hasOwnProperty(j)) {\n          attrs.push(nodemap[j])\n        }\n      }\n      attrs.forEach(function(attr) { newScript.setAttribute(attr.name, attr.value) });\n      newScript.appendChild(document.createTextNode(oldScript.innerHTML));\n      oldScript.parentNode.replaceChild(newScript, oldScript);\n    });\n    if (JS_MIME_TYPE in output.data) {\n      toinsert[nchildren-1].children[1].textContent = output.data[JS_MIME_TYPE];\n    }\n    output_area._hv_plot_id = id;\n    if ((window.Bokeh !== undefined) && (id in Bokeh.index)) {\n      window.PyViz.plot_index[id] = Bokeh.index[id];\n    } else {\n      window.PyViz.plot_index[id] = null;\n    }\n  } else if (output.metadata[EXEC_MIME_TYPE][\"server_id\"] !== undefined) {\n    var bk_div = document.createElement(\"div\");\n    bk_div.innerHTML = output.data[HTML_MIME_TYPE];\n    var script_attrs = bk_div.children[0].attributes;\n    for (var i = 0; i < script_attrs.length; i++) {\n      toinsert[toinsert.length - 1].childNodes[1].setAttribute(script_attrs[i].name, script_attrs[i].value);\n    }\n    // store reference to server id on output_area\n    output_area._bokeh_server_id = output.metadata[EXEC_MIME_TYPE][\"server_id\"];\n  }\n}\n\n/**\n * Handle when an output is cleared or removed\n */\nfunction handle_clear_output(event, handle) {\n  var id = handle.cell.output_area._hv_plot_id;\n  var server_id = handle.cell.output_area._bokeh_server_id;\n  if (((id === undefined) || !(id in PyViz.plot_index)) && (server_id !== undefined)) { return; }\n  var comm = window.PyViz.comm_manager.get_client_comm(\"hv-extension-comm\", \"hv-extension-comm\", function () {});\n  if (server_id !== null) {\n    comm.send({event_type: 'server_delete', 'id': server_id});\n    return;\n  } else if (comm !== null) {\n    comm.send({event_type: 'delete', 'id': id});\n  }\n  delete PyViz.plot_index[id];\n  if ((window.Bokeh !== undefined) & (id in window.Bokeh.index)) {\n    var doc = window.Bokeh.index[id].model.document\n    doc.clear();\n    const i = window.Bokeh.documents.indexOf(doc);\n    if (i > -1) {\n      window.Bokeh.documents.splice(i, 1);\n    }\n  }\n}\n\n/**\n * Handle kernel restart event\n */\nfunction handle_kernel_cleanup(event, handle) {\n  delete PyViz.comms[\"hv-extension-comm\"];\n  window.PyViz.plot_index = {}\n}\n\n/**\n * Handle update_display_data messages\n */\nfunction handle_update_output(event, handle) {\n  handle_clear_output(event, {cell: {output_area: handle.output_area}})\n  handle_add_output(event, handle)\n}\n\nfunction register_renderer(events, OutputArea) {\n  function append_mime(data, metadata, element) {\n    // create a DOM node to render to\n    var toinsert = this.create_output_subarea(\n    metadata,\n    CLASS_NAME,\n    EXEC_MIME_TYPE\n    );\n    this.keyboard_manager.register_events(toinsert);\n    // Render to node\n    var props = {data: data, metadata: metadata[EXEC_MIME_TYPE]};\n    render(props, toinsert[0]);\n    element.append(toinsert);\n    return toinsert\n  }\n\n  events.on('output_added.OutputArea', handle_add_output);\n  events.on('output_updated.OutputArea', handle_update_output);\n  events.on('clear_output.CodeCell', handle_clear_output);\n  events.on('delete.Cell', handle_clear_output);\n  events.on('kernel_ready.Kernel', handle_kernel_cleanup);\n\n  OutputArea.prototype.register_mime_type(EXEC_MIME_TYPE, append_mime, {\n    safe: true,\n    index: 0\n  });\n}\n\nif (window.Jupyter !== undefined) {\n  try {\n    var events = require('base/js/events');\n    var OutputArea = require('notebook/js/outputarea').OutputArea;\n    if (OutputArea.prototype.mime_types().indexOf(EXEC_MIME_TYPE) == -1) {\n      register_renderer(events, OutputArea);\n    }\n  } catch(err) {\n  }\n}\n"
     },
     "metadata": {},
     "output_type": "display_data"
    },
    {
     "data": {
      "text/html": [
       "<style>.bk-root, .bk-root .bk:before, .bk-root .bk:after {\n",
       "  font-family: var(--jp-ui-font-size1);\n",
       "  font-size: var(--jp-ui-font-size1);\n",
       "  color: var(--jp-ui-font-color1);\n",
       "}\n",
       "</style>"
      ]
     },
     "metadata": {},
     "output_type": "display_data"
    }
   ],
   "source": [
    "\n",
    "import pandas as pd\n",
    "import numpy as np\n",
    "import panel as pn\n",
    "pn.extension('tabulator')\n",
    "import pycountry_convert as pc\n",
    "import hvplot.pandas\n",
    "import holoviews as hv\n",
    "\n"
   ]
  },
  {
   "cell_type": "markdown",
   "id": "3589ea53",
   "metadata": {},
   "source": [
    "###Install some libraries"
   ]
  },
  {
   "cell_type": "markdown",
   "id": "c90f691c",
   "metadata": {},
   "source": [
    "pip install country_converter -upgrade"
   ]
  },
  {
   "cell_type": "markdown",
   "id": "6036f3a9",
   "metadata": {},
   "source": [
    "pip install dataprep"
   ]
  },
  {
   "cell_type": "markdown",
   "id": "3b00283a",
   "metadata": {},
   "source": [
    "pip install pycountry-convert"
   ]
  },
  {
   "cell_type": "code",
   "execution_count": 224,
   "id": "f184feae",
   "metadata": {
    "scrolled": true
   },
   "outputs": [
    {
     "data": {
      "text/html": [
       "<div>\n",
       "<style scoped>\n",
       "    .dataframe tbody tr th:only-of-type {\n",
       "        vertical-align: middle;\n",
       "    }\n",
       "\n",
       "    .dataframe tbody tr th {\n",
       "        vertical-align: top;\n",
       "    }\n",
       "\n",
       "    .dataframe thead th {\n",
       "        text-align: right;\n",
       "    }\n",
       "</style>\n",
       "<table border=\"1\" class=\"dataframe\">\n",
       "  <thead>\n",
       "    <tr style=\"text-align: right;\">\n",
       "      <th></th>\n",
       "      <th>Country</th>\n",
       "      <th>ISO 3166-1 alpha-3</th>\n",
       "      <th>Year</th>\n",
       "      <th>Total</th>\n",
       "      <th>Coal</th>\n",
       "      <th>Oil</th>\n",
       "      <th>Gas</th>\n",
       "      <th>Cement</th>\n",
       "      <th>Flaring</th>\n",
       "      <th>Other</th>\n",
       "      <th>Per Capita</th>\n",
       "    </tr>\n",
       "  </thead>\n",
       "  <tbody>\n",
       "    <tr>\n",
       "      <th>0</th>\n",
       "      <td>Afghanistan</td>\n",
       "      <td>AFG</td>\n",
       "      <td>1750</td>\n",
       "      <td>0.000000</td>\n",
       "      <td>NaN</td>\n",
       "      <td>NaN</td>\n",
       "      <td>NaN</td>\n",
       "      <td>NaN</td>\n",
       "      <td>NaN</td>\n",
       "      <td>NaN</td>\n",
       "      <td>NaN</td>\n",
       "    </tr>\n",
       "    <tr>\n",
       "      <th>1</th>\n",
       "      <td>Afghanistan</td>\n",
       "      <td>AFG</td>\n",
       "      <td>1751</td>\n",
       "      <td>0.000000</td>\n",
       "      <td>NaN</td>\n",
       "      <td>NaN</td>\n",
       "      <td>NaN</td>\n",
       "      <td>NaN</td>\n",
       "      <td>NaN</td>\n",
       "      <td>NaN</td>\n",
       "      <td>NaN</td>\n",
       "    </tr>\n",
       "    <tr>\n",
       "      <th>2</th>\n",
       "      <td>Afghanistan</td>\n",
       "      <td>AFG</td>\n",
       "      <td>1752</td>\n",
       "      <td>0.000000</td>\n",
       "      <td>NaN</td>\n",
       "      <td>NaN</td>\n",
       "      <td>NaN</td>\n",
       "      <td>NaN</td>\n",
       "      <td>NaN</td>\n",
       "      <td>NaN</td>\n",
       "      <td>NaN</td>\n",
       "    </tr>\n",
       "    <tr>\n",
       "      <th>3</th>\n",
       "      <td>Afghanistan</td>\n",
       "      <td>AFG</td>\n",
       "      <td>1753</td>\n",
       "      <td>0.000000</td>\n",
       "      <td>NaN</td>\n",
       "      <td>NaN</td>\n",
       "      <td>NaN</td>\n",
       "      <td>NaN</td>\n",
       "      <td>NaN</td>\n",
       "      <td>NaN</td>\n",
       "      <td>NaN</td>\n",
       "    </tr>\n",
       "    <tr>\n",
       "      <th>4</th>\n",
       "      <td>Afghanistan</td>\n",
       "      <td>AFG</td>\n",
       "      <td>1754</td>\n",
       "      <td>0.000000</td>\n",
       "      <td>NaN</td>\n",
       "      <td>NaN</td>\n",
       "      <td>NaN</td>\n",
       "      <td>NaN</td>\n",
       "      <td>NaN</td>\n",
       "      <td>NaN</td>\n",
       "      <td>NaN</td>\n",
       "    </tr>\n",
       "    <tr>\n",
       "      <th>...</th>\n",
       "      <td>...</td>\n",
       "      <td>...</td>\n",
       "      <td>...</td>\n",
       "      <td>...</td>\n",
       "      <td>...</td>\n",
       "      <td>...</td>\n",
       "      <td>...</td>\n",
       "      <td>...</td>\n",
       "      <td>...</td>\n",
       "      <td>...</td>\n",
       "      <td>...</td>\n",
       "    </tr>\n",
       "    <tr>\n",
       "      <th>63099</th>\n",
       "      <td>Global</td>\n",
       "      <td>WLD</td>\n",
       "      <td>2017</td>\n",
       "      <td>36096.739276</td>\n",
       "      <td>14506.973805</td>\n",
       "      <td>12242.627935</td>\n",
       "      <td>7144.928128</td>\n",
       "      <td>1507.923185</td>\n",
       "      <td>391.992176</td>\n",
       "      <td>302.294047</td>\n",
       "      <td>4.749682</td>\n",
       "    </tr>\n",
       "    <tr>\n",
       "      <th>63100</th>\n",
       "      <td>Global</td>\n",
       "      <td>WLD</td>\n",
       "      <td>2018</td>\n",
       "      <td>36826.506600</td>\n",
       "      <td>14746.830688</td>\n",
       "      <td>12266.016285</td>\n",
       "      <td>7529.846784</td>\n",
       "      <td>1569.218392</td>\n",
       "      <td>412.115746</td>\n",
       "      <td>302.478706</td>\n",
       "      <td>4.792753</td>\n",
       "    </tr>\n",
       "    <tr>\n",
       "      <th>63101</th>\n",
       "      <td>Global</td>\n",
       "      <td>WLD</td>\n",
       "      <td>2019</td>\n",
       "      <td>37082.558969</td>\n",
       "      <td>14725.978025</td>\n",
       "      <td>12345.653374</td>\n",
       "      <td>7647.528220</td>\n",
       "      <td>1617.506786</td>\n",
       "      <td>439.253991</td>\n",
       "      <td>306.638573</td>\n",
       "      <td>4.775633</td>\n",
       "    </tr>\n",
       "    <tr>\n",
       "      <th>63102</th>\n",
       "      <td>Global</td>\n",
       "      <td>WLD</td>\n",
       "      <td>2020</td>\n",
       "      <td>35264.085734</td>\n",
       "      <td>14174.564010</td>\n",
       "      <td>11191.808551</td>\n",
       "      <td>7556.290283</td>\n",
       "      <td>1637.537532</td>\n",
       "      <td>407.583673</td>\n",
       "      <td>296.301685</td>\n",
       "      <td>4.497423</td>\n",
       "    </tr>\n",
       "    <tr>\n",
       "      <th>63103</th>\n",
       "      <td>Global</td>\n",
       "      <td>WLD</td>\n",
       "      <td>2021</td>\n",
       "      <td>37123.850352</td>\n",
       "      <td>14979.598083</td>\n",
       "      <td>11837.159116</td>\n",
       "      <td>7921.829472</td>\n",
       "      <td>1672.592372</td>\n",
       "      <td>416.525563</td>\n",
       "      <td>296.145746</td>\n",
       "      <td>4.693699</td>\n",
       "    </tr>\n",
       "  </tbody>\n",
       "</table>\n",
       "<p>63104 rows × 11 columns</p>\n",
       "</div>"
      ],
      "text/plain": [
       "           Country ISO 3166-1 alpha-3  Year         Total          Coal  \\\n",
       "0      Afghanistan                AFG  1750      0.000000           NaN   \n",
       "1      Afghanistan                AFG  1751      0.000000           NaN   \n",
       "2      Afghanistan                AFG  1752      0.000000           NaN   \n",
       "3      Afghanistan                AFG  1753      0.000000           NaN   \n",
       "4      Afghanistan                AFG  1754      0.000000           NaN   \n",
       "...            ...                ...   ...           ...           ...   \n",
       "63099       Global                WLD  2017  36096.739276  14506.973805   \n",
       "63100       Global                WLD  2018  36826.506600  14746.830688   \n",
       "63101       Global                WLD  2019  37082.558969  14725.978025   \n",
       "63102       Global                WLD  2020  35264.085734  14174.564010   \n",
       "63103       Global                WLD  2021  37123.850352  14979.598083   \n",
       "\n",
       "                Oil          Gas       Cement     Flaring       Other  \\\n",
       "0               NaN          NaN          NaN         NaN         NaN   \n",
       "1               NaN          NaN          NaN         NaN         NaN   \n",
       "2               NaN          NaN          NaN         NaN         NaN   \n",
       "3               NaN          NaN          NaN         NaN         NaN   \n",
       "4               NaN          NaN          NaN         NaN         NaN   \n",
       "...             ...          ...          ...         ...         ...   \n",
       "63099  12242.627935  7144.928128  1507.923185  391.992176  302.294047   \n",
       "63100  12266.016285  7529.846784  1569.218392  412.115746  302.478706   \n",
       "63101  12345.653374  7647.528220  1617.506786  439.253991  306.638573   \n",
       "63102  11191.808551  7556.290283  1637.537532  407.583673  296.301685   \n",
       "63103  11837.159116  7921.829472  1672.592372  416.525563  296.145746   \n",
       "\n",
       "       Per Capita  \n",
       "0             NaN  \n",
       "1             NaN  \n",
       "2             NaN  \n",
       "3             NaN  \n",
       "4             NaN  \n",
       "...           ...  \n",
       "63099    4.749682  \n",
       "63100    4.792753  \n",
       "63101    4.775633  \n",
       "63102    4.497423  \n",
       "63103    4.693699  \n",
       "\n",
       "[63104 rows x 11 columns]"
      ]
     },
     "execution_count": 224,
     "metadata": {},
     "output_type": "execute_result"
    }
   ],
   "source": [
    " # importing the data\n",
    " df = pd.read_csv(\"GCB2022v27_MtCO2_flat.csv\")\n",
    "df"
   ]
  },
  {
   "cell_type": "markdown",
   "id": "9663d994",
   "metadata": {},
   "source": [
    "###DATA CLEANING"
   ]
  },
  {
   "cell_type": "code",
   "execution_count": 225,
   "id": "8f76f756",
   "metadata": {},
   "outputs": [
    {
     "name": "stdout",
     "output_type": "stream",
     "text": [
      "<class 'pandas.core.frame.DataFrame'>\n",
      "RangeIndex: 63104 entries, 0 to 63103\n",
      "Data columns (total 11 columns):\n",
      " #   Column              Non-Null Count  Dtype  \n",
      "---  ------              --------------  -----  \n",
      " 0   Country             63104 non-null  object \n",
      " 1   ISO 3166-1 alpha-3  61472 non-null  object \n",
      " 2   Year                63104 non-null  int64  \n",
      " 3   Total               62904 non-null  float64\n",
      " 4   Coal                21744 non-null  float64\n",
      " 5   Oil                 21717 non-null  float64\n",
      " 6   Gas                 21618 non-null  float64\n",
      " 7   Cement              20814 non-null  float64\n",
      " 8   Flaring             21550 non-null  float64\n",
      " 9   Other               1620 non-null   float64\n",
      " 10  Per Capita          18974 non-null  float64\n",
      "dtypes: float64(8), int64(1), object(2)\n",
      "memory usage: 5.3+ MB\n"
     ]
    }
   ],
   "source": [
    "df.info()"
   ]
  },
  {
   "cell_type": "code",
   "execution_count": 226,
   "id": "2d4df584",
   "metadata": {},
   "outputs": [
    {
     "data": {
      "text/html": [
       "<div>\n",
       "<style scoped>\n",
       "    .dataframe tbody tr th:only-of-type {\n",
       "        vertical-align: middle;\n",
       "    }\n",
       "\n",
       "    .dataframe tbody tr th {\n",
       "        vertical-align: top;\n",
       "    }\n",
       "\n",
       "    .dataframe thead th {\n",
       "        text-align: right;\n",
       "    }\n",
       "</style>\n",
       "<table border=\"1\" class=\"dataframe\">\n",
       "  <thead>\n",
       "    <tr style=\"text-align: right;\">\n",
       "      <th></th>\n",
       "      <th>Year</th>\n",
       "      <th>Total</th>\n",
       "      <th>Coal</th>\n",
       "      <th>Oil</th>\n",
       "      <th>Gas</th>\n",
       "      <th>Cement</th>\n",
       "      <th>Flaring</th>\n",
       "      <th>Other</th>\n",
       "      <th>Per Capita</th>\n",
       "    </tr>\n",
       "  </thead>\n",
       "  <tbody>\n",
       "    <tr>\n",
       "      <th>count</th>\n",
       "      <td>63104.000000</td>\n",
       "      <td>62904.000000</td>\n",
       "      <td>21744.000000</td>\n",
       "      <td>21717.000000</td>\n",
       "      <td>21618.000000</td>\n",
       "      <td>20814.000000</td>\n",
       "      <td>21550.000000</td>\n",
       "      <td>1620.000000</td>\n",
       "      <td>18974.000000</td>\n",
       "    </tr>\n",
       "    <tr>\n",
       "      <th>mean</th>\n",
       "      <td>1885.500000</td>\n",
       "      <td>55.224788</td>\n",
       "      <td>73.968916</td>\n",
       "      <td>55.760624</td>\n",
       "      <td>23.504285</td>\n",
       "      <td>4.330443</td>\n",
       "      <td>1.712695</td>\n",
       "      <td>10.951389</td>\n",
       "      <td>4.413363</td>\n",
       "    </tr>\n",
       "    <tr>\n",
       "      <th>std</th>\n",
       "      <td>78.519728</td>\n",
       "      <td>824.845435</td>\n",
       "      <td>598.986992</td>\n",
       "      <td>519.034563</td>\n",
       "      <td>247.674772</td>\n",
       "      <td>50.305770</td>\n",
       "      <td>16.727067</td>\n",
       "      <td>39.034073</td>\n",
       "      <td>17.432815</td>\n",
       "    </tr>\n",
       "    <tr>\n",
       "      <th>min</th>\n",
       "      <td>1750.000000</td>\n",
       "      <td>0.000000</td>\n",
       "      <td>0.000000</td>\n",
       "      <td>0.000000</td>\n",
       "      <td>0.000000</td>\n",
       "      <td>0.000000</td>\n",
       "      <td>0.000000</td>\n",
       "      <td>0.000000</td>\n",
       "      <td>0.000000</td>\n",
       "    </tr>\n",
       "    <tr>\n",
       "      <th>25%</th>\n",
       "      <td>1817.750000</td>\n",
       "      <td>0.000000</td>\n",
       "      <td>0.000000</td>\n",
       "      <td>0.091600</td>\n",
       "      <td>0.000000</td>\n",
       "      <td>0.000000</td>\n",
       "      <td>0.000000</td>\n",
       "      <td>0.520885</td>\n",
       "      <td>0.197866</td>\n",
       "    </tr>\n",
       "    <tr>\n",
       "      <th>50%</th>\n",
       "      <td>1885.500000</td>\n",
       "      <td>0.000000</td>\n",
       "      <td>0.271852</td>\n",
       "      <td>1.044240</td>\n",
       "      <td>0.000000</td>\n",
       "      <td>0.022756</td>\n",
       "      <td>0.000000</td>\n",
       "      <td>1.255329</td>\n",
       "      <td>1.303949</td>\n",
       "    </tr>\n",
       "    <tr>\n",
       "      <th>75%</th>\n",
       "      <td>1953.250000</td>\n",
       "      <td>0.549342</td>\n",
       "      <td>6.736411</td>\n",
       "      <td>8.339752</td>\n",
       "      <td>0.581628</td>\n",
       "      <td>0.568502</td>\n",
       "      <td>0.000000</td>\n",
       "      <td>4.385471</td>\n",
       "      <td>5.077994</td>\n",
       "    </tr>\n",
       "    <tr>\n",
       "      <th>max</th>\n",
       "      <td>2021.000000</td>\n",
       "      <td>37123.850352</td>\n",
       "      <td>15051.512770</td>\n",
       "      <td>12345.653374</td>\n",
       "      <td>7921.829472</td>\n",
       "      <td>1672.592372</td>\n",
       "      <td>439.253991</td>\n",
       "      <td>306.638573</td>\n",
       "      <td>834.192642</td>\n",
       "    </tr>\n",
       "  </tbody>\n",
       "</table>\n",
       "</div>"
      ],
      "text/plain": [
       "               Year         Total          Coal           Oil           Gas  \\\n",
       "count  63104.000000  62904.000000  21744.000000  21717.000000  21618.000000   \n",
       "mean    1885.500000     55.224788     73.968916     55.760624     23.504285   \n",
       "std       78.519728    824.845435    598.986992    519.034563    247.674772   \n",
       "min     1750.000000      0.000000      0.000000      0.000000      0.000000   \n",
       "25%     1817.750000      0.000000      0.000000      0.091600      0.000000   \n",
       "50%     1885.500000      0.000000      0.271852      1.044240      0.000000   \n",
       "75%     1953.250000      0.549342      6.736411      8.339752      0.581628   \n",
       "max     2021.000000  37123.850352  15051.512770  12345.653374   7921.829472   \n",
       "\n",
       "             Cement       Flaring        Other    Per Capita  \n",
       "count  20814.000000  21550.000000  1620.000000  18974.000000  \n",
       "mean       4.330443      1.712695    10.951389      4.413363  \n",
       "std       50.305770     16.727067    39.034073     17.432815  \n",
       "min        0.000000      0.000000     0.000000      0.000000  \n",
       "25%        0.000000      0.000000     0.520885      0.197866  \n",
       "50%        0.022756      0.000000     1.255329      1.303949  \n",
       "75%        0.568502      0.000000     4.385471      5.077994  \n",
       "max     1672.592372    439.253991   306.638573    834.192642  "
      ]
     },
     "execution_count": 226,
     "metadata": {},
     "output_type": "execute_result"
    }
   ],
   "source": [
    "df.describe()"
   ]
  },
  {
   "cell_type": "code",
   "execution_count": 227,
   "id": "6371534f",
   "metadata": {},
   "outputs": [
    {
     "data": {
      "text/plain": [
       "0"
      ]
     },
     "execution_count": 227,
     "metadata": {},
     "output_type": "execute_result"
    }
   ],
   "source": [
    "# Checks total duplicate rows\n",
    "duplicate = df.duplicated(keep=False).sum()\n",
    "duplicate"
   ]
  },
  {
   "cell_type": "code",
   "execution_count": 228,
   "id": "de839203",
   "metadata": {},
   "outputs": [
    {
     "data": {
      "text/plain": [
       "Country                   0\n",
       "Year                      0\n",
       "Total                   200\n",
       "ISO 3166-1 alpha-3     1632\n",
       "Coal                  41360\n",
       "Oil                   41387\n",
       "Gas                   41486\n",
       "Flaring               41554\n",
       "Cement                42290\n",
       "Per Capita            44130\n",
       "Other                 61484\n",
       "dtype: int64"
      ]
     },
     "execution_count": 228,
     "metadata": {},
     "output_type": "execute_result"
    }
   ],
   "source": [
    "## check how many columns contains null values\n",
    "df.isnull().sum().sort_values()"
   ]
  },
  {
   "cell_type": "code",
   "execution_count": 229,
   "id": "d9bf6480",
   "metadata": {},
   "outputs": [],
   "source": [
    "# Asumming that if a country does not have a\n",
    "df.fillna(0, inplace = True)"
   ]
  },
  {
   "cell_type": "code",
   "execution_count": null,
   "id": "b54de61a",
   "metadata": {},
   "outputs": [],
   "source": [
    "# some countries places in the dataset are not countires, so i dropped them.\n",
    "indexAge = df[ (df['Country'] == \"St. Kitts-Nevis-Anguilla\")].index\n",
    "df.drop(indexAge , inplace=True)\n",
    "df.head(15)"
   ]
  },
  {
   "cell_type": "code",
   "execution_count": null,
   "id": "6da275a6",
   "metadata": {},
   "outputs": [],
   "source": [
    "df[\"Country\"].unique()"
   ]
  },
  {
   "cell_type": "code",
   "execution_count": 371,
   "id": "c90036f3",
   "metadata": {},
   "outputs": [],
   "source": [
    "df.to_csv('file1.csv')"
   ]
  },
  {
   "cell_type": "code",
   "execution_count": 387,
   "id": "190c2609",
   "metadata": {},
   "outputs": [],
   "source": [
    "df.rename(columns={\"Total\": \"Total_CO2\"}, inplace=True)"
   ]
  },
  {
   "cell_type": "code",
   "execution_count": 366,
   "id": "bc73df06",
   "metadata": {},
   "outputs": [],
   "source": [
    "# Make DataFrame Pipeline Interactive\n",
    "idf = df.interactive()"
   ]
  },
  {
   "cell_type": "markdown",
   "id": "986c4a24",
   "metadata": {},
   "source": [
    "### map each country to its continent"
   ]
  },
  {
   "cell_type": "code",
   "execution_count": 247,
   "id": "2dcba243",
   "metadata": {},
   "outputs": [],
   "source": [
    "# see the pycountry_ onverter documentation\n",
    "def convert (row):\n",
    "    # convert country name to country code\n",
    "    cn_code = pc.country_name_to_country_alpha2(row.Country, cn_name_format= \"default\")\n",
    "    \n",
    "    # convert country code to continent code\n",
    "    conti_code = pc.country_alpha2_to_continent_code(cn_code)\n",
    "    return conti_code\n"
   ]
  },
  {
   "cell_type": "code",
   "execution_count": 275,
   "id": "bc83079f",
   "metadata": {},
   "outputs": [],
   "source": [
    "# crete a new column with continent code\n",
    "df[\"continent\"]= df.apply(convert, axis = 1)\n"
   ]
  },
  {
   "cell_type": "code",
   "execution_count": 276,
   "id": "62387ea0",
   "metadata": {},
   "outputs": [
    {
     "data": {
      "text/plain": [
       "array(['AS', 'EU', 'AF', 'NA', 'SA', 'OC'], dtype=object)"
      ]
     },
     "execution_count": 276,
     "metadata": {},
     "output_type": "execute_result"
    }
   ],
   "source": [
    "df[\"continent\"].unique()"
   ]
  },
  {
   "cell_type": "code",
   "execution_count": 277,
   "id": "556b4f77",
   "metadata": {},
   "outputs": [],
   "source": [
    "# map continent code to continent name\n",
    "conti_name = {\"AS\": \"Asia\",\n",
    "             \"SA\": \"South America\",\n",
    "             \"EU\":\"Europe\",\n",
    "             \"AF\": \"Africa\",\n",
    "             \"NA\":\"North America\",\n",
    "             \"OC\": \"Oceania\"}\n",
    "df[\"continent\"] = df[\"continent\"].map(conti_name)"
   ]
  },
  {
   "cell_type": "markdown",
   "id": "2e74b219",
   "metadata": {},
   "source": [
    "###CO2 emission over time by continent"
   ]
  },
  {
   "cell_type": "code",
   "execution_count": 403,
   "id": "d0e85849",
   "metadata": {},
   "outputs": [
    {
     "data": {},
     "metadata": {},
     "output_type": "display_data"
    },
    {
     "data": {
      "application/vnd.holoviews_exec.v0+json": "",
      "text/html": [
       "<div id='60369'>\n",
       "  <div class=\"bk-root\" id=\"489be68c-cafc-470b-a645-84f76d418be8\" data-root-id=\"60369\"></div>\n",
       "</div>\n",
       "<script type=\"application/javascript\">(function(root) {\n",
       "  function embed_document(root) {\n",
       "    var docs_json = {\"a6d8fb2a-da03-404d-be08-0b0a90f17fa4\":{\"defs\":[{\"extends\":null,\"module\":null,\"name\":\"ReactiveHTML1\",\"overrides\":[],\"properties\":[]},{\"extends\":null,\"module\":null,\"name\":\"FlexBox1\",\"overrides\":[],\"properties\":[{\"default\":\"flex-start\",\"kind\":null,\"name\":\"align_content\"},{\"default\":\"flex-start\",\"kind\":null,\"name\":\"align_items\"},{\"default\":\"row\",\"kind\":null,\"name\":\"flex_direction\"},{\"default\":\"wrap\",\"kind\":null,\"name\":\"flex_wrap\"},{\"default\":\"flex-start\",\"kind\":null,\"name\":\"justify_content\"}]},{\"extends\":null,\"module\":null,\"name\":\"GridStack1\",\"overrides\":[],\"properties\":[{\"default\":\"warn\",\"kind\":null,\"name\":\"mode\"},{\"default\":null,\"kind\":null,\"name\":\"ncols\"},{\"default\":null,\"kind\":null,\"name\":\"nrows\"},{\"default\":true,\"kind\":null,\"name\":\"allow_resize\"},{\"default\":true,\"kind\":null,\"name\":\"allow_drag\"},{\"default\":[],\"kind\":null,\"name\":\"state\"}]},{\"extends\":null,\"module\":null,\"name\":\"click1\",\"overrides\":[],\"properties\":[{\"default\":\"\",\"kind\":null,\"name\":\"terminal_output\"},{\"default\":\"\",\"kind\":null,\"name\":\"debug_name\"},{\"default\":0,\"kind\":null,\"name\":\"clears\"}]},{\"extends\":null,\"module\":null,\"name\":\"NotificationAreaBase1\",\"overrides\":[],\"properties\":[{\"default\":\"bottom-right\",\"kind\":null,\"name\":\"position\"},{\"default\":0,\"kind\":null,\"name\":\"_clear\"}]},{\"extends\":null,\"module\":null,\"name\":\"NotificationArea1\",\"overrides\":[],\"properties\":[{\"default\":[],\"kind\":null,\"name\":\"notifications\"},{\"default\":\"bottom-right\",\"kind\":null,\"name\":\"position\"},{\"default\":0,\"kind\":null,\"name\":\"_clear\"},{\"default\":[{\"background\":\"#ffc107\",\"icon\":{\"className\":\"fas fa-exclamation-triangle\",\"color\":\"white\",\"tagName\":\"i\"},\"type\":\"warning\"},{\"background\":\"#007bff\",\"icon\":{\"className\":\"fas fa-info-circle\",\"color\":\"white\",\"tagName\":\"i\"},\"type\":\"info\"}],\"kind\":null,\"name\":\"types\"}]},{\"extends\":null,\"module\":null,\"name\":\"Notification\",\"overrides\":[],\"properties\":[{\"default\":null,\"kind\":null,\"name\":\"background\"},{\"default\":3000,\"kind\":null,\"name\":\"duration\"},{\"default\":null,\"kind\":null,\"name\":\"icon\"},{\"default\":\"\",\"kind\":null,\"name\":\"message\"},{\"default\":null,\"kind\":null,\"name\":\"notification_type\"},{\"default\":false,\"kind\":null,\"name\":\"_destroyed\"}]},{\"extends\":null,\"module\":null,\"name\":\"TemplateActions1\",\"overrides\":[],\"properties\":[{\"default\":0,\"kind\":null,\"name\":\"open_modal\"},{\"default\":0,\"kind\":null,\"name\":\"close_modal\"}]},{\"extends\":null,\"module\":null,\"name\":\"MaterialTemplateActions1\",\"overrides\":[],\"properties\":[{\"default\":0,\"kind\":null,\"name\":\"open_modal\"},{\"default\":0,\"kind\":null,\"name\":\"close_modal\"}]}],\"roots\":{\"references\":[{\"attributes\":{\"end\":2021,\"margin\":[5,10,5,10],\"sizing_mode\":\"stretch_width\",\"start\":1750,\"step\":5,\"title\":\"Year slider\",\"value\":1850},\"id\":\"60369\",\"type\":\"Slider\"},{\"attributes\":{\"client_comm_id\":\"acb141e5307045a489bd85ad5878abda\",\"comm_id\":\"99195aedf76c442ca225f0009d576671\",\"plot_id\":\"60369\"},\"id\":\"60370\",\"type\":\"panel.models.comm_manager.CommManager\"}],\"root_ids\":[\"60369\",\"60370\"]},\"title\":\"Bokeh Application\",\"version\":\"2.4.3\"}};\n",
       "    var render_items = [{\"docid\":\"a6d8fb2a-da03-404d-be08-0b0a90f17fa4\",\"root_ids\":[\"60369\"],\"roots\":{\"60369\":\"489be68c-cafc-470b-a645-84f76d418be8\"}}];\n",
       "    root.Bokeh.embed.embed_items_notebook(docs_json, render_items);\n",
       "  }\n",
       "  if (root.Bokeh !== undefined && root.Bokeh.Panel !== undefined && ( root['Tabulator'] !== undefined) && ( root['Tabulator'] !== undefined) && ( root['Tabulator'] !== undefined) && ( root['Tabulator'] !== undefined)) {\n",
       "    embed_document(root);\n",
       "  } else {\n",
       "    var attempts = 0;\n",
       "    var timer = setInterval(function(root) {\n",
       "      if (root.Bokeh !== undefined && root.Bokeh.Panel !== undefined && (root['Tabulator'] !== undefined) && (root['Tabulator'] !== undefined) && (root['Tabulator'] !== undefined) && (root['Tabulator'] !== undefined)) {\n",
       "        clearInterval(timer);\n",
       "        embed_document(root);\n",
       "      } else if (document.readyState == \"complete\") {\n",
       "        attempts++;\n",
       "        if (attempts > 200) {\n",
       "          clearInterval(timer);\n",
       "          console.log(\"Bokeh: ERROR: Unable to run BokehJS code because BokehJS library is missing\");\n",
       "        }\n",
       "      }\n",
       "    }, 25, root)\n",
       "  }\n",
       "})(window);</script>"
      ],
      "text/plain": [
       "IntSlider(end=2021, name='Year slider', sizing_mode='stretch_width', start=1750, step=5, value=1850)"
      ]
     },
     "execution_count": 403,
     "metadata": {
      "application/vnd.holoviews_exec.v0+json": {
       "id": "60369"
      }
     },
     "output_type": "execute_result"
    }
   ],
   "source": [
    "# Define Panel widgets\n",
    "year_slider = pn.widgets.IntSlider(name='Year slider', start=1750, end=2021, step=5, value=1850)\n",
    "year_slider"
   ]
  },
  {
   "cell_type": "code",
   "execution_count": 404,
   "id": "468c5615",
   "metadata": {},
   "outputs": [],
   "source": [
    "idf = df.interactive()"
   ]
  },
  {
   "cell_type": "code",
   "execution_count": 420,
   "id": "32d4f08c",
   "metadata": {},
   "outputs": [
    {
     "data": {},
     "metadata": {},
     "output_type": "display_data"
    },
    {
     "data": {
      "application/vnd.holoviews_exec.v0+json": "",
      "text/html": [
       "<div id='62842'>\n",
       "  <div class=\"bk-root\" id=\"011e327d-bebc-42cc-bc72-119b4dd07e37\" data-root-id=\"62842\"></div>\n",
       "</div>\n",
       "<script type=\"application/javascript\">(function(root) {\n",
       "  function embed_document(root) {\n",
       "    var docs_json = {\"d009d455-870d-42b2-a1f2-93d9d882c39e\":{\"defs\":[{\"extends\":null,\"module\":null,\"name\":\"ReactiveHTML1\",\"overrides\":[],\"properties\":[]},{\"extends\":null,\"module\":null,\"name\":\"FlexBox1\",\"overrides\":[],\"properties\":[{\"default\":\"flex-start\",\"kind\":null,\"name\":\"align_content\"},{\"default\":\"flex-start\",\"kind\":null,\"name\":\"align_items\"},{\"default\":\"row\",\"kind\":null,\"name\":\"flex_direction\"},{\"default\":\"wrap\",\"kind\":null,\"name\":\"flex_wrap\"},{\"default\":\"flex-start\",\"kind\":null,\"name\":\"justify_content\"}]},{\"extends\":null,\"module\":null,\"name\":\"GridStack1\",\"overrides\":[],\"properties\":[{\"default\":\"warn\",\"kind\":null,\"name\":\"mode\"},{\"default\":null,\"kind\":null,\"name\":\"ncols\"},{\"default\":null,\"kind\":null,\"name\":\"nrows\"},{\"default\":true,\"kind\":null,\"name\":\"allow_resize\"},{\"default\":true,\"kind\":null,\"name\":\"allow_drag\"},{\"default\":[],\"kind\":null,\"name\":\"state\"}]},{\"extends\":null,\"module\":null,\"name\":\"click1\",\"overrides\":[],\"properties\":[{\"default\":\"\",\"kind\":null,\"name\":\"terminal_output\"},{\"default\":\"\",\"kind\":null,\"name\":\"debug_name\"},{\"default\":0,\"kind\":null,\"name\":\"clears\"}]},{\"extends\":null,\"module\":null,\"name\":\"NotificationAreaBase1\",\"overrides\":[],\"properties\":[{\"default\":\"bottom-right\",\"kind\":null,\"name\":\"position\"},{\"default\":0,\"kind\":null,\"name\":\"_clear\"}]},{\"extends\":null,\"module\":null,\"name\":\"NotificationArea1\",\"overrides\":[],\"properties\":[{\"default\":[],\"kind\":null,\"name\":\"notifications\"},{\"default\":\"bottom-right\",\"kind\":null,\"name\":\"position\"},{\"default\":0,\"kind\":null,\"name\":\"_clear\"},{\"default\":[{\"background\":\"#ffc107\",\"icon\":{\"className\":\"fas fa-exclamation-triangle\",\"color\":\"white\",\"tagName\":\"i\"},\"type\":\"warning\"},{\"background\":\"#007bff\",\"icon\":{\"className\":\"fas fa-info-circle\",\"color\":\"white\",\"tagName\":\"i\"},\"type\":\"info\"}],\"kind\":null,\"name\":\"types\"}]},{\"extends\":null,\"module\":null,\"name\":\"Notification\",\"overrides\":[],\"properties\":[{\"default\":null,\"kind\":null,\"name\":\"background\"},{\"default\":3000,\"kind\":null,\"name\":\"duration\"},{\"default\":null,\"kind\":null,\"name\":\"icon\"},{\"default\":\"\",\"kind\":null,\"name\":\"message\"},{\"default\":null,\"kind\":null,\"name\":\"notification_type\"},{\"default\":false,\"kind\":null,\"name\":\"_destroyed\"}]},{\"extends\":null,\"module\":null,\"name\":\"TemplateActions1\",\"overrides\":[],\"properties\":[{\"default\":0,\"kind\":null,\"name\":\"open_modal\"},{\"default\":0,\"kind\":null,\"name\":\"close_modal\"}]},{\"extends\":null,\"module\":null,\"name\":\"MaterialTemplateActions1\",\"overrides\":[],\"properties\":[{\"default\":0,\"kind\":null,\"name\":\"open_modal\"},{\"default\":0,\"kind\":null,\"name\":\"close_modal\"}]}],\"roots\":{\"references\":[{\"attributes\":{\"active\":0,\"button_type\":\"success\",\"labels\":[\"Total_CO2\",\"Per Capita\"],\"margin\":[5,10,5,10],\"sizing_mode\":\"stretch_width\"},\"id\":\"62842\",\"type\":\"RadioButtonGroup\"},{\"attributes\":{\"client_comm_id\":\"cc2682c72a0144abb780a47e70868f13\",\"comm_id\":\"177567c281a2472783ecbf82f8220ba1\",\"plot_id\":\"62842\"},\"id\":\"62843\",\"type\":\"panel.models.comm_manager.CommManager\"}],\"root_ids\":[\"62842\",\"62843\"]},\"title\":\"Bokeh Application\",\"version\":\"2.4.3\"}};\n",
       "    var render_items = [{\"docid\":\"d009d455-870d-42b2-a1f2-93d9d882c39e\",\"root_ids\":[\"62842\"],\"roots\":{\"62842\":\"011e327d-bebc-42cc-bc72-119b4dd07e37\"}}];\n",
       "    root.Bokeh.embed.embed_items_notebook(docs_json, render_items);\n",
       "  }\n",
       "  if (root.Bokeh !== undefined && root.Bokeh.Panel !== undefined && ( root['Tabulator'] !== undefined) && ( root['Tabulator'] !== undefined) && ( root['Tabulator'] !== undefined) && ( root['Tabulator'] !== undefined)) {\n",
       "    embed_document(root);\n",
       "  } else {\n",
       "    var attempts = 0;\n",
       "    var timer = setInterval(function(root) {\n",
       "      if (root.Bokeh !== undefined && root.Bokeh.Panel !== undefined && (root['Tabulator'] !== undefined) && (root['Tabulator'] !== undefined) && (root['Tabulator'] !== undefined) && (root['Tabulator'] !== undefined)) {\n",
       "        clearInterval(timer);\n",
       "        embed_document(root);\n",
       "      } else if (document.readyState == \"complete\") {\n",
       "        attempts++;\n",
       "        if (attempts > 200) {\n",
       "          clearInterval(timer);\n",
       "          console.log(\"Bokeh: ERROR: Unable to run BokehJS code because BokehJS library is missing\");\n",
       "        }\n",
       "      }\n",
       "    }, 25, root)\n",
       "  }\n",
       "})(window);</script>"
      ],
      "text/plain": [
       "RadioButtonGroup(button_type='success', name='Y axis', options=['Total_CO2', ...], sizing_mode='stretch_width', value='Total_CO2')"
      ]
     },
     "execution_count": 420,
     "metadata": {
      "application/vnd.holoviews_exec.v0+json": {
       "id": "62842"
      }
     },
     "output_type": "execute_result"
    }
   ],
   "source": [
    "# Radio buttons for CO2 measures\n",
    "yaxis_Total_CO2 = pn.widgets.RadioButtonGroup(\n",
    "    name='Y axis', \n",
    "    options=['Total_CO2', 'Per Capita',],\n",
    "    button_type='success'\n",
    ")\n",
    "yaxis_Total_CO2"
   ]
  },
  {
   "cell_type": "code",
   "execution_count": null,
   "id": "209d49dc",
   "metadata": {},
   "outputs": [],
   "source": [
    "co2_pipeline = (\n",
    "    idf[\n",
    "        (idf.Year <= year_slider) \n",
    "    ]\n",
    "    .groupby(['continent', 'Year'])[\"Total_CO2\"].mean()\n",
    "    .to_frame()\n",
    "    .reset_index()\n",
    "    .sort_values(by='Year')  \n",
    "    .reset_index(drop=True)\n",
    ")\n",
    "co2_pipeline"
   ]
  },
  {
   "cell_type": "code",
   "execution_count": 421,
   "id": "3ba94578",
   "metadata": {},
   "outputs": [
    {
     "data": {},
     "metadata": {},
     "output_type": "display_data"
    },
    {
     "data": {},
     "metadata": {},
     "output_type": "display_data"
    },
    {
     "data": {
      "application/vnd.holoviews_exec.v0+json": "",
      "text/html": [
       "<div id='62844'>\n",
       "  <div class=\"bk-root\" id=\"cc5b4737-01d0-4abf-925b-45a6473224e1\" data-root-id=\"62844\"></div>\n",
       "</div>\n",
       "<script type=\"application/javascript\">(function(root) {\n",
       "  function embed_document(root) {\n",
       "    var docs_json = {\"7b758e89-9f0a-4d9c-a744-b343334014c1\":{\"defs\":[{\"extends\":null,\"module\":null,\"name\":\"ReactiveHTML1\",\"overrides\":[],\"properties\":[]},{\"extends\":null,\"module\":null,\"name\":\"FlexBox1\",\"overrides\":[],\"properties\":[{\"default\":\"flex-start\",\"kind\":null,\"name\":\"align_content\"},{\"default\":\"flex-start\",\"kind\":null,\"name\":\"align_items\"},{\"default\":\"row\",\"kind\":null,\"name\":\"flex_direction\"},{\"default\":\"wrap\",\"kind\":null,\"name\":\"flex_wrap\"},{\"default\":\"flex-start\",\"kind\":null,\"name\":\"justify_content\"}]},{\"extends\":null,\"module\":null,\"name\":\"GridStack1\",\"overrides\":[],\"properties\":[{\"default\":\"warn\",\"kind\":null,\"name\":\"mode\"},{\"default\":null,\"kind\":null,\"name\":\"ncols\"},{\"default\":null,\"kind\":null,\"name\":\"nrows\"},{\"default\":true,\"kind\":null,\"name\":\"allow_resize\"},{\"default\":true,\"kind\":null,\"name\":\"allow_drag\"},{\"default\":[],\"kind\":null,\"name\":\"state\"}]},{\"extends\":null,\"module\":null,\"name\":\"click1\",\"overrides\":[],\"properties\":[{\"default\":\"\",\"kind\":null,\"name\":\"terminal_output\"},{\"default\":\"\",\"kind\":null,\"name\":\"debug_name\"},{\"default\":0,\"kind\":null,\"name\":\"clears\"}]},{\"extends\":null,\"module\":null,\"name\":\"NotificationAreaBase1\",\"overrides\":[],\"properties\":[{\"default\":\"bottom-right\",\"kind\":null,\"name\":\"position\"},{\"default\":0,\"kind\":null,\"name\":\"_clear\"}]},{\"extends\":null,\"module\":null,\"name\":\"NotificationArea1\",\"overrides\":[],\"properties\":[{\"default\":[],\"kind\":null,\"name\":\"notifications\"},{\"default\":\"bottom-right\",\"kind\":null,\"name\":\"position\"},{\"default\":0,\"kind\":null,\"name\":\"_clear\"},{\"default\":[{\"background\":\"#ffc107\",\"icon\":{\"className\":\"fas fa-exclamation-triangle\",\"color\":\"white\",\"tagName\":\"i\"},\"type\":\"warning\"},{\"background\":\"#007bff\",\"icon\":{\"className\":\"fas fa-info-circle\",\"color\":\"white\",\"tagName\":\"i\"},\"type\":\"info\"}],\"kind\":null,\"name\":\"types\"}]},{\"extends\":null,\"module\":null,\"name\":\"Notification\",\"overrides\":[],\"properties\":[{\"default\":null,\"kind\":null,\"name\":\"background\"},{\"default\":3000,\"kind\":null,\"name\":\"duration\"},{\"default\":null,\"kind\":null,\"name\":\"icon\"},{\"default\":\"\",\"kind\":null,\"name\":\"message\"},{\"default\":null,\"kind\":null,\"name\":\"notification_type\"},{\"default\":false,\"kind\":null,\"name\":\"_destroyed\"}]},{\"extends\":null,\"module\":null,\"name\":\"TemplateActions1\",\"overrides\":[],\"properties\":[{\"default\":0,\"kind\":null,\"name\":\"open_modal\"},{\"default\":0,\"kind\":null,\"name\":\"close_modal\"}]},{\"extends\":null,\"module\":null,\"name\":\"MaterialTemplateActions1\",\"overrides\":[],\"properties\":[{\"default\":0,\"kind\":null,\"name\":\"open_modal\"},{\"default\":0,\"kind\":null,\"name\":\"close_modal\"}]}],\"roots\":{\"references\":[{\"attributes\":{\"label\":{\"value\":\"Europe\"},\"renderers\":[{\"id\":\"62944\"}]},\"id\":\"62960\",\"type\":\"LegendItem\"},{\"attributes\":{},\"id\":\"62877\",\"type\":\"PanTool\"},{\"attributes\":{\"line_color\":\"#6d904f\",\"line_width\":2,\"x\":{\"field\":\"Year\"},\"y\":{\"field\":\"Total_CO2\"}},\"id\":\"62965\",\"type\":\"Line\"},{\"attributes\":{\"line_alpha\":0.2,\"line_color\":\"#30a2da\",\"line_width\":2,\"x\":{\"field\":\"Year\"},\"y\":{\"field\":\"Total_CO2\"}},\"id\":\"62900\",\"type\":\"Line\"},{\"attributes\":{},\"id\":\"63017\",\"type\":\"Selection\"},{\"attributes\":{\"line_color\":\"#8b8b8b\",\"line_width\":2,\"x\":{\"field\":\"Year\"},\"y\":{\"field\":\"Total_CO2\"}},\"id\":\"63015\",\"type\":\"Line\"},{\"attributes\":{\"bottom_units\":\"screen\",\"coordinates\":null,\"fill_alpha\":0.5,\"fill_color\":\"lightgrey\",\"group\":null,\"left_units\":\"screen\",\"level\":\"overlay\",\"line_alpha\":1.0,\"line_color\":\"black\",\"line_dash\":[4,4],\"line_width\":2,\"right_units\":\"screen\",\"syncable\":false,\"top_units\":\"screen\"},\"id\":\"62881\",\"type\":\"BoxAnnotation\"},{\"attributes\":{\"line_alpha\":0.1,\"line_color\":\"#8b8b8b\",\"line_width\":2,\"x\":{\"field\":\"Year\"},\"y\":{\"field\":\"Total_CO2\"}},\"id\":\"62992\",\"type\":\"Line\"},{\"attributes\":{},\"id\":\"62890\",\"type\":\"BasicTickFormatter\"},{\"attributes\":{\"label\":{\"value\":\"Oceania\"},\"renderers\":[{\"id\":\"62994\"}]},\"id\":\"63014\",\"type\":\"LegendItem\"},{\"attributes\":{},\"id\":\"62989\",\"type\":\"Selection\"},{\"attributes\":{\"children\":[{\"id\":\"62846\"},{\"id\":\"62859\"}],\"margin\":[0,0,0,0],\"name\":\"Column226815\",\"sizing_mode\":\"stretch_width\"},\"id\":\"62845\",\"type\":\"Column\"},{\"attributes\":{},\"id\":\"62939\",\"type\":\"Selection\"},{\"attributes\":{\"axis\":{\"id\":\"62872\"},\"coordinates\":null,\"dimension\":1,\"grid_line_color\":null,\"group\":null,\"ticker\":null},\"id\":\"62875\",\"type\":\"Grid\"},{\"attributes\":{\"line_color\":\"#8b8b8b\",\"line_width\":2,\"x\":{\"field\":\"Year\"},\"y\":{\"field\":\"Total_CO2\"}},\"id\":\"62991\",\"type\":\"Line\"},{\"attributes\":{\"below\":[{\"id\":\"62868\"}],\"center\":[{\"id\":\"62871\"},{\"id\":\"62875\"}],\"height\":300,\"left\":[{\"id\":\"62872\"}],\"margin\":[5,5,5,5],\"min_border_bottom\":10,\"min_border_left\":10,\"min_border_right\":10,\"min_border_top\":10,\"renderers\":[{\"id\":\"62901\"},{\"id\":\"62922\"},{\"id\":\"62944\"},{\"id\":\"62968\"},{\"id\":\"62994\"},{\"id\":\"63022\"}],\"right\":[{\"id\":\"62913\"}],\"sizing_mode\":\"stretch_width\",\"title\":{\"id\":\"62860\"},\"toolbar\":{\"id\":\"62882\"},\"width\":700,\"x_range\":{\"id\":\"62851\"},\"x_scale\":{\"id\":\"62864\"},\"y_range\":{\"id\":\"62852\"},\"y_scale\":{\"id\":\"62866\"}},\"id\":\"62859\",\"subtype\":\"Figure\",\"type\":\"Plot\"},{\"attributes\":{},\"id\":\"62963\",\"type\":\"Selection\"},{\"attributes\":{\"line_alpha\":0.2,\"line_color\":\"#17becf\",\"line_width\":2,\"x\":{\"field\":\"Year\"},\"y\":{\"field\":\"Total_CO2\"}},\"id\":\"63021\",\"type\":\"Line\"},{\"attributes\":{\"children\":[{\"id\":\"62848\"},{\"id\":\"62849\"}],\"margin\":[0,0,0,0],\"name\":\"Column226804\",\"sizing_mode\":\"stretch_width\"},\"id\":\"62847\",\"type\":\"Column\"},{\"attributes\":{\"axis_label\":\"Total_CO2\",\"coordinates\":null,\"formatter\":{\"id\":\"62893\"},\"group\":null,\"major_label_policy\":{\"id\":\"62894\"},\"ticker\":{\"id\":\"62873\"}},\"id\":\"62872\",\"type\":\"LinearAxis\"},{\"attributes\":{\"source\":{\"id\":\"62938\"}},\"id\":\"62945\",\"type\":\"CDSView\"},{\"attributes\":{\"line_color\":\"#17becf\",\"line_width\":2,\"x\":{\"field\":\"Year\"},\"y\":{\"field\":\"Total_CO2\"}},\"id\":\"63019\",\"type\":\"Line\"},{\"attributes\":{\"data\":{\"Total_CO2\":{\"__ndarray__\":\"AAAAAAAAAAAAAAAAAAAAAAAAAAAAAAAAAAAAAAAAAAAAAAAAAAAAAAAAAAAAAAAAAAAAAAAAAAAAAAAAAAAAAAAAAAAAAAAAAAAAAAAAAAAAAAAAAAAAAAAAAAAAAAAAAAAAAAAAAAAAAAAAAAAAAAAAAAAAAAAAAAAAAAAAAAAAAAAAAAAAAAAAAAAAAAAAAAAAAAAAAAAAAAAAAAAAAAAAAAAAAAAAAAAAAAAAAAAAAAAAAAAAAAAAAAAAAAAAAAAAAAAAAAAAAAAAAAAAAAAAAAAAAAAAAAAAAAAAAAAAAAAAAAAAAAAAAAAAAAAAAAAAAAAAAAAAAAAAAAAAAAAAAAAAAAAAAAAAAAAAAAAAAAAAAAAAAAAAAAAAAAAAAAAAAAAAAAAAAAAAAAAAAAAAAAAAAAAAAAAAAAAAAAAAAAAAAAAAAAAAAAAAAAAAAAAAAAAAAAAAAAAAAAAAAAAAAAAAAAAAAAAAAAAAAAAAAAAAAAAAAAAAAAAAAAAAAAAAAAAAAAAAAAAAAAAAAAAAAAAAAAAAAAAAAAAAAAAAAAAAAAAAAAAAAAAAAAAAAAAAAAAAAAAAAAAAAAAAAAAAAAAAAAAAAAAAAAAAAAAAAAAAAAAAAAAAAAAAAAAAAAAAAAAAAAAAAAAAAAAAAAAAAAAAAAAAAAAAAAAAAAAAAAAAAAAAAAAAAAAAAAAAAAAAAAAAAAAAAAAAAAAAAAAAAAAAAAAAAAAAAAAAAAAAAAAAAAAAAAAAAAAAAAAAAAAAAAAAAAAAAAAAAAAAAAAAAAAAAAAAAAAAAAAAAAAAAAAAAAAAAAAAAAAAAAAAAAAAAAAAAAAAAAAAAAAAAFf0HMua3Ag/3/bSTqzXDT/R8WZHieEDP1f0HMua3Ag/AAAAAAAAAAAAAAAAAAAAAAAAAAAAAAAAAAAAAAAAAAAAAAAAAAAAAAAAAAAAAAAAAAAAAAAAAAAAAAAAAAAAAAAAAAAAAAAAAAAAAAAAAAAAAAAAAAAAAAAAAAAAAAAAAAAAAAAAAAAAAAAAAAAAAAAAAAAAAAAAAAAAAAAAAAAfrDGu2UYzPwAAAAAAAAAAAAAAAAAAAAAAAAAAAAAAAAAAAAAAAAAA9h1oqsw5TT8AAAAAAAAAAAAAAAAAAAAAjH1N/ye5gj9PpMGOe8qMP04CJx3d740/tH8SXR/viD9YSjva3aiKP1OpXTxRTI0/n4FoGAR3jD/4HT8rm/+QP+80eOPNr5g/TG2Q5hsTij8uaTmOJ5uFPwA83O3+oY4/ww8x0km+iz+QijnnK3GSP5verF7R75M/0/f5c/oPkz+lgf7Gx7ygPySbLx/eras/eu416ynFrD+Ikhzyx5utPwYGlHY49Ls/HGVYINULvT9dM5Y84LK/P4pDTy3PQcA/5MexWDecwT+4UJ4egHnDP88JqfR2+MQ/dn1yVjzcxT/0gLvkZlXHP0hQHSdc+so/4Rfq8t7/zT+POnRZ0KTRP34SZZA3UNM/YEQV3f4F1j+bom1GF2XXPx8emXk4Ito/IFs79lgf3T/9uIErbtbgP9ljnmw18eE/NuN2YOeD4z+vHr0CTVvnP7xdDj8oveg/vy4mqnUq7D+FLY+YTR7wPxiDf/iWxfA/kDF3LSGf8T+ZWAmr68/zP1RamOigKfQ/KDIxZfl99j+xNiEI6xr/P0XXxztu9QBAO3v8GFJ5AUBYNCHWsLkBQAqChZul1wJAU3Y8Xi8qA0B9Y3xWofoFQJ+llnNK3AZA+lvpUq/dBUB9Q/pQFvwHQBigp+B06wlAk9dzZ2CzCkBdx49jsV4NQOQ/MImrEQxAn/ub5ex8C0BJJQL2TQENQHQzceXL3w9A09FYmBEQEUDvtbmUZzwRQA==\",\"dtype\":\"float64\",\"order\":\"little\",\"shape\":[176]},\"Year\":[1750,1751,1752,1753,1754,1755,1756,1757,1758,1759,1760,1761,1762,1763,1764,1765,1766,1767,1768,1769,1770,1771,1772,1773,1774,1775,1776,1777,1778,1779,1780,1781,1782,1783,1784,1785,1786,1787,1788,1789,1790,1791,1792,1793,1794,1795,1796,1797,1798,1799,1800,1801,1802,1803,1804,1805,1806,1807,1808,1809,1810,1811,1812,1813,1814,1815,1816,1817,1818,1819,1820,1821,1822,1823,1824,1825,1826,1827,1828,1829,1830,1831,1832,1833,1834,1835,1836,1837,1838,1839,1840,1841,1842,1843,1844,1845,1846,1847,1848,1849,1850,1851,1852,1853,1854,1855,1856,1857,1858,1859,1860,1861,1862,1863,1864,1865,1866,1867,1868,1869,1870,1871,1872,1873,1874,1875,1876,1877,1878,1879,1880,1881,1882,1883,1884,1885,1886,1887,1888,1889,1890,1891,1892,1893,1894,1895,1896,1897,1898,1899,1900,1901,1902,1903,1904,1905,1906,1907,1908,1909,1910,1911,1912,1913,1914,1915,1916,1917,1918,1919,1920,1921,1922,1923,1924,1925],\"continent\":[\"Asia\",\"Asia\",\"Asia\",\"Asia\",\"Asia\",\"Asia\",\"Asia\",\"Asia\",\"Asia\",\"Asia\",\"Asia\",\"Asia\",\"Asia\",\"Asia\",\"Asia\",\"Asia\",\"Asia\",\"Asia\",\"Asia\",\"Asia\",\"Asia\",\"Asia\",\"Asia\",\"Asia\",\"Asia\",\"Asia\",\"Asia\",\"Asia\",\"Asia\",\"Asia\",\"Asia\",\"Asia\",\"Asia\",\"Asia\",\"Asia\",\"Asia\",\"Asia\",\"Asia\",\"Asia\",\"Asia\",\"Asia\",\"Asia\",\"Asia\",\"Asia\",\"Asia\",\"Asia\",\"Asia\",\"Asia\",\"Asia\",\"Asia\",\"Asia\",\"Asia\",\"Asia\",\"Asia\",\"Asia\",\"Asia\",\"Asia\",\"Asia\",\"Asia\",\"Asia\",\"Asia\",\"Asia\",\"Asia\",\"Asia\",\"Asia\",\"Asia\",\"Asia\",\"Asia\",\"Asia\",\"Asia\",\"Asia\",\"Asia\",\"Asia\",\"Asia\",\"Asia\",\"Asia\",\"Asia\",\"Asia\",\"Asia\",\"Asia\",\"Asia\",\"Asia\",\"Asia\",\"Asia\",\"Asia\",\"Asia\",\"Asia\",\"Asia\",\"Asia\",\"Asia\",\"Asia\",\"Asia\",\"Asia\",\"Asia\",\"Asia\",\"Asia\",\"Asia\",\"Asia\",\"Asia\",\"Asia\",\"Asia\",\"Asia\",\"Asia\",\"Asia\",\"Asia\",\"Asia\",\"Asia\",\"Asia\",\"Asia\",\"Asia\",\"Asia\",\"Asia\",\"Asia\",\"Asia\",\"Asia\",\"Asia\",\"Asia\",\"Asia\",\"Asia\",\"Asia\",\"Asia\",\"Asia\",\"Asia\",\"Asia\",\"Asia\",\"Asia\",\"Asia\",\"Asia\",\"Asia\",\"Asia\",\"Asia\",\"Asia\",\"Asia\",\"Asia\",\"Asia\",\"Asia\",\"Asia\",\"Asia\",\"Asia\",\"Asia\",\"Asia\",\"Asia\",\"Asia\",\"Asia\",\"Asia\",\"Asia\",\"Asia\",\"Asia\",\"Asia\",\"Asia\",\"Asia\",\"Asia\",\"Asia\",\"Asia\",\"Asia\",\"Asia\",\"Asia\",\"Asia\",\"Asia\",\"Asia\",\"Asia\",\"Asia\",\"Asia\",\"Asia\",\"Asia\",\"Asia\",\"Asia\",\"Asia\",\"Asia\",\"Asia\",\"Asia\",\"Asia\",\"Asia\",\"Asia\",\"Asia\",\"Asia\"]},\"selected\":{\"id\":\"62917\"},\"selection_policy\":{\"id\":\"62933\"}},\"id\":\"62916\",\"type\":\"ColumnDataSource\"},{\"attributes\":{\"coordinates\":null,\"data_source\":{\"id\":\"62988\"},\"glyph\":{\"id\":\"62991\"},\"group\":null,\"hover_glyph\":null,\"muted_glyph\":{\"id\":\"62993\"},\"nonselection_glyph\":{\"id\":\"62992\"},\"selection_glyph\":{\"id\":\"63015\"},\"view\":{\"id\":\"62995\"}},\"id\":\"62994\",\"type\":\"GlyphRenderer\"},{\"attributes\":{},\"id\":\"62873\",\"type\":\"BasicTicker\"},{\"attributes\":{},\"id\":\"62933\",\"type\":\"UnionRenderers\"},{\"attributes\":{\"children\":[{\"id\":\"62847\"},{\"id\":\"62850\"}],\"margin\":[0,0,0,0],\"name\":\"Row226809\",\"sizing_mode\":\"stretch_width\"},\"id\":\"62846\",\"type\":\"Row\"},{\"attributes\":{\"coordinates\":null,\"data_source\":{\"id\":\"62938\"},\"glyph\":{\"id\":\"62941\"},\"group\":null,\"hover_glyph\":null,\"muted_glyph\":{\"id\":\"62943\"},\"nonselection_glyph\":{\"id\":\"62942\"},\"selection_glyph\":{\"id\":\"62961\"},\"view\":{\"id\":\"62945\"}},\"id\":\"62944\",\"type\":\"GlyphRenderer\"},{\"attributes\":{\"source\":{\"id\":\"62988\"}},\"id\":\"62995\",\"type\":\"CDSView\"},{\"attributes\":{\"source\":{\"id\":\"62916\"}},\"id\":\"62923\",\"type\":\"CDSView\"},{\"attributes\":{\"label\":{\"value\":\"Asia\"},\"renderers\":[{\"id\":\"62922\"}]},\"id\":\"62936\",\"type\":\"LegendItem\"},{\"attributes\":{\"coordinates\":null,\"group\":null,\"text\":\"CO2 emission by continent\",\"text_color\":\"black\",\"text_font_size\":\"12pt\"},\"id\":\"62860\",\"type\":\"Title\"},{\"attributes\":{\"coordinates\":null,\"data_source\":{\"id\":\"62916\"},\"glyph\":{\"id\":\"62919\"},\"group\":null,\"hover_glyph\":null,\"muted_glyph\":{\"id\":\"62921\"},\"nonselection_glyph\":{\"id\":\"62920\"},\"selection_glyph\":{\"id\":\"62937\"},\"view\":{\"id\":\"62923\"}},\"id\":\"62922\",\"type\":\"GlyphRenderer\"},{\"attributes\":{\"line_color\":\"#6d904f\",\"line_width\":2,\"x\":{\"field\":\"Year\"},\"y\":{\"field\":\"Total_CO2\"}},\"id\":\"62987\",\"type\":\"Line\"},{\"attributes\":{\"line_alpha\":0.1,\"line_color\":\"#30a2da\",\"line_width\":2,\"x\":{\"field\":\"Year\"},\"y\":{\"field\":\"Total_CO2\"}},\"id\":\"62899\",\"type\":\"Line\"},{\"attributes\":{\"axis_label\":\"Year\",\"coordinates\":null,\"formatter\":{\"id\":\"62890\"},\"group\":null,\"major_label_policy\":{\"id\":\"62891\"},\"ticker\":{\"id\":\"62869\"}},\"id\":\"62868\",\"type\":\"LinearAxis\"},{\"attributes\":{},\"id\":\"62878\",\"type\":\"WheelZoomTool\"},{\"attributes\":{},\"id\":\"62917\",\"type\":\"Selection\"},{\"attributes\":{\"data\":{\"Total_CO2\":{\"__ndarray__\":\"AAAAAAAAAAAAAAAAAAAAAAAAAAAAAAAAAAAAAAAAAAAAAAAAAAAAAAAAAAAAAAAAAAAAAAAAAAAAAAAAAAAAAAAAAAAAAAAAAAAAAAAAAAAAAAAAAAAAAAAAAAAAAAAAAAAAAAAAAAAAAAAAAAAAAAAAAAAAAAAAAAAAAAAAAAAAAAAAAAAAAAAAAAAAAAAAAAAAAAAAAAAAAAAAAAAAAAAAAAAAAAAAAAAAAAAAAAAAAAAAAAAAAAAAAAAAAAAAAAAAAAAAAAAAAAAAAAAAAAAAAAAAAAAAAAAAAAAAAAAAAAAAAAAAAAAAAAAAAAAAAAAAAAAAAAAAAAAAAAAAAAAAAAAAAAAAAAAAAAAAAAAAAAAAAAAAAAAAAAAAAAAAAAAAAAAAAAAAAAAAAAAAAAAAAAAAAAAAAAAAAAAAAAAAAAAAAAAAAAAAAAAAAAAAAAAAAAAAAAAAAAAAAAAAAAAAAAAAAAAAAAAAAAAAAAAAAAAAAAAAAAAAAAAAAAAAAAAAAAAAAAAAAAAAAAAAAAAAAAAAAAAAAAAAAAAAAAAAAAAAAAAAAAAAAAAAAAAAAAAAAAAAAAAAAAAAAAAAAAAAAAAAAAAAAAAAAAAAAAAAAAAAAAAAAAAAAAAAAAAAAAAAAAAAAAAAAAAAAAAAAAAAAAAAAAAAAAAAAAAAAAAAAAAAAAAAAAAAAAAAAAAAAAAAAAAAAAAAAAAAAAAAAAAAAAAAAAAAAAAAAAAAAAAAAAAAAAAAAAAAAAAAAAAAAAAAAAAAAAAAAAAAAAAAAAAAAAAAAAAAAAAAAAAAAAAAAAAAAAAAAAAAAAAAAAAAAAAAAAAAAAAAAAAAAAAAAAAAAAAAAAAAAAAAAAAAAAAAAAAAAAAAAAAAAAAAAAAAAAAAAAAAAAAAAAAAAAAAAAAAAAAAAAAAAAAAAAAAAAAAAAAAAAAAAAAAAAAAAAAAAAAAAAAAAAAAAAAAAAAAAAAAAAAAAAAAAAAAAAAAAAAAAAAAAAAAAAAAAAAAAAAAAAAAAAAAAAAAAAAAAAAAAAAAAAAAAAAAAAAAAAAAAAAAAAAAAAAAAAAAAAAAAAAAAAAAAAAAAAAAAAAAAAAAAAAAAAAAAAAAAAAAAAAAAAAAAAAAAAAAAAAAAAAAAAAAAAAAAAAAAAAAAAAAAAAAAAAAAAAAAAAAAAAAAAAAAAAAAAAAAAAAAAAAAAAAAAAAAAAAAAAAAAAAAAAAAAAAAAAAAAAAAAAAAAAAAAAAAAAAAAAAAAAAAAAAAAAAAAAAAAAAAAAAAAAAAAAAAAAAAAAAAAAAAAAAAAAAAAAAAAAAAAAAAAAAAAAAAAAAAAAAAAAAAAAAAAAAAAAAAAAAAAAAAAAAAAAAAAAAAAAAAAAAAAAAAAAAAAAAAAAAAAAAAAAAAAAAAAAAAAAAAAAAAInVZQOYeDI/idVlA5h4Mj+J1WUDmHhCP5GK9PNggLU/XHVAe2mtsT8bKzHPSlrBP3b3AN2XM7s/YQGSu7dosz9QhkEli5K8P4LVzH3bh78/+eKux7gFxD/5ix811dnLP89UN10hW8w/i0T/kFsqyz8X8cBpNUfPP/NWXYdqStI/V9i7hYArzz8O/MtXPYPfP75kV30XKuI/0Mt5gBzl4j+2eOyKglTlP1/BK5qIrOY/+jGVxGRZ7j+3ZL73WjnvP4HT3kl/UvI/MQiJSxqA8D9Ulmcw9Tn1PwenVhm7lfc/cKWGfKKa+D8bREh0W//5PzmdZKvLKfU/j4Fq1P2R8j9XWZVyD8PwPwC76yYmwOo/QQX70kQT6z++c9dYlMHvPxKZUE0mBfI/7EdEJjHC8T/ws+LVZx/1P3dE+aXnUfg/hksC96Xy/T/cm7xfkTwAQA==\",\"dtype\":\"float64\",\"order\":\"little\",\"shape\":[176]},\"Year\":[1750,1751,1752,1753,1754,1755,1756,1757,1758,1759,1760,1761,1762,1763,1764,1765,1766,1767,1768,1769,1770,1771,1772,1773,1774,1775,1776,1777,1778,1779,1780,1781,1782,1783,1784,1785,1786,1787,1788,1789,1790,1791,1792,1793,1794,1795,1796,1797,1798,1799,1800,1801,1802,1803,1804,1805,1806,1807,1808,1809,1810,1811,1812,1813,1814,1815,1816,1817,1818,1819,1820,1821,1822,1823,1824,1825,1826,1827,1828,1829,1830,1831,1832,1833,1834,1835,1836,1837,1838,1839,1840,1841,1842,1843,1844,1845,1846,1847,1848,1849,1850,1851,1852,1853,1854,1855,1856,1857,1858,1859,1860,1861,1862,1863,1864,1865,1866,1867,1868,1869,1870,1871,1872,1873,1874,1875,1876,1877,1878,1879,1880,1881,1882,1883,1884,1885,1886,1887,1888,1889,1890,1891,1892,1893,1894,1895,1896,1897,1898,1899,1900,1901,1902,1903,1904,1905,1906,1907,1908,1909,1910,1911,1912,1913,1914,1915,1916,1917,1918,1919,1920,1921,1922,1923,1924,1925],\"continent\":[\"South America\",\"South America\",\"South America\",\"South America\",\"South America\",\"South America\",\"South America\",\"South America\",\"South America\",\"South America\",\"South America\",\"South America\",\"South America\",\"South America\",\"South America\",\"South America\",\"South America\",\"South America\",\"South America\",\"South America\",\"South America\",\"South America\",\"South America\",\"South America\",\"South America\",\"South America\",\"South America\",\"South America\",\"South America\",\"South America\",\"South America\",\"South America\",\"South America\",\"South America\",\"South America\",\"South America\",\"South America\",\"South America\",\"South America\",\"South America\",\"South America\",\"South America\",\"South America\",\"South America\",\"South America\",\"South America\",\"South America\",\"South America\",\"South America\",\"South America\",\"South America\",\"South America\",\"South America\",\"South America\",\"South America\",\"South America\",\"South America\",\"South America\",\"South America\",\"South America\",\"South America\",\"South America\",\"South America\",\"South America\",\"South America\",\"South America\",\"South America\",\"South America\",\"South America\",\"South America\",\"South America\",\"South America\",\"South America\",\"South America\",\"South America\",\"South America\",\"South America\",\"South America\",\"South America\",\"South America\",\"South America\",\"South America\",\"South America\",\"South America\",\"South America\",\"South America\",\"South America\",\"South America\",\"South America\",\"South America\",\"South America\",\"South America\",\"South America\",\"South America\",\"South America\",\"South America\",\"South America\",\"South America\",\"South America\",\"South America\",\"South America\",\"South America\",\"South America\",\"South America\",\"South America\",\"South America\",\"South America\",\"South America\",\"South America\",\"South America\",\"South America\",\"South America\",\"South America\",\"South America\",\"South America\",\"South America\",\"South America\",\"South America\",\"South America\",\"South America\",\"South America\",\"South America\",\"South America\",\"South America\",\"South America\",\"South America\",\"South America\",\"South America\",\"South America\",\"South America\",\"South America\",\"South America\",\"South America\",\"South America\",\"South America\",\"South America\",\"South America\",\"South America\",\"South America\",\"South America\",\"South America\",\"South America\",\"South America\",\"South America\",\"South America\",\"South America\",\"South America\",\"South America\",\"South America\",\"South America\",\"South America\",\"South America\",\"South America\",\"South America\",\"South America\",\"South America\",\"South America\",\"South America\",\"South America\",\"South America\",\"South America\",\"South America\",\"South America\",\"South America\",\"South America\",\"South America\",\"South America\",\"South America\",\"South America\",\"South America\",\"South America\",\"South America\",\"South America\",\"South America\",\"South America\",\"South America\"]},\"selected\":{\"id\":\"63017\"},\"selection_policy\":{\"id\":\"63041\"}},\"id\":\"63016\",\"type\":\"ColumnDataSource\"},{\"attributes\":{\"data\":{\"Total_CO2\":{\"__ndarray__\":\"AAAAAAAAAAAAAAAAAAAAAAAAAAAAAAAAAAAAAAAAAAAAAAAAAAAAAAAAAAAAAAAAAAAAAAAAAAAAAAAAAAAAAAAAAAAAAAAAAAAAAAAAAAAAAAAAAAAAAAAAAAAAAAAAAAAAAAAAAAAAAAAAAAAAAAAAAAAAAAAAAAAAAAAAAAAAAAAAAAAAAAAAAAAAAAAAAAAAAAAAAAAAAAAAAAAAAAAAAAAAAAAAAAAAAAAAAAAAAAAAAAAAAAAAAAAAAAAAAAAAAAAAAAAAAAAAAAAAAAAAAAAAAAAAAAAAAAAAAAAAAAAAAAAAAAAAAAAAAAAAAAAAAAAAAAAAAAAAAAAAAAAAAAAAAAAAAAAAAAAAAAAAAAAAAAAAAAAAAAAAAAAAAAAAAAAAAAAAAAAAAAAAAAAAAAAAAAAAAAAAAAAAAAAAAAAAAAAAAAAAAAAAAAAAAAAAAAAAAAAAAAAAAAAAAAAAAAAAAAAAAAAAAAAAAAAAAAAAAAAAAAAAAAAAAAAAAAAAAAAAAAAAAAAAAAAAAAAAAAAAAAAAAAAAAAAAAAAAAAAAAAAAAAAAAAAAAAAAAAAAAAAAAAAAAAAAAAAAAAAAAAAAAAAAAAAAAAAAAAAAAAAAAAAAAAAAAAAAAAAAAAAAAAAAAAAAAAAAAAAAAAAAAAAAAAAAAAAAAAAAAAAAAAAAAAAAAAAAAAAAAAAAAAAAAAAAAAAAAAAAAAAAAAAAAAAAAAAAAAAAAAAAAAAAAAAAAAAAAAAAAAAAAAAAAAAAAAAAAAAAAAAAAAAAAAAAAAAAAAAAAAAAAAAAAAAAAAAAAAAAAAAAAAAAAAAAAAAAAAAAAAAAAAAAAAAAAAAAAAAAAAAAAAAAAAAAAAAAAAAAAAAAAAAAAAAAAAAAAAAAAAAAAAAAAAAAAAAAAAAAAAAAAAAAAAAAAAAAAAAAAAAAAAAAAAAAAAAAAAAAAAAAAAAAAAAAAAAAAAAAAAAAAAAAAAAAAAAAAAAAAAAAAAAAAAAAAAAAAAAAAAAAAAAAAAAAAAAAAAAAAAAAAAAAAAAAAAAAAAAAAAAAAAAAAAAAAAAAAAAAAAAAAAAAAAAAAAAAAAAAAAAAAAAAAAAAAAAAAAAAAAAAAAAAAAAAAAAAAAAAAAAAAAAAAAAAAAAAAAAAAAAAAAAAAAAAAFJbjvv6xZA/LdbR0natnj+b2aSYeWiVP1hG1s14Dpg/IwBCLnsckD+2/G5oeGGZPyfycbp596Q/ziYh8vfsqj/KNPFl+RGmPzEOMzm6T6M/sBEnlvoYoj9JOOXCOdukP74fGKE5TKU/whFILTgnqj/xbJT6t9CqP0EVPIp48Kg/cmmgnXcHrD81o3syWw6wP3IMuQoa67M/mjaMK9eEvT/wwRSOyYvFP0b4HF2q18I/JKvBmmlhxT9iFP9yKD7JP8vfcNLnVss/DdcO6sZfzj9AeQvXVp/OP6vRXjBrFdA/DKjbfTJq0j9D2Diq4tXRP/EPrWdatNI/ubiDzmG01D+CiCaisUjVPzHnZsxxu9Q/i1ZPR2F41j8o64kA+WTXP+Neo+94ndc/s7W+SGjL2T+PIbNmF7/cP0u1sAhf+d0/XuSo5ny75z/YGxYE8LDqP//IHd+HLOs//HH75ZMV6z89gPOQ1zHsP5SIRznvVu0/a7TF3jQm8T89Qh9+UGnyP941NR1OrfM/KYe6sxq28T/ltPS1ewb1P+SNKEkzcvY/vtF/x6gj+D+xnZOCEgr5P/OMeK1/0vs/Xr3ceTQn+T+6qeInb+H2P+5jCttU4vc/rA8zQ/Ld+T88rqe3oFj4PyMfA8Erkfs/NMkkf4wV+T+fy9QkeEP6P8eAleyB//o/hjR3QZE7/T9eaFzmImz+Pw==\",\"dtype\":\"float64\",\"order\":\"little\",\"shape\":[176]},\"Year\":[1750,1751,1752,1753,1754,1755,1756,1757,1758,1759,1760,1761,1762,1763,1764,1765,1766,1767,1768,1769,1770,1771,1772,1773,1774,1775,1776,1777,1778,1779,1780,1781,1782,1783,1784,1785,1786,1787,1788,1789,1790,1791,1792,1793,1794,1795,1796,1797,1798,1799,1800,1801,1802,1803,1804,1805,1806,1807,1808,1809,1810,1811,1812,1813,1814,1815,1816,1817,1818,1819,1820,1821,1822,1823,1824,1825,1826,1827,1828,1829,1830,1831,1832,1833,1834,1835,1836,1837,1838,1839,1840,1841,1842,1843,1844,1845,1846,1847,1848,1849,1850,1851,1852,1853,1854,1855,1856,1857,1858,1859,1860,1861,1862,1863,1864,1865,1866,1867,1868,1869,1870,1871,1872,1873,1874,1875,1876,1877,1878,1879,1880,1881,1882,1883,1884,1885,1886,1887,1888,1889,1890,1891,1892,1893,1894,1895,1896,1897,1898,1899,1900,1901,1902,1903,1904,1905,1906,1907,1908,1909,1910,1911,1912,1913,1914,1915,1916,1917,1918,1919,1920,1921,1922,1923,1924,1925],\"continent\":[\"Oceania\",\"Oceania\",\"Oceania\",\"Oceania\",\"Oceania\",\"Oceania\",\"Oceania\",\"Oceania\",\"Oceania\",\"Oceania\",\"Oceania\",\"Oceania\",\"Oceania\",\"Oceania\",\"Oceania\",\"Oceania\",\"Oceania\",\"Oceania\",\"Oceania\",\"Oceania\",\"Oceania\",\"Oceania\",\"Oceania\",\"Oceania\",\"Oceania\",\"Oceania\",\"Oceania\",\"Oceania\",\"Oceania\",\"Oceania\",\"Oceania\",\"Oceania\",\"Oceania\",\"Oceania\",\"Oceania\",\"Oceania\",\"Oceania\",\"Oceania\",\"Oceania\",\"Oceania\",\"Oceania\",\"Oceania\",\"Oceania\",\"Oceania\",\"Oceania\",\"Oceania\",\"Oceania\",\"Oceania\",\"Oceania\",\"Oceania\",\"Oceania\",\"Oceania\",\"Oceania\",\"Oceania\",\"Oceania\",\"Oceania\",\"Oceania\",\"Oceania\",\"Oceania\",\"Oceania\",\"Oceania\",\"Oceania\",\"Oceania\",\"Oceania\",\"Oceania\",\"Oceania\",\"Oceania\",\"Oceania\",\"Oceania\",\"Oceania\",\"Oceania\",\"Oceania\",\"Oceania\",\"Oceania\",\"Oceania\",\"Oceania\",\"Oceania\",\"Oceania\",\"Oceania\",\"Oceania\",\"Oceania\",\"Oceania\",\"Oceania\",\"Oceania\",\"Oceania\",\"Oceania\",\"Oceania\",\"Oceania\",\"Oceania\",\"Oceania\",\"Oceania\",\"Oceania\",\"Oceania\",\"Oceania\",\"Oceania\",\"Oceania\",\"Oceania\",\"Oceania\",\"Oceania\",\"Oceania\",\"Oceania\",\"Oceania\",\"Oceania\",\"Oceania\",\"Oceania\",\"Oceania\",\"Oceania\",\"Oceania\",\"Oceania\",\"Oceania\",\"Oceania\",\"Oceania\",\"Oceania\",\"Oceania\",\"Oceania\",\"Oceania\",\"Oceania\",\"Oceania\",\"Oceania\",\"Oceania\",\"Oceania\",\"Oceania\",\"Oceania\",\"Oceania\",\"Oceania\",\"Oceania\",\"Oceania\",\"Oceania\",\"Oceania\",\"Oceania\",\"Oceania\",\"Oceania\",\"Oceania\",\"Oceania\",\"Oceania\",\"Oceania\",\"Oceania\",\"Oceania\",\"Oceania\",\"Oceania\",\"Oceania\",\"Oceania\",\"Oceania\",\"Oceania\",\"Oceania\",\"Oceania\",\"Oceania\",\"Oceania\",\"Oceania\",\"Oceania\",\"Oceania\",\"Oceania\",\"Oceania\",\"Oceania\",\"Oceania\",\"Oceania\",\"Oceania\",\"Oceania\",\"Oceania\",\"Oceania\",\"Oceania\",\"Oceania\",\"Oceania\",\"Oceania\",\"Oceania\",\"Oceania\",\"Oceania\",\"Oceania\",\"Oceania\",\"Oceania\",\"Oceania\",\"Oceania\",\"Oceania\",\"Oceania\",\"Oceania\",\"Oceania\"]},\"selected\":{\"id\":\"62989\"},\"selection_policy\":{\"id\":\"63011\"}},\"id\":\"62988\",\"type\":\"ColumnDataSource\"},{\"attributes\":{\"tools\":[{\"id\":\"62853\"},{\"id\":\"62876\"},{\"id\":\"62877\"},{\"id\":\"62878\"},{\"id\":\"62879\"},{\"id\":\"62880\"}]},\"id\":\"62882\",\"type\":\"Toolbar\"},{\"attributes\":{},\"id\":\"62896\",\"type\":\"Selection\"},{\"attributes\":{},\"id\":\"62893\",\"type\":\"BasicTickFormatter\"},{\"attributes\":{\"coordinates\":null,\"data_source\":{\"id\":\"62962\"},\"glyph\":{\"id\":\"62965\"},\"group\":null,\"hover_glyph\":null,\"muted_glyph\":{\"id\":\"62967\"},\"nonselection_glyph\":{\"id\":\"62966\"},\"selection_glyph\":{\"id\":\"62987\"},\"view\":{\"id\":\"62969\"}},\"id\":\"62968\",\"type\":\"GlyphRenderer\"},{\"attributes\":{},\"id\":\"62869\",\"type\":\"BasicTicker\"},{\"attributes\":{\"line_alpha\":0.2,\"line_color\":\"#e5ae38\",\"line_width\":2,\"x\":{\"field\":\"Year\"},\"y\":{\"field\":\"Total_CO2\"}},\"id\":\"62943\",\"type\":\"Line\"},{\"attributes\":{\"data\":{\"Total_CO2\":{\"__ndarray__\":\"AAAAAAAAAAAAAAAAAAAAAAAAAAAAAAAAAAAAAAAAAAAAAAAAAAAAAAAAAAAAAAAAAAAAAAAAAAAAAAAAAAAAAAAAAAAAAAAAAAAAAAAAAAAAAAAAAAAAAAAAAAAAAAAAAAAAAAAAAAAAAAAAAAAAAAAAAAAAAAAAAAAAAAAAAAAAAAAAAAAAAAAAAAAAAAAAAAAAAAAAAAAAAAAAAAAAAAAAAAAAAAAAAAAAAAAAAAAAAAAAAAAAAAAAAAAAAAAAAAAAAAAAAAAAAAAAAAAAAAAAAAAAAAAAAAAAAAAAAAAAAAAAAAAAAAAAAAAAAAAAAAAAAAAAAAAAAAAAAAAAAAAAAAAAAAAAAAAAAAAAAAAAAAAAAAAAAMmG3hQeGx0/yYbeFB4bHT/Jht4UHhsdP8mG3hQeGx0/yYbeFB4bHT/Jht4UHhsdP8mG3hQeGx0/yYbeFB4bHT/Jht4UHhsdP8mG3hQeGx0/yYbeFB4bHT/Jht4UHhsdP8mG3hQeGx0/yYbeFB4bHT/Jht4UHhsdP2tj0+ao1X8/7KUQZK3TgD89FAvN8jCCP1iOXkVfpYI/4PD/nn3rhD/7alMX6l+FP+Dw/55964Q/g830cAimhz+5wZth4Y6IP+L4GBaEPYk/GO2/Bl0mij+F1Q3oDviLPw04r0EtPo4/Sk2ozSVCkD8U3Y0YUIKRP99sc2N6wpI/0jPWYkexlD+4PQ8m3mWWP6wEciWrVJg/CqwJjyPDlz9AoLB//KuYP4RRgawLz5k/yAJS2Rrymj8MtCIGKhWcP12mqapym58/3iqtxfitoT/FdqwmEXekPz4cJET5gqY/xn7FnRfJqD9BZgNZgemrP6kVIwbfOrA/+oMdbySYsT+5f9XDX3q3P+N8pVGHZrs/n8vUJHhDuj/XmkNxfMHAPwdiKnqbXMI/HPGDqM+XxD/tSoBu8YbDP24+m0LUasU/kEhYD73Lxj9v4wpNGB7IPxHA/x6j2Mo/hVmaIxIhzj/9S1KZYg7SP0nwNYewvNU/4tc1R0Oz2D9jcMAlakrdP428slyzUOA/abATPxG34T+EbC1V/z/jP43jzFFB9Oc/Pp8/158P6j+n38q091jtP9ogsv04I/A/RIORUi6T8j9LE/umqn/zP6r8WK6kAvQ/Ig2a1DpS9D++WSVSSSD2PwWyR9pVL/c/FgaKXpde9j/Sprji+0b3P6x3VKVf6vo/nz63pCzZ/D/6kW0MeAP9P4D7vVklUv0/j1HpUwUNAkDLksJSfDEEQLjFqy9X4QZAzt0SEGE0CED7dQu0CWgJQF2FxtsxEQ9AEa6fs9kaEUB7FQB/oXkQQK79o8B/rhBAz3IqlhZTEECfg9dgqRUSQIfCFj5nrRFALJpkA56IFUBtgHSrlrcYQNM4RA7ZJxpAWhN1x61VHUAyfRltoKwfQCO31S8dvSBAND4psov+IEDNV198hvQhQDi//SmHPiNAyx8xgEF3J0Aak1XfMQUlQPWH0OnEGSlAC683RO/HKkAVJkdfRy0sQOHt3Y8NdCxAlG9xshOnKkCAxideFPAtQFMbAAE5ES5AWeXkP1NCL0ALQvY18AUxQAlhWywyjzNAvxnwVwe9NECJhFlJdqA2QGk72Cqo/DdAqqCJTGn/O0CEkSDytcg7QGgAN3J5BD9ABxGWntZIQEDxieXIkvxCQL8+TUAmukBADz+ukP5nQkD5LLblzBxEQOfGP1/xHERABwu9HZaCRUC+00VVPz1HQD5xRQTdKUVA/bbvOOHeRUAaOuZun3BIQAAdabViA0tAMcQuRRdQTEBdv3nVWjJIQP7e9+x0yUxAw4GQLGAsSEAFDsaOFx1IQGfPyeLMQU9AkPhNekP1S0D+sdgNd6xMQA==\",\"dtype\":\"float64\",\"order\":\"little\",\"shape\":[176]},\"Year\":[1750,1751,1752,1753,1754,1755,1756,1757,1758,1759,1760,1761,1762,1763,1764,1765,1766,1767,1768,1769,1770,1771,1772,1773,1774,1775,1776,1777,1778,1779,1780,1781,1782,1783,1784,1785,1786,1787,1788,1789,1790,1791,1792,1793,1794,1795,1796,1797,1798,1799,1800,1801,1802,1803,1804,1805,1806,1807,1808,1809,1810,1811,1812,1813,1814,1815,1816,1817,1818,1819,1820,1821,1822,1823,1824,1825,1826,1827,1828,1829,1830,1831,1832,1833,1834,1835,1836,1837,1838,1839,1840,1841,1842,1843,1844,1845,1846,1847,1848,1849,1850,1851,1852,1853,1854,1855,1856,1857,1858,1859,1860,1861,1862,1863,1864,1865,1866,1867,1868,1869,1870,1871,1872,1873,1874,1875,1876,1877,1878,1879,1880,1881,1882,1883,1884,1885,1886,1887,1888,1889,1890,1891,1892,1893,1894,1895,1896,1897,1898,1899,1900,1901,1902,1903,1904,1905,1906,1907,1908,1909,1910,1911,1912,1913,1914,1915,1916,1917,1918,1919,1920,1921,1922,1923,1924,1925],\"continent\":[\"North America\",\"North America\",\"North America\",\"North America\",\"North America\",\"North America\",\"North America\",\"North America\",\"North America\",\"North America\",\"North America\",\"North America\",\"North America\",\"North America\",\"North America\",\"North America\",\"North America\",\"North America\",\"North America\",\"North America\",\"North America\",\"North America\",\"North America\",\"North America\",\"North America\",\"North America\",\"North America\",\"North America\",\"North America\",\"North America\",\"North America\",\"North America\",\"North America\",\"North America\",\"North America\",\"North America\",\"North America\",\"North America\",\"North America\",\"North America\",\"North America\",\"North America\",\"North America\",\"North America\",\"North America\",\"North America\",\"North America\",\"North America\",\"North America\",\"North America\",\"North America\",\"North America\",\"North America\",\"North America\",\"North America\",\"North America\",\"North America\",\"North America\",\"North America\",\"North America\",\"North America\",\"North America\",\"North America\",\"North America\",\"North America\",\"North America\",\"North America\",\"North America\",\"North America\",\"North America\",\"North America\",\"North America\",\"North America\",\"North America\",\"North America\",\"North America\",\"North America\",\"North America\",\"North America\",\"North America\",\"North America\",\"North America\",\"North America\",\"North America\",\"North America\",\"North America\",\"North America\",\"North America\",\"North America\",\"North America\",\"North America\",\"North America\",\"North America\",\"North America\",\"North America\",\"North America\",\"North America\",\"North America\",\"North America\",\"North America\",\"North America\",\"North America\",\"North America\",\"North America\",\"North America\",\"North America\",\"North America\",\"North America\",\"North America\",\"North America\",\"North America\",\"North America\",\"North America\",\"North America\",\"North America\",\"North America\",\"North America\",\"North America\",\"North America\",\"North America\",\"North America\",\"North America\",\"North America\",\"North America\",\"North America\",\"North America\",\"North America\",\"North America\",\"North America\",\"North America\",\"North America\",\"North America\",\"North America\",\"North America\",\"North America\",\"North America\",\"North America\",\"North America\",\"North America\",\"North America\",\"North America\",\"North America\",\"North America\",\"North America\",\"North America\",\"North America\",\"North America\",\"North America\",\"North America\",\"North America\",\"North America\",\"North America\",\"North America\",\"North America\",\"North America\",\"North America\",\"North America\",\"North America\",\"North America\",\"North America\",\"North America\",\"North America\",\"North America\",\"North America\",\"North America\",\"North America\",\"North America\",\"North America\",\"North America\",\"North America\",\"North America\",\"North America\",\"North America\",\"North America\",\"North America\",\"North America\"]},\"selected\":{\"id\":\"62963\"},\"selection_policy\":{\"id\":\"62983\"}},\"id\":\"62962\",\"type\":\"ColumnDataSource\"},{\"attributes\":{\"source\":{\"id\":\"63016\"}},\"id\":\"63023\",\"type\":\"CDSView\"},{\"attributes\":{\"source\":{\"id\":\"62962\"}},\"id\":\"62969\",\"type\":\"CDSView\"},{\"attributes\":{\"label\":{\"value\":\"South America\"},\"renderers\":[{\"id\":\"63022\"}]},\"id\":\"63044\",\"type\":\"LegendItem\"},{\"attributes\":{\"children\":[{\"id\":\"62845\"}],\"margin\":[0,0,0,0],\"name\":\"Row226816\",\"sizing_mode\":\"stretch_width\"},\"id\":\"62844\",\"type\":\"Row\"},{\"attributes\":{\"overlay\":{\"id\":\"62881\"}},\"id\":\"62879\",\"type\":\"BoxZoomTool\"},{\"attributes\":{\"line_color\":\"#30a2da\",\"line_width\":2,\"x\":{\"field\":\"Year\"},\"y\":{\"field\":\"Total_CO2\"}},\"id\":\"62915\",\"type\":\"Line\"},{\"attributes\":{\"end\":2021,\"margin\":[5,10,5,10],\"sizing_mode\":\"stretch_width\",\"start\":1750,\"step\":5,\"title\":\"Year slider\",\"value\":1925},\"id\":\"62848\",\"type\":\"Slider\"},{\"attributes\":{},\"id\":\"62894\",\"type\":\"AllLabels\"},{\"attributes\":{},\"id\":\"62891\",\"type\":\"AllLabels\"},{\"attributes\":{},\"id\":\"62864\",\"type\":\"LinearScale\"},{\"attributes\":{\"coordinates\":null,\"data_source\":{\"id\":\"62895\"},\"glyph\":{\"id\":\"62898\"},\"group\":null,\"hover_glyph\":null,\"muted_glyph\":{\"id\":\"62900\"},\"nonselection_glyph\":{\"id\":\"62899\"},\"selection_glyph\":{\"id\":\"62915\"},\"view\":{\"id\":\"62902\"}},\"id\":\"62901\",\"type\":\"GlyphRenderer\"},{\"attributes\":{\"line_color\":\"#fc4f30\",\"line_width\":2,\"x\":{\"field\":\"Year\"},\"y\":{\"field\":\"Total_CO2\"}},\"id\":\"62919\",\"type\":\"Line\"},{\"attributes\":{},\"id\":\"62866\",\"type\":\"LinearScale\"},{\"attributes\":{\"line_alpha\":0.2,\"line_color\":\"#8b8b8b\",\"line_width\":2,\"x\":{\"field\":\"Year\"},\"y\":{\"field\":\"Total_CO2\"}},\"id\":\"62993\",\"type\":\"Line\"},{\"attributes\":{},\"id\":\"62983\",\"type\":\"UnionRenderers\"},{\"attributes\":{\"end\":68.76547163333333,\"reset_end\":68.76547163333333,\"reset_start\":-6.251406512121212,\"start\":-6.251406512121212,\"tags\":[[[\"Total_CO2\",\"Total_CO2\",null]]]},\"id\":\"62852\",\"type\":\"Range1d\"},{\"attributes\":{\"line_color\":\"#30a2da\",\"line_width\":2,\"x\":{\"field\":\"Year\"},\"y\":{\"field\":\"Total_CO2\"}},\"id\":\"62898\",\"type\":\"Line\"},{\"attributes\":{\"line_alpha\":0.2,\"line_color\":\"#6d904f\",\"line_width\":2,\"x\":{\"field\":\"Year\"},\"y\":{\"field\":\"Total_CO2\"}},\"id\":\"62967\",\"type\":\"Line\"},{\"attributes\":{\"line_color\":\"#fc4f30\",\"line_width\":2,\"x\":{\"field\":\"Year\"},\"y\":{\"field\":\"Total_CO2\"}},\"id\":\"62937\",\"type\":\"Line\"},{\"attributes\":{\"coordinates\":null,\"data_source\":{\"id\":\"63016\"},\"glyph\":{\"id\":\"63019\"},\"group\":null,\"hover_glyph\":null,\"muted_glyph\":{\"id\":\"63021\"},\"nonselection_glyph\":{\"id\":\"63020\"},\"selection_glyph\":{\"id\":\"63045\"},\"view\":{\"id\":\"63023\"}},\"id\":\"63022\",\"type\":\"GlyphRenderer\"},{\"attributes\":{\"axis\":{\"id\":\"62868\"},\"coordinates\":null,\"grid_line_color\":null,\"group\":null,\"ticker\":null},\"id\":\"62871\",\"type\":\"Grid\"},{\"attributes\":{\"label\":{\"value\":\"North America\"},\"renderers\":[{\"id\":\"62968\"}]},\"id\":\"62986\",\"type\":\"LegendItem\"},{\"attributes\":{},\"id\":\"63041\",\"type\":\"UnionRenderers\"},{\"attributes\":{\"data\":{\"Total_CO2\":{\"__ndarray__\":\"NhCB2fPrzT82EIHZ8+vNP46dAT/07s0/jp0BP/TuzT/oKoKk9PHNP0K4Agr19M0/wvIxaZ0C0D9uOfKbHQTQPxqAss6dBdA/x8ZyAR4H0D/HxnIBHgfQP7LUer/RjtE/Xxs78lGQ0T8LYvsk0pHRP7iou1dSk9E/Ze97itKU0T9HuxtVl53TP/QB3IcXn9M/oUicupeg0z9Nj1ztF6LTP/rVHCCYo9M//plBfGDH1T+r4AGv4MjVP1cnwuFgytU/BG6CFOHL1T+xtEJHYc3VPzD+bJotD9g/3UQtza0Q2D+Ki+3/LRLYPzbSrTKuE9g/j18umK4W2D97GLVWD/PaPyhfdYmP9No/gOz17o/32j8tM7YhEPnaP4bANocQ/No/cr4iCQyj3j/KS6NuDKbeP3aSY6GMp94/0B/kBo2q3j8orWRsja3eP9XQBmADIuE/pMLYQpCD4T9Uc7nBUIfhP0s1WN2PgOE/Tp94KdCC4T+zgwDPrFviP9qUK7zLReM/2kOxy6YS5D+GgmPgyiPlP0an+AmxROY/yyHzEq0m5j9Lsf4qGzHtP6P0lrxL8+g/xdz/EZct6z8zC/7IvnXqP4Kbe/5qxOs/otReRNsx7T/NFlrnKbzrPyak2kwqv+s/blwQ2yeR7T9IN8KiIk7vPwJECxpENfA/F5QOe0ZH8D+H7w46MqDwPzDIpxFEJ/E/7EkFupvM8j8dhTXf0nvzP4ZZaOc0i/M/WmzuQzms8z8K0FvhAvXzP7szyX7MPfQ/Zr/udOcJ9T+YKyixEEL2PzI7i96pAPc/QfyyasbY9z+AGHz1TAr4P7BLnvwnyfk/pSGZxA8E+j/Cx2DFqdb5P3c11IPdZwFAR1/3DJdzAEAwgsZMomoAQFvWWB2UpwBAW4ARjx8FAUDyKVt/pjkBQHA6bp0kAgRARgSIJ2DgA0AvLvqvGJoEQMozL4fdNwVA3sSQnEycBkBhT+BCw0cHQMOGAhE9hAhAjhji/V0ECUCmSHSFLWwKQM1DXO/tzAxAEjRmEvUCDUBOf1Hdt3UPQDuZbsj1ZQ9A/CduyzaGEECUVAFS9rMRQJjgL8EEaRFA69Sm+0oREkCgWtguyLESQAHBHD1+LxZAGZjL/FkuFkC/bVy1IbUXQFuxv+ye3BdAecfOgB8uGEBlvs0sU38ZQF4NUBpqLhxA4iQo2UUMHkBaYq/BDIEeQFXVcDbCDyBAttsuNNdUIUCmtKPdjY8iQNCpdSwALiNABxM1h1oXJEAz9zU3S08kQGh5HtydRCVAvfYWIBuSJUBknksnyPwmQMIEJFCz0yhA5vy5DQ8gKkC+Bo4VRjooQCD/YDtzuypAreBcaFNbK0DCYh5DEUwrQFgoiHCClitAKht7m6N6LEAICnIGtQQwQPA0mfG2cTBABn9k3zoBMUBAijpzD/gxQMi3dw162jFA6GqGr4rqMUDMHNznQuYxQMLJkSn6lDJAJnVdU/uvM0AhFRCkHJ00QB5J7lVQkDVAytgaWxlTNkCOfSSAdvs1QDK73YHwXjVAMwKF1TMyN0Cy+bg2VNA3QCjAC7bs5jhAqNmo880jOkA9t9CVCPo6QDjhuVIqvDxAPf7BduYjPkAglQeOcOA9QNVJbC0C5j1AdSrPcg8gP0Ct5Bnq5rQ/QFCJkF+kUUBA7i2b7xbXQEDeQ3hqZKhCQApoImx49kJAtmRVhJv7QkCSSfxA6DpDQHbM1H9xrENA4297gkRnREBf0nNmlhVGQOangpuWrENA2UKQgxKpQkAm4q3zr4NDQJYPnI7bKkNAMJnPXiJtQUAKN3QOeZU9QBFzSdX2KUFAFnw/2iRQP0CBo9OpYXZBQF5mM+Idr0BAYvpeQ7BBQ0C4I5wWPBJDQA==\",\"dtype\":\"float64\",\"order\":\"little\",\"shape\":[176]},\"Year\":[1750,1751,1752,1753,1754,1755,1756,1757,1758,1759,1760,1761,1762,1763,1764,1765,1766,1767,1768,1769,1770,1771,1772,1773,1774,1775,1776,1777,1778,1779,1780,1781,1782,1783,1784,1785,1786,1787,1788,1789,1790,1791,1792,1793,1794,1795,1796,1797,1798,1799,1800,1801,1802,1803,1804,1805,1806,1807,1808,1809,1810,1811,1812,1813,1814,1815,1816,1817,1818,1819,1820,1821,1822,1823,1824,1825,1826,1827,1828,1829,1830,1831,1832,1833,1834,1835,1836,1837,1838,1839,1840,1841,1842,1843,1844,1845,1846,1847,1848,1849,1850,1851,1852,1853,1854,1855,1856,1857,1858,1859,1860,1861,1862,1863,1864,1865,1866,1867,1868,1869,1870,1871,1872,1873,1874,1875,1876,1877,1878,1879,1880,1881,1882,1883,1884,1885,1886,1887,1888,1889,1890,1891,1892,1893,1894,1895,1896,1897,1898,1899,1900,1901,1902,1903,1904,1905,1906,1907,1908,1909,1910,1911,1912,1913,1914,1915,1916,1917,1918,1919,1920,1921,1922,1923,1924,1925],\"continent\":[\"Europe\",\"Europe\",\"Europe\",\"Europe\",\"Europe\",\"Europe\",\"Europe\",\"Europe\",\"Europe\",\"Europe\",\"Europe\",\"Europe\",\"Europe\",\"Europe\",\"Europe\",\"Europe\",\"Europe\",\"Europe\",\"Europe\",\"Europe\",\"Europe\",\"Europe\",\"Europe\",\"Europe\",\"Europe\",\"Europe\",\"Europe\",\"Europe\",\"Europe\",\"Europe\",\"Europe\",\"Europe\",\"Europe\",\"Europe\",\"Europe\",\"Europe\",\"Europe\",\"Europe\",\"Europe\",\"Europe\",\"Europe\",\"Europe\",\"Europe\",\"Europe\",\"Europe\",\"Europe\",\"Europe\",\"Europe\",\"Europe\",\"Europe\",\"Europe\",\"Europe\",\"Europe\",\"Europe\",\"Europe\",\"Europe\",\"Europe\",\"Europe\",\"Europe\",\"Europe\",\"Europe\",\"Europe\",\"Europe\",\"Europe\",\"Europe\",\"Europe\",\"Europe\",\"Europe\",\"Europe\",\"Europe\",\"Europe\",\"Europe\",\"Europe\",\"Europe\",\"Europe\",\"Europe\",\"Europe\",\"Europe\",\"Europe\",\"Europe\",\"Europe\",\"Europe\",\"Europe\",\"Europe\",\"Europe\",\"Europe\",\"Europe\",\"Europe\",\"Europe\",\"Europe\",\"Europe\",\"Europe\",\"Europe\",\"Europe\",\"Europe\",\"Europe\",\"Europe\",\"Europe\",\"Europe\",\"Europe\",\"Europe\",\"Europe\",\"Europe\",\"Europe\",\"Europe\",\"Europe\",\"Europe\",\"Europe\",\"Europe\",\"Europe\",\"Europe\",\"Europe\",\"Europe\",\"Europe\",\"Europe\",\"Europe\",\"Europe\",\"Europe\",\"Europe\",\"Europe\",\"Europe\",\"Europe\",\"Europe\",\"Europe\",\"Europe\",\"Europe\",\"Europe\",\"Europe\",\"Europe\",\"Europe\",\"Europe\",\"Europe\",\"Europe\",\"Europe\",\"Europe\",\"Europe\",\"Europe\",\"Europe\",\"Europe\",\"Europe\",\"Europe\",\"Europe\",\"Europe\",\"Europe\",\"Europe\",\"Europe\",\"Europe\",\"Europe\",\"Europe\",\"Europe\",\"Europe\",\"Europe\",\"Europe\",\"Europe\",\"Europe\",\"Europe\",\"Europe\",\"Europe\",\"Europe\",\"Europe\",\"Europe\",\"Europe\",\"Europe\",\"Europe\",\"Europe\",\"Europe\",\"Europe\",\"Europe\",\"Europe\",\"Europe\",\"Europe\",\"Europe\",\"Europe\",\"Europe\",\"Europe\",\"Europe\"]},\"selected\":{\"id\":\"62939\"},\"selection_policy\":{\"id\":\"62957\"}},\"id\":\"62938\",\"type\":\"ColumnDataSource\"},{\"attributes\":{\"click_policy\":\"mute\",\"coordinates\":null,\"group\":null,\"items\":[{\"id\":\"62914\"},{\"id\":\"62936\"},{\"id\":\"62960\"},{\"id\":\"62986\"},{\"id\":\"63014\"},{\"id\":\"63044\"}],\"location\":[0,0],\"title\":\"continent\"},\"id\":\"62913\",\"type\":\"Legend\"},{\"attributes\":{\"data\":{\"Total_CO2\":{\"__ndarray__\":\"AAAAAAAAAAAAAAAAAAAAAAAAAAAAAAAAAAAAAAAAAAAAAAAAAAAAAAAAAAAAAAAAAAAAAAAAAAAAAAAAAAAAAAAAAAAAAAAAAAAAAAAAAAAAAAAAAAAAAAAAAAAAAAAAAAAAAAAAAAAAAAAAAAAAAAAAAAAAAAAAAAAAAAAAAAAAAAAAAAAAAAAAAAAAAAAAAAAAAAAAAAAAAAAAAAAAAAAAAAAAAAAAAAAAAAAAAAAAAAAAAAAAAAAAAAAAAAAAAAAAAAAAAAAAAAAAAAAAAAAAAAAAAAAAAAAAAAAAAAAAAAAAAAAAAAAAAAAAAAAAAAAAAAAAAAAAAAAAAAAAAAAAAAAAAAAAAAAAAAAAAAAAAAAAAAAAAAAAAAAAAAAAAAAAAAAAAAAAAAAAAAAAAAAAAAAAAAAAAAAAAAAAAAAAAAAAAAAAAAAAAAAAAAAAAAAAAAAAAAAAAAAAAAAAAAAAAAAAAAAAAAAAAAAAAAAAAAAAAAAAAAAAAAAAAAAAAAAAAAAAAAAAAAAAAAAAAAAAAAAAAAAAAAAAAAAAAAAAAAAAAAAAAAAAAAAAAAAAAAAAAAAAAAAAAAAAAAAAAAAAAAAAAAAAAAAAAAAAAAAAAAAAAAAAAAAAAAAAAAAAAAAAAAAAAAAAAAAAAAAAAAAAAAAAAAAAAAAAAAAAAAAAAAAAAAAAAAAAAAAAAAAAAAAAAAAAAAAAAAAAAAAAAAAAAAAAAAAAAAAAAAAAAAAAAAAAAAAAAAAAAAAAAAAAAAAAAAAAAAAAAAAAAAAAAAAAAAAAAAAAAAAAAAAAAAAAAAAAAAAAAAAAAAAAAAAAAAAAAAAAAAAAAAAAAAAAAAAAAAAAAAAAAAAAAAAAAAAAAAAAAAAAAAAAAAAAAAAAAAAAAAAAAAAAAAAAAAAAAAAAAAAAAAAAAAAAAAAAAAAAAAAAAAAAAAAAAAAAAAAAAAAAAAAAAAAAAAAAAAAAAAAAAAAAAAAAAAAAAAAAAAAAAAAAAAAAAAAAAAAAAAAAAAAAAAAAAAAAAAAAAAAAAAAAAAAAAAAAAAAAAAAAAAAAAAAAAAAAAAAAAAAAAAAAAAAAAAAAAAAAAAAAAAAAAAAAAAAAAAAAAAAAAAAAAAAAAAAAAAAAAAAAAAAAAAAAAAAAAAAAAAAAAAAAAAAAAAAAAAAAAAAAAAAAAAAAAAAAAAAAAAAAAAAAAAAAAAAAAAAAAAAAAAAAAAAAAAAAAAAAAAAAAAAAAAAAAAAAAAAAAAAAAAAAAAAAAAAAAAAAAAAAAAAAAAAAAAAAAAAAAAAAAAAAAAAAAAAAAAAAAAAAAAAAAAAAAAAAAAAAAAAAAAAAAAAAAAAAAAAAAAAAAAAAAAAAAAAAAAAAAAAAAAAAAAAAAAAAAAAAAAAAAAAAAAAAAAAAAAAAAAAAAAAAAG1pcnJBujk/2ldf34twRT828vs7HN9LPzby+zsc30s/o+DoqGaVVz8Rz9UVsUtjP/OIkDgntXU/84iQOCe1dT/uDxZSv42BP2YlK4K+cqA/Juvy6l0+pj8Ot8FMmoSuP8GNlC2SdrM/gCEp5XTXtT9R+oMDXqe7P14tNiueObk/Tr/GMj5OpT88egDMN9+xPyFveL/Nobo/dcKIvj0Mwj92k5p6Hl7EP6DRGdc9dcc/vxqkIWXIyj+b7jgEDI7NP4g8x0Oeos4/TXHXT0CV0T+KfYSeDubTPzv33fJURtM/Ez/G3LWE1D8R5UyVLGjWP49dZSwYWNY/EeVMlSxo1j8ocVox3pPaP3COuMPl9tw/yagyjLtB3D8nT1lN1xPdP69IzsaLB+A/j7uG3Mv73z/BUhyF52TbP6JupK3MmOA/udZcMeKA4T9dyc/IJGTiPw==\",\"dtype\":\"float64\",\"order\":\"little\",\"shape\":[176]},\"Year\":[1750,1751,1752,1753,1754,1755,1756,1757,1758,1759,1760,1761,1762,1763,1764,1765,1766,1767,1768,1769,1770,1771,1772,1773,1774,1775,1776,1777,1778,1779,1780,1781,1782,1783,1784,1785,1786,1787,1788,1789,1790,1791,1792,1793,1794,1795,1796,1797,1798,1799,1800,1801,1802,1803,1804,1805,1806,1807,1808,1809,1810,1811,1812,1813,1814,1815,1816,1817,1818,1819,1820,1821,1822,1823,1824,1825,1826,1827,1828,1829,1830,1831,1832,1833,1834,1835,1836,1837,1838,1839,1840,1841,1842,1843,1844,1845,1846,1847,1848,1849,1850,1851,1852,1853,1854,1855,1856,1857,1858,1859,1860,1861,1862,1863,1864,1865,1866,1867,1868,1869,1870,1871,1872,1873,1874,1875,1876,1877,1878,1879,1880,1881,1882,1883,1884,1885,1886,1887,1888,1889,1890,1891,1892,1893,1894,1895,1896,1897,1898,1899,1900,1901,1902,1903,1904,1905,1906,1907,1908,1909,1910,1911,1912,1913,1914,1915,1916,1917,1918,1919,1920,1921,1922,1923,1924,1925],\"continent\":[\"Africa\",\"Africa\",\"Africa\",\"Africa\",\"Africa\",\"Africa\",\"Africa\",\"Africa\",\"Africa\",\"Africa\",\"Africa\",\"Africa\",\"Africa\",\"Africa\",\"Africa\",\"Africa\",\"Africa\",\"Africa\",\"Africa\",\"Africa\",\"Africa\",\"Africa\",\"Africa\",\"Africa\",\"Africa\",\"Africa\",\"Africa\",\"Africa\",\"Africa\",\"Africa\",\"Africa\",\"Africa\",\"Africa\",\"Africa\",\"Africa\",\"Africa\",\"Africa\",\"Africa\",\"Africa\",\"Africa\",\"Africa\",\"Africa\",\"Africa\",\"Africa\",\"Africa\",\"Africa\",\"Africa\",\"Africa\",\"Africa\",\"Africa\",\"Africa\",\"Africa\",\"Africa\",\"Africa\",\"Africa\",\"Africa\",\"Africa\",\"Africa\",\"Africa\",\"Africa\",\"Africa\",\"Africa\",\"Africa\",\"Africa\",\"Africa\",\"Africa\",\"Africa\",\"Africa\",\"Africa\",\"Africa\",\"Africa\",\"Africa\",\"Africa\",\"Africa\",\"Africa\",\"Africa\",\"Africa\",\"Africa\",\"Africa\",\"Africa\",\"Africa\",\"Africa\",\"Africa\",\"Africa\",\"Africa\",\"Africa\",\"Africa\",\"Africa\",\"Africa\",\"Africa\",\"Africa\",\"Africa\",\"Africa\",\"Africa\",\"Africa\",\"Africa\",\"Africa\",\"Africa\",\"Africa\",\"Africa\",\"Africa\",\"Africa\",\"Africa\",\"Africa\",\"Africa\",\"Africa\",\"Africa\",\"Africa\",\"Africa\",\"Africa\",\"Africa\",\"Africa\",\"Africa\",\"Africa\",\"Africa\",\"Africa\",\"Africa\",\"Africa\",\"Africa\",\"Africa\",\"Africa\",\"Africa\",\"Africa\",\"Africa\",\"Africa\",\"Africa\",\"Africa\",\"Africa\",\"Africa\",\"Africa\",\"Africa\",\"Africa\",\"Africa\",\"Africa\",\"Africa\",\"Africa\",\"Africa\",\"Africa\",\"Africa\",\"Africa\",\"Africa\",\"Africa\",\"Africa\",\"Africa\",\"Africa\",\"Africa\",\"Africa\",\"Africa\",\"Africa\",\"Africa\",\"Africa\",\"Africa\",\"Africa\",\"Africa\",\"Africa\",\"Africa\",\"Africa\",\"Africa\",\"Africa\",\"Africa\",\"Africa\",\"Africa\",\"Africa\",\"Africa\",\"Africa\",\"Africa\",\"Africa\",\"Africa\",\"Africa\",\"Africa\",\"Africa\",\"Africa\",\"Africa\",\"Africa\",\"Africa\",\"Africa\"]},\"selected\":{\"id\":\"62896\"},\"selection_policy\":{\"id\":\"62910\"}},\"id\":\"62895\",\"type\":\"ColumnDataSource\"},{\"attributes\":{\"line_alpha\":0.2,\"line_color\":\"#fc4f30\",\"line_width\":2,\"x\":{\"field\":\"Year\"},\"y\":{\"field\":\"Total_CO2\"}},\"id\":\"62921\",\"type\":\"Line\"},{\"attributes\":{\"callback\":null,\"renderers\":[{\"id\":\"62901\"},{\"id\":\"62922\"},{\"id\":\"62944\"},{\"id\":\"62968\"},{\"id\":\"62994\"},{\"id\":\"63022\"}],\"tags\":[\"hv_created\"],\"tooltips\":[[\"continent\",\"@{continent}\"],[\"Year\",\"@{Year}\"],[\"Total_CO2\",\"@{Total_CO2}\"]]},\"id\":\"62853\",\"type\":\"HoverTool\"},{\"attributes\":{\"margin\":[5,5,5,5],\"name\":\"HSpacer226808\",\"sizing_mode\":\"stretch_width\"},\"id\":\"62850\",\"type\":\"Spacer\"},{\"attributes\":{\"line_alpha\":0.1,\"line_color\":\"#6d904f\",\"line_width\":2,\"x\":{\"field\":\"Year\"},\"y\":{\"field\":\"Total_CO2\"}},\"id\":\"62966\",\"type\":\"Line\"},{\"attributes\":{},\"id\":\"62876\",\"type\":\"SaveTool\"},{\"attributes\":{\"end\":1925.0,\"reset_end\":1925.0,\"reset_start\":1750.0,\"start\":1750.0,\"tags\":[[[\"Year\",\"Year\",null]]]},\"id\":\"62851\",\"type\":\"Range1d\"},{\"attributes\":{\"line_color\":\"#e5ae38\",\"line_width\":2,\"x\":{\"field\":\"Year\"},\"y\":{\"field\":\"Total_CO2\"}},\"id\":\"62941\",\"type\":\"Line\"},{\"attributes\":{},\"id\":\"62880\",\"type\":\"ResetTool\"},{\"attributes\":{\"label\":{\"value\":\"Africa\"},\"renderers\":[{\"id\":\"62901\"}]},\"id\":\"62914\",\"type\":\"LegendItem\"},{\"attributes\":{\"line_color\":\"#17becf\",\"line_width\":2,\"x\":{\"field\":\"Year\"},\"y\":{\"field\":\"Total_CO2\"}},\"id\":\"63045\",\"type\":\"Line\"},{\"attributes\":{\"client_comm_id\":\"17087836097c4a148212544142154e1b\",\"comm_id\":\"2e5f1f4079824e96959a258e296085a0\",\"plot_id\":\"62844\"},\"id\":\"63126\",\"type\":\"panel.models.comm_manager.CommManager\"},{\"attributes\":{\"source\":{\"id\":\"62895\"}},\"id\":\"62902\",\"type\":\"CDSView\"},{\"attributes\":{\"line_alpha\":0.1,\"line_color\":\"#17becf\",\"line_width\":2,\"x\":{\"field\":\"Year\"},\"y\":{\"field\":\"Total_CO2\"}},\"id\":\"63020\",\"type\":\"Line\"},{\"attributes\":{\"line_alpha\":0.1,\"line_color\":\"#fc4f30\",\"line_width\":2,\"x\":{\"field\":\"Year\"},\"y\":{\"field\":\"Total_CO2\"}},\"id\":\"62920\",\"type\":\"Line\"},{\"attributes\":{\"line_color\":\"#e5ae38\",\"line_width\":2,\"x\":{\"field\":\"Year\"},\"y\":{\"field\":\"Total_CO2\"}},\"id\":\"62961\",\"type\":\"Line\"},{\"attributes\":{},\"id\":\"62910\",\"type\":\"UnionRenderers\"},{\"attributes\":{\"line_alpha\":0.1,\"line_color\":\"#e5ae38\",\"line_width\":2,\"x\":{\"field\":\"Year\"},\"y\":{\"field\":\"Total_CO2\"}},\"id\":\"62942\",\"type\":\"Line\"},{\"attributes\":{},\"id\":\"62957\",\"type\":\"UnionRenderers\"},{\"attributes\":{\"active\":0,\"button_type\":\"success\",\"labels\":[\"Total_CO2\",\"Per Capita\"],\"margin\":[5,10,5,10],\"sizing_mode\":\"stretch_width\"},\"id\":\"62849\",\"type\":\"RadioButtonGroup\"},{\"attributes\":{},\"id\":\"63011\",\"type\":\"UnionRenderers\"}],\"root_ids\":[\"62844\",\"63126\"]},\"title\":\"Bokeh Application\",\"version\":\"2.4.3\"}};\n",
       "    var render_items = [{\"docid\":\"7b758e89-9f0a-4d9c-a744-b343334014c1\",\"root_ids\":[\"62844\"],\"roots\":{\"62844\":\"cc5b4737-01d0-4abf-925b-45a6473224e1\"}}];\n",
       "    root.Bokeh.embed.embed_items_notebook(docs_json, render_items);\n",
       "  }\n",
       "  if (root.Bokeh !== undefined && root.Bokeh.Panel !== undefined && ( root['Tabulator'] !== undefined) && ( root['Tabulator'] !== undefined) && ( root['Tabulator'] !== undefined) && ( root['Tabulator'] !== undefined)) {\n",
       "    embed_document(root);\n",
       "  } else {\n",
       "    var attempts = 0;\n",
       "    var timer = setInterval(function(root) {\n",
       "      if (root.Bokeh !== undefined && root.Bokeh.Panel !== undefined && (root['Tabulator'] !== undefined) && (root['Tabulator'] !== undefined) && (root['Tabulator'] !== undefined) && (root['Tabulator'] !== undefined)) {\n",
       "        clearInterval(timer);\n",
       "        embed_document(root);\n",
       "      } else if (document.readyState == \"complete\") {\n",
       "        attempts++;\n",
       "        if (attempts > 200) {\n",
       "          clearInterval(timer);\n",
       "          console.log(\"Bokeh: ERROR: Unable to run BokehJS code because BokehJS library is missing\");\n",
       "        }\n",
       "      }\n",
       "    }, 25, root)\n",
       "  }\n",
       "})(window);</script>"
      ],
      "text/plain": [
       "<hvplot.interactive.Interactive at 0x7fe038a69520>"
      ]
     },
     "execution_count": 421,
     "metadata": {
      "application/vnd.holoviews_exec.v0+json": {
       "id": "62844"
      }
     },
     "output_type": "execute_result"
    }
   ],
   "source": [
    "# plot grapgh using the c02 pipeline\n",
    "co2_plot = co2_pipeline.hvplot(x = 'Year', by='continent', y=yaxis_Total_CO2,line_width=2, title=\"CO2 emission by continent\")\n",
    "co2_plot"
   ]
  },
  {
   "cell_type": "markdown",
   "id": "3809b744",
   "metadata": {},
   "source": [
    "###Table - CO2 emission over time by continent"
   ]
  },
  {
   "cell_type": "code",
   "execution_count": 392,
   "id": "760f78b8",
   "metadata": {
    "scrolled": true
   },
   "outputs": [
    {
     "data": {},
     "metadata": {},
     "output_type": "display_data"
    },
    {
     "data": {
      "application/vnd.holoviews_exec.v0+json": "",
      "text/html": [
       "<div id='60015'>\n",
       "  <div class=\"bk-root\" id=\"44c01d88-2fc8-46f0-bab3-1d0a4a850e97\" data-root-id=\"60015\"></div>\n",
       "</div>\n",
       "<script type=\"application/javascript\">(function(root) {\n",
       "  function embed_document(root) {\n",
       "    var docs_json = {\"5a0c9e71-253d-4339-b1c1-4999a939fa81\":{\"defs\":[{\"extends\":null,\"module\":null,\"name\":\"ReactiveHTML1\",\"overrides\":[],\"properties\":[]},{\"extends\":null,\"module\":null,\"name\":\"FlexBox1\",\"overrides\":[],\"properties\":[{\"default\":\"flex-start\",\"kind\":null,\"name\":\"align_content\"},{\"default\":\"flex-start\",\"kind\":null,\"name\":\"align_items\"},{\"default\":\"row\",\"kind\":null,\"name\":\"flex_direction\"},{\"default\":\"wrap\",\"kind\":null,\"name\":\"flex_wrap\"},{\"default\":\"flex-start\",\"kind\":null,\"name\":\"justify_content\"}]},{\"extends\":null,\"module\":null,\"name\":\"GridStack1\",\"overrides\":[],\"properties\":[{\"default\":\"warn\",\"kind\":null,\"name\":\"mode\"},{\"default\":null,\"kind\":null,\"name\":\"ncols\"},{\"default\":null,\"kind\":null,\"name\":\"nrows\"},{\"default\":true,\"kind\":null,\"name\":\"allow_resize\"},{\"default\":true,\"kind\":null,\"name\":\"allow_drag\"},{\"default\":[],\"kind\":null,\"name\":\"state\"}]},{\"extends\":null,\"module\":null,\"name\":\"click1\",\"overrides\":[],\"properties\":[{\"default\":\"\",\"kind\":null,\"name\":\"terminal_output\"},{\"default\":\"\",\"kind\":null,\"name\":\"debug_name\"},{\"default\":0,\"kind\":null,\"name\":\"clears\"}]},{\"extends\":null,\"module\":null,\"name\":\"NotificationAreaBase1\",\"overrides\":[],\"properties\":[{\"default\":\"bottom-right\",\"kind\":null,\"name\":\"position\"},{\"default\":0,\"kind\":null,\"name\":\"_clear\"}]},{\"extends\":null,\"module\":null,\"name\":\"NotificationArea1\",\"overrides\":[],\"properties\":[{\"default\":[],\"kind\":null,\"name\":\"notifications\"},{\"default\":\"bottom-right\",\"kind\":null,\"name\":\"position\"},{\"default\":0,\"kind\":null,\"name\":\"_clear\"},{\"default\":[{\"background\":\"#ffc107\",\"icon\":{\"className\":\"fas fa-exclamation-triangle\",\"color\":\"white\",\"tagName\":\"i\"},\"type\":\"warning\"},{\"background\":\"#007bff\",\"icon\":{\"className\":\"fas fa-info-circle\",\"color\":\"white\",\"tagName\":\"i\"},\"type\":\"info\"}],\"kind\":null,\"name\":\"types\"}]},{\"extends\":null,\"module\":null,\"name\":\"Notification\",\"overrides\":[],\"properties\":[{\"default\":null,\"kind\":null,\"name\":\"background\"},{\"default\":3000,\"kind\":null,\"name\":\"duration\"},{\"default\":null,\"kind\":null,\"name\":\"icon\"},{\"default\":\"\",\"kind\":null,\"name\":\"message\"},{\"default\":null,\"kind\":null,\"name\":\"notification_type\"},{\"default\":false,\"kind\":null,\"name\":\"_destroyed\"}]},{\"extends\":null,\"module\":null,\"name\":\"TemplateActions1\",\"overrides\":[],\"properties\":[{\"default\":0,\"kind\":null,\"name\":\"open_modal\"},{\"default\":0,\"kind\":null,\"name\":\"close_modal\"}]},{\"extends\":null,\"module\":null,\"name\":\"MaterialTemplateActions1\",\"overrides\":[],\"properties\":[{\"default\":0,\"kind\":null,\"name\":\"open_modal\"},{\"default\":0,\"kind\":null,\"name\":\"close_modal\"}]}],\"roots\":{\"references\":[{\"attributes\":{\"children\":[{\"id\":\"60019\"}],\"margin\":[0,0,0,0],\"name\":\"Column219790\",\"sizing_mode\":\"stretch_width\"},\"id\":\"60018\",\"type\":\"Column\"},{\"attributes\":{\"editor\":{\"id\":\"60036\"},\"field\":\"Year\",\"formatter\":{\"id\":\"60035\"},\"title\":\"Year\",\"width\":0},\"id\":\"60037\",\"type\":\"TableColumn\"},{\"attributes\":{\"text_align\":\"right\"},\"id\":\"60035\",\"type\":\"NumberFormatter\"},{\"attributes\":{\"columns\":[{\"id\":\"60027\"},{\"id\":\"60032\"},{\"id\":\"60037\"},{\"id\":\"60042\"}],\"configuration\":{\"columns\":[{\"field\":\"index\"},{\"field\":\"continent\"},{\"field\":\"Year\"},{\"field\":\"Total_CO2\"}],\"dataTree\":false,\"selectable\":true},\"indexes\":[\"index\"],\"layout\":\"fit_data_table\",\"margin\":[5,10,5,10],\"max_page\":161,\"name\":\"\",\"page\":1,\"page_size\":9,\"pagination\":\"remote\",\"select_mode\":true,\"selectable_rows\":null,\"sizing_mode\":\"stretch_width\",\"source\":{\"id\":\"60022\"},\"styles\":{\"data\":{},\"id\":\"3b5f3ee102bb4b5a8eeb442c29846dc6\"},\"subscribed_events\":[\"table-edit\",\"cell-click\"]},\"id\":\"60045\",\"type\":\"panel.models.tabulator.DataTabulator\"},{\"attributes\":{},\"id\":\"60047\",\"type\":\"UnionRenderers\"},{\"attributes\":{\"format\":\"0,0.0[00000]\",\"text_align\":\"right\"},\"id\":\"60040\",\"type\":\"NumberFormatter\"},{\"attributes\":{\"data\":{\"Total_CO2\":{\"__ndarray__\":\"AAAAAAAAAAAAAAAAAAAAAAAAAAAAAAAANhCB2fPrzT8AAAAAAAAAAAAAAAAAAAAAAAAAAAAAAAAAAAAAAAAAADYQgdnz680/\",\"dtype\":\"float64\",\"order\":\"little\",\"shape\":[9]},\"Year\":[1750,1750,1750,1750,1750,1750,1751,1751,1751],\"continent\":[\"Africa\",\"Oceania\",\"North America\",\"Europe\",\"Asia\",\"South America\",\"North America\",\"South America\",\"Europe\"],\"index\":[0,1,2,3,4,5,6,7,8]},\"selected\":{\"id\":\"60023\"},\"selection_policy\":{\"id\":\"60047\"}},\"id\":\"60022\",\"type\":\"ColumnDataSource\"},{\"attributes\":{},\"id\":\"60036\",\"type\":\"IntEditor\"},{\"attributes\":{\"children\":[{\"id\":\"60016\"}],\"margin\":[0,0,0,0],\"name\":\"Row219822\",\"sizing_mode\":\"stretch_width\"},\"id\":\"60015\",\"type\":\"Row\"},{\"attributes\":{\"children\":[{\"id\":\"60045\"}],\"margin\":[0,0,0,0],\"name\":\"Row219795\",\"sizing_mode\":\"stretch_width\"},\"id\":\"60021\",\"type\":\"Row\"},{\"attributes\":{},\"id\":\"60041\",\"type\":\"NumberEditor\"},{\"attributes\":{\"indices\":[]},\"id\":\"60023\",\"type\":\"Selection\"},{\"attributes\":{},\"id\":\"60026\",\"type\":\"CellEditor\"},{\"attributes\":{\"editor\":{\"id\":\"60026\"},\"field\":\"index\",\"formatter\":{\"id\":\"60024\"},\"title\":\"index\",\"width\":0},\"id\":\"60027\",\"type\":\"TableColumn\"},{\"attributes\":{\"children\":[{\"id\":\"60017\"},{\"id\":\"60021\"}],\"margin\":[0,0,0,0],\"name\":\"Column219821\",\"sizing_mode\":\"stretch_width\"},\"id\":\"60016\",\"type\":\"Column\"},{\"attributes\":{\"text_align\":\"left\"},\"id\":\"60024\",\"type\":\"NumberFormatter\"},{\"attributes\":{\"editor\":{\"id\":\"60031\"},\"field\":\"continent\",\"formatter\":{\"id\":\"60030\"},\"title\":\"continent\",\"width\":0},\"id\":\"60032\",\"type\":\"TableColumn\"},{\"attributes\":{\"editor\":{\"id\":\"60041\"},\"field\":\"Total_CO2\",\"formatter\":{\"id\":\"60040\"},\"title\":\"Total_CO2\",\"width\":0},\"id\":\"60042\",\"type\":\"TableColumn\"},{\"attributes\":{\"children\":[{\"id\":\"60018\"},{\"id\":\"60020\"}],\"margin\":[0,0,0,0],\"name\":\"Row219820\",\"sizing_mode\":\"stretch_width\"},\"id\":\"60017\",\"type\":\"Row\"},{\"attributes\":{},\"id\":\"60030\",\"type\":\"StringFormatter\"},{\"attributes\":{\"client_comm_id\":\"b1b9e12317c7437bb326ea1fea7e31af\",\"comm_id\":\"4f36df559eb64304b62745a7f74d4c7c\",\"plot_id\":\"60015\"},\"id\":\"60053\",\"type\":\"panel.models.comm_manager.CommManager\"},{\"attributes\":{\"margin\":[5,5,5,5],\"name\":\"HSpacer219819\",\"sizing_mode\":\"stretch_width\"},\"id\":\"60020\",\"type\":\"Spacer\"},{\"attributes\":{\"end\":2021,\"margin\":[5,10,5,10],\"start\":1750,\"step\":5,\"title\":\"Year slider\",\"value\":1990},\"id\":\"60019\",\"type\":\"Slider\"},{\"attributes\":{},\"id\":\"60031\",\"type\":\"StringEditor\"}],\"root_ids\":[\"60015\",\"60053\"]},\"title\":\"Bokeh Application\",\"version\":\"2.4.3\"}};\n",
       "    var render_items = [{\"docid\":\"5a0c9e71-253d-4339-b1c1-4999a939fa81\",\"root_ids\":[\"60015\"],\"roots\":{\"60015\":\"44c01d88-2fc8-46f0-bab3-1d0a4a850e97\"}}];\n",
       "    root.Bokeh.embed.embed_items_notebook(docs_json, render_items);\n",
       "  }\n",
       "  if (root.Bokeh !== undefined && root.Bokeh.Panel !== undefined && ( root['Tabulator'] !== undefined) && ( root['Tabulator'] !== undefined) && ( root['Tabulator'] !== undefined) && ( root['Tabulator'] !== undefined)) {\n",
       "    embed_document(root);\n",
       "  } else {\n",
       "    var attempts = 0;\n",
       "    var timer = setInterval(function(root) {\n",
       "      if (root.Bokeh !== undefined && root.Bokeh.Panel !== undefined && (root['Tabulator'] !== undefined) && (root['Tabulator'] !== undefined) && (root['Tabulator'] !== undefined) && (root['Tabulator'] !== undefined)) {\n",
       "        clearInterval(timer);\n",
       "        embed_document(root);\n",
       "      } else if (document.readyState == \"complete\") {\n",
       "        attempts++;\n",
       "        if (attempts > 200) {\n",
       "          clearInterval(timer);\n",
       "          console.log(\"Bokeh: ERROR: Unable to run BokehJS code because BokehJS library is missing\");\n",
       "        }\n",
       "      }\n",
       "    }, 25, root)\n",
       "  }\n",
       "})(window);</script>"
      ],
      "text/plain": [
       "<hvplot.interactive.Interactive at 0x7fe02815b670>"
      ]
     },
     "execution_count": 392,
     "metadata": {
      "application/vnd.holoviews_exec.v0+json": {
       "id": "60015"
      }
     },
     "output_type": "execute_result"
    }
   ],
   "source": [
    "co2_table = co2_pipeline.pipe(pn.widgets.Tabulator, pagination='remote', page_size = 9, sizing_mode='stretch_width') \n",
    "co2_table"
   ]
  },
  {
   "cell_type": "markdown",
   "id": "3fd46d9f",
   "metadata": {},
   "source": [
    "###CO2 vs GDP scatterplot"
   ]
  },
  {
   "cell_type": "code",
   "execution_count": null,
   "id": "12e57f3f",
   "metadata": {},
   "outputs": [],
   "source": [
    "co2_vs_per_capita_scatterplot_pipeline = (\n",
    "    idf[\n",
    "        (idf.Year == year_slider)\n",
    "    ]\n",
    "    .groupby(['continent', 'Year', 'Per Capita'])['Total_CO2'].mean()\n",
    "    .to_frame()\n",
    "    .reset_index()\n",
    "    .sort_values(by='Year')  \n",
    "    .reset_index(drop=True)\n",
    ")\n",
    "co2_vs_per_capita_scatterplot_pipeline"
   ]
  },
  {
   "cell_type": "code",
   "execution_count": 424,
   "id": "c12adc8d",
   "metadata": {
    "scrolled": false
   },
   "outputs": [
    {
     "data": {},
     "metadata": {},
     "output_type": "display_data"
    },
    {
     "data": {},
     "metadata": {},
     "output_type": "display_data"
    },
    {
     "data": {
      "application/vnd.holoviews_exec.v0+json": "",
      "text/html": [
       "<div id='64076'>\n",
       "  <div class=\"bk-root\" id=\"85b5dadd-160d-4b1a-ba88-3088182af491\" data-root-id=\"64076\"></div>\n",
       "</div>\n",
       "<script type=\"application/javascript\">(function(root) {\n",
       "  function embed_document(root) {\n",
       "    var docs_json = {\"4b42a8bb-004c-45b0-9bf6-f3c7c245d67b\":{\"defs\":[{\"extends\":null,\"module\":null,\"name\":\"ReactiveHTML1\",\"overrides\":[],\"properties\":[]},{\"extends\":null,\"module\":null,\"name\":\"FlexBox1\",\"overrides\":[],\"properties\":[{\"default\":\"flex-start\",\"kind\":null,\"name\":\"align_content\"},{\"default\":\"flex-start\",\"kind\":null,\"name\":\"align_items\"},{\"default\":\"row\",\"kind\":null,\"name\":\"flex_direction\"},{\"default\":\"wrap\",\"kind\":null,\"name\":\"flex_wrap\"},{\"default\":\"flex-start\",\"kind\":null,\"name\":\"justify_content\"}]},{\"extends\":null,\"module\":null,\"name\":\"GridStack1\",\"overrides\":[],\"properties\":[{\"default\":\"warn\",\"kind\":null,\"name\":\"mode\"},{\"default\":null,\"kind\":null,\"name\":\"ncols\"},{\"default\":null,\"kind\":null,\"name\":\"nrows\"},{\"default\":true,\"kind\":null,\"name\":\"allow_resize\"},{\"default\":true,\"kind\":null,\"name\":\"allow_drag\"},{\"default\":[],\"kind\":null,\"name\":\"state\"}]},{\"extends\":null,\"module\":null,\"name\":\"click1\",\"overrides\":[],\"properties\":[{\"default\":\"\",\"kind\":null,\"name\":\"terminal_output\"},{\"default\":\"\",\"kind\":null,\"name\":\"debug_name\"},{\"default\":0,\"kind\":null,\"name\":\"clears\"}]},{\"extends\":null,\"module\":null,\"name\":\"NotificationAreaBase1\",\"overrides\":[],\"properties\":[{\"default\":\"bottom-right\",\"kind\":null,\"name\":\"position\"},{\"default\":0,\"kind\":null,\"name\":\"_clear\"}]},{\"extends\":null,\"module\":null,\"name\":\"NotificationArea1\",\"overrides\":[],\"properties\":[{\"default\":[],\"kind\":null,\"name\":\"notifications\"},{\"default\":\"bottom-right\",\"kind\":null,\"name\":\"position\"},{\"default\":0,\"kind\":null,\"name\":\"_clear\"},{\"default\":[{\"background\":\"#ffc107\",\"icon\":{\"className\":\"fas fa-exclamation-triangle\",\"color\":\"white\",\"tagName\":\"i\"},\"type\":\"warning\"},{\"background\":\"#007bff\",\"icon\":{\"className\":\"fas fa-info-circle\",\"color\":\"white\",\"tagName\":\"i\"},\"type\":\"info\"}],\"kind\":null,\"name\":\"types\"}]},{\"extends\":null,\"module\":null,\"name\":\"Notification\",\"overrides\":[],\"properties\":[{\"default\":null,\"kind\":null,\"name\":\"background\"},{\"default\":3000,\"kind\":null,\"name\":\"duration\"},{\"default\":null,\"kind\":null,\"name\":\"icon\"},{\"default\":\"\",\"kind\":null,\"name\":\"message\"},{\"default\":null,\"kind\":null,\"name\":\"notification_type\"},{\"default\":false,\"kind\":null,\"name\":\"_destroyed\"}]},{\"extends\":null,\"module\":null,\"name\":\"TemplateActions1\",\"overrides\":[],\"properties\":[{\"default\":0,\"kind\":null,\"name\":\"open_modal\"},{\"default\":0,\"kind\":null,\"name\":\"close_modal\"}]},{\"extends\":null,\"module\":null,\"name\":\"MaterialTemplateActions1\",\"overrides\":[],\"properties\":[{\"default\":0,\"kind\":null,\"name\":\"open_modal\"},{\"default\":0,\"kind\":null,\"name\":\"close_modal\"}]}],\"roots\":{\"references\":[{\"attributes\":{\"fill_alpha\":{\"value\":0.7},\"fill_color\":{\"value\":\"#30a2da\"},\"hatch_alpha\":{\"value\":0.7},\"hatch_color\":{\"value\":\"#30a2da\"},\"line_alpha\":{\"value\":0.7},\"line_color\":{\"value\":\"#30a2da\"},\"size\":{\"value\":8.94427190999916},\"x\":{\"field\":\"Per Capita\"},\"y\":{\"field\":\"Total_CO2\"}},\"id\":\"64130\",\"type\":\"Scatter\"},{\"attributes\":{\"angle\":{\"value\":0.0},\"fill_alpha\":{\"value\":0.7},\"fill_color\":{\"value\":\"#17becf\"},\"hatch_alpha\":{\"value\":0.7},\"hatch_color\":{\"value\":\"#17becf\"},\"hatch_scale\":{\"value\":12.0},\"hatch_weight\":{\"value\":1.0},\"line_alpha\":{\"value\":0.7},\"line_cap\":{\"value\":\"butt\"},\"line_color\":{\"value\":\"#17becf\"},\"line_dash\":{\"value\":[]},\"line_dash_offset\":{\"value\":0},\"line_join\":{\"value\":\"bevel\"},\"line_width\":{\"value\":1},\"marker\":{\"value\":\"circle\"},\"size\":{\"value\":8.94427190999916},\"x\":{\"field\":\"Per Capita\"},\"y\":{\"field\":\"Total_CO2\"}},\"id\":\"64180\",\"type\":\"Scatter\"},{\"attributes\":{},\"id\":\"64192\",\"type\":\"UnionRenderers\"},{\"attributes\":{},\"id\":\"64126\",\"type\":\"AllLabels\"},{\"attributes\":{},\"id\":\"64146\",\"type\":\"Selection\"},{\"attributes\":{},\"id\":\"64196\",\"type\":\"UnionRenderers\"},{\"attributes\":{\"angle\":{\"value\":0.0},\"fill_alpha\":{\"value\":0.7},\"fill_color\":{\"value\":\"#e5ae38\"},\"hatch_alpha\":{\"value\":0.7},\"hatch_color\":{\"value\":\"#e5ae38\"},\"hatch_scale\":{\"value\":12.0},\"hatch_weight\":{\"value\":1.0},\"line_alpha\":{\"value\":0.7},\"line_cap\":{\"value\":\"butt\"},\"line_color\":{\"value\":\"#e5ae38\"},\"line_dash\":{\"value\":[]},\"line_dash_offset\":{\"value\":0},\"line_join\":{\"value\":\"bevel\"},\"line_width\":{\"value\":1},\"marker\":{\"value\":\"circle\"},\"size\":{\"value\":8.94427190999916},\"x\":{\"field\":\"Per Capita\"},\"y\":{\"field\":\"Total_CO2\"}},\"id\":\"64153\",\"type\":\"Scatter\"},{\"attributes\":{\"end\":5634.7458728,\"reset_end\":5634.7458728,\"reset_start\":-512.2496248000001,\"start\":-512.2496248000001,\"tags\":[[[\"Total_CO2\",\"Total_CO2\",null]]]},\"id\":\"64084\",\"type\":\"Range1d\"},{\"attributes\":{\"fill_alpha\":{\"value\":0.7},\"fill_color\":{\"value\":\"#8b8b8b\"},\"hatch_alpha\":{\"value\":0.1},\"hatch_color\":{\"value\":\"#8b8b8b\"},\"line_alpha\":{\"value\":0.7},\"line_color\":{\"value\":\"#8b8b8b\"},\"size\":{\"value\":8.94427190999916},\"x\":{\"field\":\"Per Capita\"},\"y\":{\"field\":\"Total_CO2\"}},\"id\":\"64167\",\"type\":\"Scatter\"},{\"attributes\":{},\"id\":\"64123\",\"type\":\"AllLabels\"},{\"attributes\":{},\"id\":\"64188\",\"type\":\"UnionRenderers\"},{\"attributes\":{},\"id\":\"64101\",\"type\":\"BasicTicker\"},{\"attributes\":{},\"id\":\"64105\",\"type\":\"BasicTicker\"},{\"attributes\":{\"fill_alpha\":{\"value\":0.2},\"fill_color\":{\"value\":\"#8b8b8b\"},\"hatch_alpha\":{\"value\":0.2},\"hatch_color\":{\"value\":\"#8b8b8b\"},\"line_alpha\":{\"value\":0.2},\"line_color\":{\"value\":\"#8b8b8b\"},\"size\":{\"value\":8.94427190999916},\"x\":{\"field\":\"Per Capita\"},\"y\":{\"field\":\"Total_CO2\"}},\"id\":\"64168\",\"type\":\"Scatter\"},{\"attributes\":{\"data\":{\"Per Capita\":{\"__ndarray__\":\"F56Xio357j8Q6EzaVF30P0q2upwSkPY/mRBzSdU29z/4b16c+Cr4P1uwVBfwMvk/P+PCgZDs+z+hnj4Cf7gDQDS5GAPreAtAVrsmpDXWEECmgLT/AdbgP0s7NZcbrBhAvALRkzJJGUA=\",\"dtype\":\"float64\",\"order\":\"little\",\"shape\":[13]},\"Per_Capita\":{\"__ndarray__\":\"F56Xio357j8Q6EzaVF30P0q2upwSkPY/mRBzSdU29z/4b16c+Cr4P1uwVBfwMvk/P+PCgZDs+z+hnj4Cf7gDQDS5GAPreAtAVrsmpDXWEECmgLT/AdbgP0s7NZcbrBhAvALRkzJJGUA=\",\"dtype\":\"float64\",\"order\":\"little\",\"shape\":[13]},\"Total_CO2\":{\"__ndarray__\":\"e2ZJgJpmNUCOPuYDAr0PQCLH1jOEAyRAkxgEVg5Va0D9S1KZYg7yP2l0B7EzdTBAQZscPulyTECVtyOcFnJAQGNgHccPBVxA8N5RY0LM+z9LPKBsyhUBQJDbL5+sdF5A9u0kIvwL5z8=\",\"dtype\":\"float64\",\"order\":\"little\",\"shape\":[13]},\"continent\":[\"South America\",\"South America\",\"South America\",\"South America\",\"South America\",\"South America\",\"South America\",\"South America\",\"South America\",\"South America\",\"South America\",\"South America\",\"South America\"]},\"selected\":{\"id\":\"64173\"},\"selection_policy\":{\"id\":\"64198\"}},\"id\":\"64172\",\"type\":\"ColumnDataSource\"},{\"attributes\":{\"children\":[{\"id\":\"64091\"}],\"margin\":[0,0,0,0],\"name\":\"Row231868\",\"sizing_mode\":\"stretch_width\"},\"id\":\"64082\",\"type\":\"Row\"},{\"attributes\":{},\"id\":\"64112\",\"type\":\"ResetTool\"},{\"attributes\":{},\"id\":\"64173\",\"type\":\"Selection\"},{\"attributes\":{\"fill_alpha\":{\"value\":0.2},\"fill_color\":{\"value\":\"#e5ae38\"},\"hatch_alpha\":{\"value\":0.2},\"hatch_color\":{\"value\":\"#e5ae38\"},\"line_alpha\":{\"value\":0.2},\"line_color\":{\"value\":\"#e5ae38\"},\"size\":{\"value\":8.94427190999916},\"x\":{\"field\":\"Per Capita\"},\"y\":{\"field\":\"Total_CO2\"}},\"id\":\"64150\",\"type\":\"Scatter\"},{\"attributes\":{},\"id\":\"64122\",\"type\":\"BasicTickFormatter\"},{\"attributes\":{\"children\":[{\"id\":\"64079\"},{\"id\":\"64081\"}],\"margin\":[0,0,0,0],\"name\":\"Row232083\",\"sizing_mode\":\"stretch_width\"},\"id\":\"64078\",\"type\":\"Row\"},{\"attributes\":{\"below\":[{\"id\":\"64100\"}],\"center\":[{\"id\":\"64103\"},{\"id\":\"64107\"}],\"height\":500,\"left\":[{\"id\":\"64104\"}],\"margin\":[5,5,5,5],\"min_border_bottom\":10,\"min_border_left\":10,\"min_border_right\":10,\"min_border_top\":10,\"renderers\":[{\"id\":\"64133\"},{\"id\":\"64142\"},{\"id\":\"64151\"},{\"id\":\"64160\"},{\"id\":\"64169\"},{\"id\":\"64178\"}],\"sizing_mode\":\"stretch_width\",\"title\":{\"id\":\"64092\"},\"toolbar\":{\"id\":\"64114\"},\"width\":500,\"x_range\":{\"id\":\"64083\"},\"x_scale\":{\"id\":\"64096\"},\"y_range\":{\"id\":\"64084\"},\"y_scale\":{\"id\":\"64098\"}},\"id\":\"64091\",\"subtype\":\"Figure\",\"type\":\"Plot\"},{\"attributes\":{\"fill_alpha\":{\"value\":0.7},\"fill_color\":{\"value\":\"#30a2da\"},\"hatch_alpha\":{\"value\":0.1},\"hatch_color\":{\"value\":\"#30a2da\"},\"line_alpha\":{\"value\":0.7},\"line_color\":{\"value\":\"#30a2da\"},\"size\":{\"value\":8.94427190999916},\"x\":{\"field\":\"Per Capita\"},\"y\":{\"field\":\"Total_CO2\"}},\"id\":\"64131\",\"type\":\"Scatter\"},{\"attributes\":{\"fill_alpha\":{\"value\":0.2},\"fill_color\":{\"value\":\"#fc4f30\"},\"hatch_alpha\":{\"value\":0.2},\"hatch_color\":{\"value\":\"#fc4f30\"},\"line_alpha\":{\"value\":0.2},\"line_color\":{\"value\":\"#fc4f30\"},\"size\":{\"value\":8.94427190999916},\"x\":{\"field\":\"Per Capita\"},\"y\":{\"field\":\"Total_CO2\"}},\"id\":\"64141\",\"type\":\"Scatter\"},{\"attributes\":{\"data\":{\"Per Capita\":{\"__ndarray__\":\"AAAAAAAAAADB4QURqWnPP4du9gfKbc8/uTR+4ZUk0D8mHlA25QrUP8Q/bOnRVNk/v2N47Gex2T9keVc9YB7aP3puoSsRqNo/qWvtfaoK2z8uyQG7mjzbP4CcMGE0K80/0gDeAgmK2z8DzlKynITfP3I1sistI+c/MzMzMzMz6j/z4sRXOwrtP7GiBtMw/PE/w9fXutQI9T8KhnMNM3T1PyGunL0zmvg/m+JxUS3i+D/61LFK6Zn+P1G8ytqmeN4/ZXJqZ5gaAECSByKLNPHMP+/H7ZdPVsg/q7LviuB/oz858kBkkSamP50Te2gfK6g/LpELzuDvrz8ke4SaIVWwP6Pp7GRwlLA/uMg9Xd2xsD+FC3kEN1KyP3sS2JyDZ7I/YJFfP8QGsz81Cklm9Q7LP5IlcyzvqrM/t0Htt3aitD+AJy1cVmG3P2NkyRzLu7o/N4sXC0PkvD+8QbRWtDm+P8GQ1a2ek74/HCWvzjEgwT+5xfzc0JTDP8Lc7uU+OcQ/jGSPUDOkxj92bW+3JAe0P7DkKha/6QBAKENVTKU/EkCcps8OuA4IQCEBo8ubYx9ArimQ2Vk8IUA=\",\"dtype\":\"float64\",\"order\":\"little\",\"shape\":[55]},\"Per_Capita\":{\"__ndarray__\":\"AAAAAAAAAADB4QURqWnPP4du9gfKbc8/uTR+4ZUk0D8mHlA25QrUP8Q/bOnRVNk/v2N47Gex2T9keVc9YB7aP3puoSsRqNo/qWvtfaoK2z8uyQG7mjzbP4CcMGE0K80/0gDeAgmK2z8DzlKynITfP3I1sistI+c/MzMzMzMz6j/z4sRXOwrtP7GiBtMw/PE/w9fXutQI9T8KhnMNM3T1PyGunL0zmvg/m+JxUS3i+D/61LFK6Zn+P1G8ytqmeN4/ZXJqZ5gaAECSByKLNPHMP+/H7ZdPVsg/q7LviuB/oz858kBkkSamP50Te2gfK6g/LpELzuDvrz8ke4SaIVWwP6Pp7GRwlLA/uMg9Xd2xsD+FC3kEN1KyP3sS2JyDZ7I/YJFfP8QGsz81Cklm9Q7LP5IlcyzvqrM/t0Htt3aitD+AJy1cVmG3P2NkyRzLu7o/N4sXC0PkvD+8QbRWtDm+P8GQ1a2ek74/HCWvzjEgwT+5xfzc0JTDP8Lc7uU+OcQ/jGSPUDOkxj92bW+3JAe0P7DkKha/6QBAKENVTKU/EkCcps8OuA4IQCEBo8ubYx9ArimQ2Vk8IUA=\",\"dtype\":\"float64\",\"order\":\"little\",\"shape\":[55]},\"Total_CO2\":{\"__ndarray__\":\"AAAAAAAAAADo9SfxuVMOQEURUrezvxZAEi7kEdxI7z8qNuZ1xEEDQO9zfLQ4Y6g/AK5kx0YgE0AXRnpRu21DQI9uhEVFHAlAM40mF2Mg8D/yfAbUm1HrPz7MXrad1gRA2ln0TgVcFEArMjogCfvGP9Ib7iO3JrE/ks1V8xyR9z/+RdCYSUw2QOGbps8OuO4/QDOID+zNUkBZhc0AF2T3P7Jnz2VqGi9ABRkBFY5AKkCvtIzUeyr0PxE2PL1SltE/xlG5iVqaBUAziuWWVhMTQMefqGxYU8k/i+HqAIi7yj9F8L+V7FjoP2HB/YAHBts/WTMyyF3kB0Bk521sdqTiP/loccYwJ9g/F0hQ/Bhzxz/6m1CIgMPgPzttjQjGQeM/ZRcMrrmj7z8eT8sPXOXdPxCVRszsc+c/KV/QQgLmAEC/ZU6XxcTbP2ajc36KY+c/dzBinwCK4j8CZVOu8P4QQL6ECg4viOA/r9LddTbkrz8vFRvzOuKwP9Ju9DEfEPA/UwYOaOkKxj/ItaFinL/tP8uCiT+KOsM/4zYawFvwEUBKJxJMNS9TQDl+qDTijnNAAaPLm8NBQkA=\",\"dtype\":\"float64\",\"order\":\"little\",\"shape\":[55]},\"continent\":[\"Africa\",\"Africa\",\"Africa\",\"Africa\",\"Africa\",\"Africa\",\"Africa\",\"Africa\",\"Africa\",\"Africa\",\"Africa\",\"Africa\",\"Africa\",\"Africa\",\"Africa\",\"Africa\",\"Africa\",\"Africa\",\"Africa\",\"Africa\",\"Africa\",\"Africa\",\"Africa\",\"Africa\",\"Africa\",\"Africa\",\"Africa\",\"Africa\",\"Africa\",\"Africa\",\"Africa\",\"Africa\",\"Africa\",\"Africa\",\"Africa\",\"Africa\",\"Africa\",\"Africa\",\"Africa\",\"Africa\",\"Africa\",\"Africa\",\"Africa\",\"Africa\",\"Africa\",\"Africa\",\"Africa\",\"Africa\",\"Africa\",\"Africa\",\"Africa\",\"Africa\",\"Africa\",\"Africa\",\"Africa\"]},\"selected\":{\"id\":\"64128\"},\"selection_policy\":{\"id\":\"64188\"}},\"id\":\"64127\",\"type\":\"ColumnDataSource\"},{\"attributes\":{\"coordinates\":null,\"data_source\":{\"id\":\"64127\"},\"glyph\":{\"id\":\"64130\"},\"group\":null,\"hover_glyph\":null,\"muted_glyph\":{\"id\":\"64132\"},\"nonselection_glyph\":{\"id\":\"64131\"},\"selection_glyph\":{\"id\":\"64135\"},\"view\":{\"id\":\"64134\"}},\"id\":\"64133\",\"type\":\"GlyphRenderer\"},{\"attributes\":{\"coordinates\":null,\"data_source\":{\"id\":\"64154\"},\"glyph\":{\"id\":\"64157\"},\"group\":null,\"hover_glyph\":null,\"muted_glyph\":{\"id\":\"64159\"},\"nonselection_glyph\":{\"id\":\"64158\"},\"selection_glyph\":{\"id\":\"64162\"},\"view\":{\"id\":\"64161\"}},\"id\":\"64160\",\"type\":\"GlyphRenderer\"},{\"attributes\":{\"bottom_units\":\"screen\",\"coordinates\":null,\"fill_alpha\":0.5,\"fill_color\":\"lightgrey\",\"group\":null,\"left_units\":\"screen\",\"level\":\"overlay\",\"line_alpha\":1.0,\"line_color\":\"black\",\"line_dash\":[4,4],\"line_width\":2,\"right_units\":\"screen\",\"syncable\":false,\"top_units\":\"screen\"},\"id\":\"64113\",\"type\":\"BoxAnnotation\"},{\"attributes\":{},\"id\":\"64109\",\"type\":\"PanTool\"},{\"attributes\":{},\"id\":\"64137\",\"type\":\"Selection\"},{\"attributes\":{\"axis_label\":\"Total_CO2\",\"coordinates\":null,\"formatter\":{\"id\":\"64125\"},\"group\":null,\"major_label_policy\":{\"id\":\"64126\"},\"ticker\":{\"id\":\"64105\"}},\"id\":\"64104\",\"type\":\"LinearAxis\"},{\"attributes\":{\"data\":{\"Per Capita\":{\"__ndarray__\":\"rrZif9k1O0A/cJUnENY5QJ0std5voDdAIJijx+/5N0ClarsJvqkHQOYHrvIE4gdAK2haYmUUCEBRTUnW4cgIQKTjamRXGg5ANE3YfjKWEUDspSkCnB4SQGdGPxpOmRJAhgDg2LMXFEDT3AphNbYWQJP+XgoPmgdAFYxK6gTEFkAe/MQB9BsYQO6TowBR4BhA41XWNsWjG0CKOQg6WtUdQANC6+HL1CBA0h3EzhS6IkDt8q0P6w0qQMKht3h4zyxAM4rlllaHMEAOvcXDe5I2QCCb5Ef8mhdARkWcTrJVBkCFCaNZ2R4EQAAAAAAAAAAAl299WG/Uoj+Y+nlTkQq7P7zMsFHWb74/68n8o2/SwD9v1ArT9xrCP9eIYBxcOsg/iKBq9GqAzD9ssdtnlTkGQCttcY3PZM0/aRmp91TO4j8jhh3GpD/lP/3c0JSdfuU/HClbJO3G5j86HjNQGX/oPzmX4qqyb+k/dOrKZ3ke+T+5bd+j/joBQBssnKT5gwFASl0yjpHMAUBXz0nvG1/UPw==\",\"dtype\":\"float64\",\"order\":\"little\",\"shape\":[50]},\"Per_Capita\":{\"__ndarray__\":\"rrZif9k1O0A/cJUnENY5QJ0std5voDdAIJijx+/5N0ClarsJvqkHQOYHrvIE4gdAK2haYmUUCEBRTUnW4cgIQKTjamRXGg5ANE3YfjKWEUDspSkCnB4SQGdGPxpOmRJAhgDg2LMXFEDT3AphNbYWQJP+XgoPmgdAFYxK6gTEFkAe/MQB9BsYQO6TowBR4BhA41XWNsWjG0CKOQg6WtUdQANC6+HL1CBA0h3EzhS6IkDt8q0P6w0qQMKht3h4zyxAM4rlllaHMEAOvcXDe5I2QCCb5Ef8mhdARkWcTrJVBkCFCaNZ2R4EQAAAAAAAAAAAl299WG/Uoj+Y+nlTkQq7P7zMsFHWb74/68n8o2/SwD9v1ArT9xrCP9eIYBxcOsg/iKBq9GqAzD9ssdtnlTkGQCttcY3PZM0/aRmp91TO4j8jhh3GpD/lP/3c0JSdfuU/HClbJO3G5j86HjNQGX/oPzmX4qqyb+k/dOrKZ3ke+T+5bd+j/joBQBssnKT5gwFASl0yjpHMAUBXz0nvG1/UPw==\",\"dtype\":\"float64\",\"order\":\"little\",\"shape\":[50]},\"Total_CO2\":{\"__ndarray__\":\"N+M0RBXaSUD2fThIiNImQA+1bRgFwRhAIPDAAMLPKECN7ErLSOUvQJ0ui4nNhUJA2h8ot+3zJEAhXAGFeiJLQPJDpREzPmpAYeP6d31SM0B0et6NBZUjQD3yBwPPJTtACf8iaMzXWUDHEtbGWFBvQL6ECg4viPA/UDV6NUCYXUCTGARWDgVfQD6UaMnjcSZAdGGkF7WpSUC2EOSghOlBQJrPudv1Tj9ATz+oi4QYkkAZr3lV5w9qQBHHuriNxEVAbQA2IIJscUC71Aj9TOdCQNLD0OrknBJAqOSc2EP1YkAyrOKNzOMhQAAAAAAAAAAAmgZF8wAW5z/sLlBSYPEQQEP/BBcrauA/Bfhu88YpLECjrrX3qSr0PzuKc9TRMQBA2ubG9ISlDkB/orJhTYdIQEP/BBcrasA/Wi4bnfP0UEDFOero+A+CQNv5fmq8rERAEM6njlUKI0BTBg5o6QrGP4bI6et5GWJAj+OHSiOtVUDvj/eqtWmjQPAzLhwIeR9AwcqhRbYbKEBrDDohdEw1QA==\",\"dtype\":\"float64\",\"order\":\"little\",\"shape\":[50]},\"continent\":[\"Asia\",\"Asia\",\"Asia\",\"Asia\",\"Asia\",\"Asia\",\"Asia\",\"Asia\",\"Asia\",\"Asia\",\"Asia\",\"Asia\",\"Asia\",\"Asia\",\"Asia\",\"Asia\",\"Asia\",\"Asia\",\"Asia\",\"Asia\",\"Asia\",\"Asia\",\"Asia\",\"Asia\",\"Asia\",\"Asia\",\"Asia\",\"Asia\",\"Asia\",\"Asia\",\"Asia\",\"Asia\",\"Asia\",\"Asia\",\"Asia\",\"Asia\",\"Asia\",\"Asia\",\"Asia\",\"Asia\",\"Asia\",\"Asia\",\"Asia\",\"Asia\",\"Asia\",\"Asia\",\"Asia\",\"Asia\",\"Asia\",\"Asia\"]},\"selected\":{\"id\":\"64137\"},\"selection_policy\":{\"id\":\"64190\"}},\"id\":\"64136\",\"type\":\"ColumnDataSource\"},{\"attributes\":{\"fill_alpha\":{\"value\":0.7},\"fill_color\":{\"value\":\"#e5ae38\"},\"hatch_alpha\":{\"value\":0.7},\"hatch_color\":{\"value\":\"#e5ae38\"},\"line_alpha\":{\"value\":0.7},\"line_color\":{\"value\":\"#e5ae38\"},\"size\":{\"value\":8.94427190999916},\"x\":{\"field\":\"Per Capita\"},\"y\":{\"field\":\"Total_CO2\"}},\"id\":\"64148\",\"type\":\"Scatter\"},{\"attributes\":{\"fill_alpha\":{\"value\":0.7},\"fill_color\":{\"value\":\"#fc4f30\"},\"hatch_alpha\":{\"value\":0.7},\"hatch_color\":{\"value\":\"#fc4f30\"},\"line_alpha\":{\"value\":0.7},\"line_color\":{\"value\":\"#fc4f30\"},\"size\":{\"value\":8.94427190999916},\"x\":{\"field\":\"Per Capita\"},\"y\":{\"field\":\"Total_CO2\"}},\"id\":\"64139\",\"type\":\"Scatter\"},{\"attributes\":{\"source\":{\"id\":\"64145\"}},\"id\":\"64152\",\"type\":\"CDSView\"},{\"attributes\":{\"fill_alpha\":{\"value\":0.2},\"fill_color\":{\"value\":\"#30a2da\"},\"hatch_alpha\":{\"value\":0.2},\"hatch_color\":{\"value\":\"#30a2da\"},\"line_alpha\":{\"value\":0.2},\"line_color\":{\"value\":\"#30a2da\"},\"size\":{\"value\":8.94427190999916},\"x\":{\"field\":\"Per Capita\"},\"y\":{\"field\":\"Total_CO2\"}},\"id\":\"64132\",\"type\":\"Scatter\"},{\"attributes\":{\"data\":{\"Per Capita\":{\"__ndarray__\":\"g4WTNH/MI0Diy0QRUsckQHrDfeTW1CRApYP1fw4LJUDcgqW6gKclQHR+iuPA0yZAwvf+Bu1dJ0CoHJPF/ScoQCoBMQkXgipAXmkZqfdcK0BQFymUheciQKKakqzD4S9AWyiZnNqBN0DtZHCUvAI/QGTnbWx2IDFAJ6JfWz/lIkD8/zhhwmAhQDylg/V/zvo/DqFKzR6oCECHqMKf4R0SQHOgh9o23BJAWBr4UQ3LF0DZPXlYqDUaQEJfevtzURpAe6TBbW3xGkCojep0IKsbQJ0v9l58wRtAT7FqEOZ+IUCtp1ZfXeUbQHtP5bSnRBxAR1Sobi4+HUBBCwkYXV4eQGiULv1LYh5A3SbcK/NmHkCpoKLqV/oeQIYA4NizLyBAcCamC7EyIECvz5z1KU8gQD8djxmojCBAQwQcQpU6HEA=\",\"dtype\":\"float64\",\"order\":\"little\",\"shape\":[40]},\"Per_Capita\":{\"__ndarray__\":\"g4WTNH/MI0Diy0QRUsckQHrDfeTW1CRApYP1fw4LJUDcgqW6gKclQHR+iuPA0yZAwvf+Bu1dJ0CoHJPF/ScoQCoBMQkXgipAXmkZqfdcK0BQFymUheciQKKakqzD4S9AWyiZnNqBN0DtZHCUvAI/QGTnbWx2IDFAJ6JfWz/lIkD8/zhhwmAhQDylg/V/zvo/DqFKzR6oCECHqMKf4R0SQHOgh9o23BJAWBr4UQ3LF0DZPXlYqDUaQEJfevtzURpAe6TBbW3xGkCojep0IKsbQJ0v9l58wRtAT7FqEOZ+IUCtp1ZfXeUbQHtP5bSnRBxAR1Sobi4+HUBBCwkYXV4eQGiULv1LYh5A3SbcK/NmHkCpoKLqV/oeQIYA4NizLyBAcCamC7EyIECvz5z1KU8gQD8djxmojCBAQwQcQpU6HEA=\",\"dtype\":\"float64\",\"order\":\"little\",\"shape\":[40]},\"Total_CO2\":{\"__ndarray__\":\"cvxQaQSNd0CQFJFhFRZbQOhmf6DcykpAWvENhY/PgkDEsplD0jlkQOpCrP4IdUxAjwBuFi+8TkC4V+atuhJeQKkR+pnqb5BAMZqV7aMOhkAb2CrB4nhAQFH2lnK+hmRAGHlZEwt2QkCBIECGjqUnQCjyJOm6zaNAfQOTG0XiQUC7KeW1EroBQMTt0LAYFRZAvodLjjul/j/ItaFinKlGQAX7r3PT+jZAZHeBkoLqbEBDPBIvTycDQAucbAN3FEZASl6dY0DKTED4G+244XfJP6tCA7FsXixAhh3GpL8sU0AWpu81xJZ4QKWCiqpfOUxAibSNP1GpM0CpwMk2cAfaPw7z5QXYrmVA2h1SDJAwLkCGIAclzHh7QJvniHyXEk9AwJXs2AjcVEA+B5YjZERCQCPb+X5qjEFAhgSMLm9OUkA=\",\"dtype\":\"float64\",\"order\":\"little\",\"shape\":[40]},\"continent\":[\"Europe\",\"Europe\",\"Europe\",\"Europe\",\"Europe\",\"Europe\",\"Europe\",\"Europe\",\"Europe\",\"Europe\",\"Europe\",\"Europe\",\"Europe\",\"Europe\",\"Europe\",\"Europe\",\"Europe\",\"Europe\",\"Europe\",\"Europe\",\"Europe\",\"Europe\",\"Europe\",\"Europe\",\"Europe\",\"Europe\",\"Europe\",\"Europe\",\"Europe\",\"Europe\",\"Europe\",\"Europe\",\"Europe\",\"Europe\",\"Europe\",\"Europe\",\"Europe\",\"Europe\",\"Europe\",\"Europe\"]},\"selected\":{\"id\":\"64146\"},\"selection_policy\":{\"id\":\"64192\"}},\"id\":\"64145\",\"type\":\"ColumnDataSource\"},{\"attributes\":{\"end\":34.111759,\"reset_end\":34.111759,\"reset_start\":-3.1010690000000003,\"start\":-3.1010690000000003,\"tags\":[[[\"Per Capita\",\"Per Capita\",null]]]},\"id\":\"64083\",\"type\":\"Range1d\"},{\"attributes\":{\"coordinates\":null,\"data_source\":{\"id\":\"64136\"},\"glyph\":{\"id\":\"64139\"},\"group\":null,\"hover_glyph\":null,\"muted_glyph\":{\"id\":\"64141\"},\"nonselection_glyph\":{\"id\":\"64140\"},\"selection_glyph\":{\"id\":\"64144\"},\"view\":{\"id\":\"64143\"}},\"id\":\"64142\",\"type\":\"GlyphRenderer\"},{\"attributes\":{\"overlay\":{\"id\":\"64113\"}},\"id\":\"64111\",\"type\":\"BoxZoomTool\"},{\"attributes\":{\"fill_alpha\":{\"value\":0.7},\"fill_color\":{\"value\":\"#8b8b8b\"},\"hatch_alpha\":{\"value\":0.7},\"hatch_color\":{\"value\":\"#8b8b8b\"},\"line_alpha\":{\"value\":0.7},\"line_color\":{\"value\":\"#8b8b8b\"},\"size\":{\"value\":8.94427190999916},\"x\":{\"field\":\"Per Capita\"},\"y\":{\"field\":\"Total_CO2\"}},\"id\":\"64166\",\"type\":\"Scatter\"},{\"attributes\":{},\"id\":\"64110\",\"type\":\"WheelZoomTool\"},{\"attributes\":{\"fill_alpha\":{\"value\":0.7},\"fill_color\":{\"value\":\"#17becf\"},\"hatch_alpha\":{\"value\":0.7},\"hatch_color\":{\"value\":\"#17becf\"},\"line_alpha\":{\"value\":0.7},\"line_color\":{\"value\":\"#17becf\"},\"size\":{\"value\":8.94427190999916},\"x\":{\"field\":\"Per Capita\"},\"y\":{\"field\":\"Total_CO2\"}},\"id\":\"64175\",\"type\":\"Scatter\"},{\"attributes\":{\"children\":[{\"id\":\"64077\"}],\"margin\":[0,0,0,0],\"name\":\"Row232085\",\"sizing_mode\":\"stretch_width\"},\"id\":\"64076\",\"type\":\"Row\"},{\"attributes\":{\"fill_alpha\":{\"value\":0.7},\"fill_color\":{\"value\":\"#6d904f\"},\"hatch_alpha\":{\"value\":0.7},\"hatch_color\":{\"value\":\"#6d904f\"},\"line_alpha\":{\"value\":0.7},\"line_color\":{\"value\":\"#6d904f\"},\"size\":{\"value\":8.94427190999916},\"x\":{\"field\":\"Per Capita\"},\"y\":{\"field\":\"Total_CO2\"}},\"id\":\"64157\",\"type\":\"Scatter\"},{\"attributes\":{\"angle\":{\"value\":0.0},\"fill_alpha\":{\"value\":0.7},\"fill_color\":{\"value\":\"#fc4f30\"},\"hatch_alpha\":{\"value\":0.7},\"hatch_color\":{\"value\":\"#fc4f30\"},\"hatch_scale\":{\"value\":12.0},\"hatch_weight\":{\"value\":1.0},\"line_alpha\":{\"value\":0.7},\"line_cap\":{\"value\":\"butt\"},\"line_color\":{\"value\":\"#fc4f30\"},\"line_dash\":{\"value\":[]},\"line_dash_offset\":{\"value\":0},\"line_join\":{\"value\":\"bevel\"},\"line_width\":{\"value\":1},\"marker\":{\"value\":\"circle\"},\"size\":{\"value\":8.94427190999916},\"x\":{\"field\":\"Per Capita\"},\"y\":{\"field\":\"Total_CO2\"}},\"id\":\"64144\",\"type\":\"Scatter\"},{\"attributes\":{},\"id\":\"64108\",\"type\":\"SaveTool\"},{\"attributes\":{},\"id\":\"64190\",\"type\":\"UnionRenderers\"},{\"attributes\":{},\"id\":\"64096\",\"type\":\"LinearScale\"},{\"attributes\":{\"data\":{\"Per Capita\":{\"__ndarray__\":\"LSEf9GzW4T/AWUqWk1DrPzPFHAQdbfA/gZVDi2wn8z9VTntKzqkAQCAnTBjNigRAA3y3eeMkB0Azb9V1qAYeQARY5NcPySFAOE2fHXD1KUDQ1VbsL7vgP0uQEVDhUDBAI7vSMlLv3D/idmhYjLrSP7ZKsDic+ds/AAAAAAAAAAA=\",\"dtype\":\"float64\",\"order\":\"little\",\"shape\":[16]},\"Per_Capita\":{\"__ndarray__\":\"LSEf9GzW4T/AWUqWk1DrPzPFHAQdbfA/gZVDi2wn8z9VTntKzqkAQCAnTBjNigRAA3y3eeMkB0Azb9V1qAYeQARY5NcPySFAOE2fHXD1KUDQ1VbsL7vgP0uQEVDhUDBAI7vSMlLv3D/idmhYjLrSP7ZKsDic+ds/AAAAAAAAAAA=\",\"dtype\":\"float64\",\"order\":\"little\",\"shape\":[16]},\"Total_CO2\":{\"__ndarray__\":\"oKUr2EY8AUBn8PeL2ZK1P/rVHCCYo+k/PxwkRPmChj9PIy2VtyPcPz8cJET5gqY//3qFBfcDfj/WAntMpIA5QGItPgXAOPk/r9LddTbkvz8/HCRE+YK2P7cnSGx3YnFA32xzY3rCwj8/HCRE+YKWPy8VG/M64rA/AAAAAAAAAAA=\",\"dtype\":\"float64\",\"order\":\"little\",\"shape\":[16]},\"continent\":[\"Oceania\",\"Oceania\",\"Oceania\",\"Oceania\",\"Oceania\",\"Oceania\",\"Oceania\",\"Oceania\",\"Oceania\",\"Oceania\",\"Oceania\",\"Oceania\",\"Oceania\",\"Oceania\",\"Oceania\",\"Oceania\"]},\"selected\":{\"id\":\"64164\"},\"selection_policy\":{\"id\":\"64196\"}},\"id\":\"64163\",\"type\":\"ColumnDataSource\"},{\"attributes\":{\"coordinates\":null,\"data_source\":{\"id\":\"64145\"},\"glyph\":{\"id\":\"64148\"},\"group\":null,\"hover_glyph\":null,\"muted_glyph\":{\"id\":\"64150\"},\"nonselection_glyph\":{\"id\":\"64149\"},\"selection_glyph\":{\"id\":\"64153\"},\"view\":{\"id\":\"64152\"}},\"id\":\"64151\",\"type\":\"GlyphRenderer\"},{\"attributes\":{},\"id\":\"64098\",\"type\":\"LinearScale\"},{\"attributes\":{\"axis\":{\"id\":\"64104\"},\"coordinates\":null,\"dimension\":1,\"grid_line_color\":null,\"group\":null,\"ticker\":null},\"id\":\"64107\",\"type\":\"Grid\"},{\"attributes\":{\"angle\":{\"value\":0.0},\"fill_alpha\":{\"value\":0.7},\"fill_color\":{\"value\":\"#6d904f\"},\"hatch_alpha\":{\"value\":0.7},\"hatch_color\":{\"value\":\"#6d904f\"},\"hatch_scale\":{\"value\":12.0},\"hatch_weight\":{\"value\":1.0},\"line_alpha\":{\"value\":0.7},\"line_cap\":{\"value\":\"butt\"},\"line_color\":{\"value\":\"#6d904f\"},\"line_dash\":{\"value\":[]},\"line_dash_offset\":{\"value\":0},\"line_join\":{\"value\":\"bevel\"},\"line_width\":{\"value\":1},\"marker\":{\"value\":\"circle\"},\"size\":{\"value\":8.94427190999916},\"x\":{\"field\":\"Per Capita\"},\"y\":{\"field\":\"Total_CO2\"}},\"id\":\"64162\",\"type\":\"Scatter\"},{\"attributes\":{\"fill_alpha\":{\"value\":0.2},\"fill_color\":{\"value\":\"#6d904f\"},\"hatch_alpha\":{\"value\":0.2},\"hatch_color\":{\"value\":\"#6d904f\"},\"line_alpha\":{\"value\":0.2},\"line_color\":{\"value\":\"#6d904f\"},\"size\":{\"value\":8.94427190999916},\"x\":{\"field\":\"Per Capita\"},\"y\":{\"field\":\"Total_CO2\"}},\"id\":\"64159\",\"type\":\"Scatter\"},{\"attributes\":{\"data\":{\"Per Capita\":{\"__ndarray__\":\"AAAAAAAAAADAWyBB8WPCP5NRZRh3g90/BORLqODw3j/fawiOy7jfPy17Eticg+E/M2spIO3/6j8y5q4l5IPtP8bAOo4fKvE/EALyJVQw8T8RpiiXxi/0P0K0VrQ5DvQ/4lmCjIBK+z9DAHDs2bMFQEc+r3jqUQZAcoi4OZUsCUBsJt9sc0MLQPaX3ZOHxQtAF0flJmoJD0CPbK6a54gQQDFCeLRx5BBANC2xMhpZEkAbLnJPV0cVQGDl0CLbqR1AsMivH2LjHUBVE0TdB3ghQN0m3CvzdiZAm49rQ8XQKkC2oPfGEPgsQIV80LNZkTBA7ncoCvSlNEBgBI2ZRMU+QFwgQfFjrBhA\",\"dtype\":\"float64\",\"order\":\"little\",\"shape\":[33]},\"Per_Capita\":{\"__ndarray__\":\"AAAAAAAAAADAWyBB8WPCP5NRZRh3g90/BORLqODw3j/fawiOy7jfPy17Eticg+E/M2spIO3/6j8y5q4l5IPtP8bAOo4fKvE/EALyJVQw8T8RpiiXxi/0P0K0VrQ5DvQ/4lmCjIBK+z9DAHDs2bMFQEc+r3jqUQZAcoi4OZUsCUBsJt9sc0MLQPaX3ZOHxQtAF0flJmoJD0CPbK6a54gQQDFCeLRx5BBANC2xMhpZEkAbLnJPV0cVQGDl0CLbqR1AsMivH2LjHUBVE0TdB3ghQN0m3CvzdiZAm49rQ8XQKkC2oPfGEPgsQIV80LNZkTBA7ncoCvSlNEBgBI2ZRMU+QFwgQfFjrBhA\",\"dtype\":\"float64\",\"order\":\"little\",\"shape\":[33]},\"Total_CO2\":{\"__ndarray__\":\"AAAAAAAAAACTx9PyA9fvP2A5QgbyzANA9FFGXABaAEByUS0iigkEQE/MejGU4xNA/3qFBfcDrj89D+7O2k0HQHf3AN2XM7s/b9bgfVUOBUArMjogCfvGPwQAx5493yFAraOqCaLu0z//eoUF9wOeP4QSZtr+pT1AJGJKJNEbHkBcxk0NNF/1P08jLZW3I8w/J71vfK3Qc0DDnKBNDh/xPy8VG/M64rA/xLDDmPR3+z+v0t11NuSvP82xvKseMN8/TfT5KCMuAEDSbvQxHxDgPx78xAH0++M/lQuVfy37MEAXSFD8GHO3P6K4401+o3xAteIbCn8CtEC+v0F79SETQJ/L1CR4Q6o/\",\"dtype\":\"float64\",\"order\":\"little\",\"shape\":[33]},\"continent\":[\"North America\",\"North America\",\"North America\",\"North America\",\"North America\",\"North America\",\"North America\",\"North America\",\"North America\",\"North America\",\"North America\",\"North America\",\"North America\",\"North America\",\"North America\",\"North America\",\"North America\",\"North America\",\"North America\",\"North America\",\"North America\",\"North America\",\"North America\",\"North America\",\"North America\",\"North America\",\"North America\",\"North America\",\"North America\",\"North America\",\"North America\",\"North America\",\"North America\"]},\"selected\":{\"id\":\"64155\"},\"selection_policy\":{\"id\":\"64194\"}},\"id\":\"64154\",\"type\":\"ColumnDataSource\"},{\"attributes\":{\"client_comm_id\":\"3f378734716b46c5b716a486b4001c32\",\"comm_id\":\"7171b1b1815d497aadd1f70bd4cc105a\",\"plot_id\":\"64076\"},\"id\":\"64261\",\"type\":\"panel.models.comm_manager.CommManager\"},{\"attributes\":{\"fill_alpha\":{\"value\":0.7},\"fill_color\":{\"value\":\"#e5ae38\"},\"hatch_alpha\":{\"value\":0.1},\"hatch_color\":{\"value\":\"#e5ae38\"},\"line_alpha\":{\"value\":0.7},\"line_color\":{\"value\":\"#e5ae38\"},\"size\":{\"value\":8.94427190999916},\"x\":{\"field\":\"Per Capita\"},\"y\":{\"field\":\"Total_CO2\"}},\"id\":\"64149\",\"type\":\"Scatter\"},{\"attributes\":{\"end\":2021,\"margin\":[5,10,5,10],\"start\":1750,\"step\":5,\"title\":\"Year slider\",\"value\":1990},\"id\":\"64080\",\"type\":\"Slider\"},{\"attributes\":{\"tools\":[{\"id\":\"64085\"},{\"id\":\"64108\"},{\"id\":\"64109\"},{\"id\":\"64110\"},{\"id\":\"64111\"},{\"id\":\"64112\"}]},\"id\":\"64114\",\"type\":\"Toolbar\"},{\"attributes\":{\"coordinates\":null,\"group\":null,\"text_color\":\"black\",\"text_font_size\":\"12pt\"},\"id\":\"64092\",\"type\":\"Title\"},{\"attributes\":{},\"id\":\"64125\",\"type\":\"BasicTickFormatter\"},{\"attributes\":{\"source\":{\"id\":\"64172\"}},\"id\":\"64179\",\"type\":\"CDSView\"},{\"attributes\":{\"angle\":{\"value\":0.0},\"fill_alpha\":{\"value\":0.7},\"fill_color\":{\"value\":\"#8b8b8b\"},\"hatch_alpha\":{\"value\":0.7},\"hatch_color\":{\"value\":\"#8b8b8b\"},\"hatch_scale\":{\"value\":12.0},\"hatch_weight\":{\"value\":1.0},\"line_alpha\":{\"value\":0.7},\"line_cap\":{\"value\":\"butt\"},\"line_color\":{\"value\":\"#8b8b8b\"},\"line_dash\":{\"value\":[]},\"line_dash_offset\":{\"value\":0},\"line_join\":{\"value\":\"bevel\"},\"line_width\":{\"value\":1},\"marker\":{\"value\":\"circle\"},\"size\":{\"value\":8.94427190999916},\"x\":{\"field\":\"Per Capita\"},\"y\":{\"field\":\"Total_CO2\"}},\"id\":\"64171\",\"type\":\"Scatter\"},{\"attributes\":{},\"id\":\"64194\",\"type\":\"UnionRenderers\"},{\"attributes\":{\"callback\":null,\"renderers\":[{\"id\":\"64133\"},{\"id\":\"64142\"},{\"id\":\"64151\"},{\"id\":\"64160\"},{\"id\":\"64169\"},{\"id\":\"64178\"}],\"tags\":[\"hv_created\"],\"tooltips\":[[\"continent\",\"@{continent}\"],[\"Per Capita\",\"@{Per_Capita}\"],[\"Total_CO2\",\"@{Total_CO2}\"]]},\"id\":\"64085\",\"type\":\"HoverTool\"},{\"attributes\":{\"coordinates\":null,\"data_source\":{\"id\":\"64172\"},\"glyph\":{\"id\":\"64175\"},\"group\":null,\"hover_glyph\":null,\"muted_glyph\":{\"id\":\"64177\"},\"nonselection_glyph\":{\"id\":\"64176\"},\"selection_glyph\":{\"id\":\"64180\"},\"view\":{\"id\":\"64179\"}},\"id\":\"64178\",\"type\":\"GlyphRenderer\"},{\"attributes\":{\"fill_alpha\":{\"value\":0.7},\"fill_color\":{\"value\":\"#17becf\"},\"hatch_alpha\":{\"value\":0.1},\"hatch_color\":{\"value\":\"#17becf\"},\"line_alpha\":{\"value\":0.7},\"line_color\":{\"value\":\"#17becf\"},\"size\":{\"value\":8.94427190999916},\"x\":{\"field\":\"Per Capita\"},\"y\":{\"field\":\"Total_CO2\"}},\"id\":\"64176\",\"type\":\"Scatter\"},{\"attributes\":{\"children\":[{\"id\":\"64080\"}],\"margin\":[0,0,0,0],\"name\":\"Column231863\",\"sizing_mode\":\"stretch_width\"},\"id\":\"64079\",\"type\":\"Column\"},{\"attributes\":{\"fill_alpha\":{\"value\":0.7},\"fill_color\":{\"value\":\"#fc4f30\"},\"hatch_alpha\":{\"value\":0.1},\"hatch_color\":{\"value\":\"#fc4f30\"},\"line_alpha\":{\"value\":0.7},\"line_color\":{\"value\":\"#fc4f30\"},\"size\":{\"value\":8.94427190999916},\"x\":{\"field\":\"Per Capita\"},\"y\":{\"field\":\"Total_CO2\"}},\"id\":\"64140\",\"type\":\"Scatter\"},{\"attributes\":{\"coordinates\":null,\"data_source\":{\"id\":\"64163\"},\"glyph\":{\"id\":\"64166\"},\"group\":null,\"hover_glyph\":null,\"muted_glyph\":{\"id\":\"64168\"},\"nonselection_glyph\":{\"id\":\"64167\"},\"selection_glyph\":{\"id\":\"64171\"},\"view\":{\"id\":\"64170\"}},\"id\":\"64169\",\"type\":\"GlyphRenderer\"},{\"attributes\":{\"source\":{\"id\":\"64127\"}},\"id\":\"64134\",\"type\":\"CDSView\"},{\"attributes\":{\"source\":{\"id\":\"64163\"}},\"id\":\"64170\",\"type\":\"CDSView\"},{\"attributes\":{\"source\":{\"id\":\"64136\"}},\"id\":\"64143\",\"type\":\"CDSView\"},{\"attributes\":{},\"id\":\"64155\",\"type\":\"Selection\"},{\"attributes\":{},\"id\":\"64198\",\"type\":\"UnionRenderers\"},{\"attributes\":{\"children\":[{\"id\":\"64078\"},{\"id\":\"64082\"}],\"margin\":[0,0,0,0],\"name\":\"Column232084\",\"sizing_mode\":\"stretch_width\"},\"id\":\"64077\",\"type\":\"Column\"},{\"attributes\":{},\"id\":\"64128\",\"type\":\"Selection\"},{\"attributes\":{\"axis\":{\"id\":\"64100\"},\"coordinates\":null,\"grid_line_color\":null,\"group\":null,\"ticker\":null},\"id\":\"64103\",\"type\":\"Grid\"},{\"attributes\":{},\"id\":\"64164\",\"type\":\"Selection\"},{\"attributes\":{\"axis_label\":\"Per Capita\",\"coordinates\":null,\"formatter\":{\"id\":\"64122\"},\"group\":null,\"major_label_policy\":{\"id\":\"64123\"},\"ticker\":{\"id\":\"64101\"}},\"id\":\"64100\",\"type\":\"LinearAxis\"},{\"attributes\":{\"margin\":[5,5,5,5],\"name\":\"HSpacer232082\",\"sizing_mode\":\"stretch_width\"},\"id\":\"64081\",\"type\":\"Spacer\"},{\"attributes\":{\"source\":{\"id\":\"64154\"}},\"id\":\"64161\",\"type\":\"CDSView\"},{\"attributes\":{\"fill_alpha\":{\"value\":0.7},\"fill_color\":{\"value\":\"#6d904f\"},\"hatch_alpha\":{\"value\":0.1},\"hatch_color\":{\"value\":\"#6d904f\"},\"line_alpha\":{\"value\":0.7},\"line_color\":{\"value\":\"#6d904f\"},\"size\":{\"value\":8.94427190999916},\"x\":{\"field\":\"Per Capita\"},\"y\":{\"field\":\"Total_CO2\"}},\"id\":\"64158\",\"type\":\"Scatter\"},{\"attributes\":{\"fill_alpha\":{\"value\":0.2},\"fill_color\":{\"value\":\"#17becf\"},\"hatch_alpha\":{\"value\":0.2},\"hatch_color\":{\"value\":\"#17becf\"},\"line_alpha\":{\"value\":0.2},\"line_color\":{\"value\":\"#17becf\"},\"size\":{\"value\":8.94427190999916},\"x\":{\"field\":\"Per Capita\"},\"y\":{\"field\":\"Total_CO2\"}},\"id\":\"64177\",\"type\":\"Scatter\"},{\"attributes\":{\"angle\":{\"value\":0.0},\"fill_alpha\":{\"value\":0.7},\"fill_color\":{\"value\":\"#30a2da\"},\"hatch_alpha\":{\"value\":0.7},\"hatch_color\":{\"value\":\"#30a2da\"},\"hatch_scale\":{\"value\":12.0},\"hatch_weight\":{\"value\":1.0},\"line_alpha\":{\"value\":0.7},\"line_cap\":{\"value\":\"butt\"},\"line_color\":{\"value\":\"#30a2da\"},\"line_dash\":{\"value\":[]},\"line_dash_offset\":{\"value\":0},\"line_join\":{\"value\":\"bevel\"},\"line_width\":{\"value\":1},\"marker\":{\"value\":\"circle\"},\"size\":{\"value\":8.94427190999916},\"x\":{\"field\":\"Per Capita\"},\"y\":{\"field\":\"Total_CO2\"}},\"id\":\"64135\",\"type\":\"Scatter\"}],\"root_ids\":[\"64076\",\"64261\"]},\"title\":\"Bokeh Application\",\"version\":\"2.4.3\"}};\n",
       "    var render_items = [{\"docid\":\"4b42a8bb-004c-45b0-9bf6-f3c7c245d67b\",\"root_ids\":[\"64076\"],\"roots\":{\"64076\":\"85b5dadd-160d-4b1a-ba88-3088182af491\"}}];\n",
       "    root.Bokeh.embed.embed_items_notebook(docs_json, render_items);\n",
       "  }\n",
       "  if (root.Bokeh !== undefined && root.Bokeh.Panel !== undefined && ( root['Tabulator'] !== undefined) && ( root['Tabulator'] !== undefined) && ( root['Tabulator'] !== undefined) && ( root['Tabulator'] !== undefined)) {\n",
       "    embed_document(root);\n",
       "  } else {\n",
       "    var attempts = 0;\n",
       "    var timer = setInterval(function(root) {\n",
       "      if (root.Bokeh !== undefined && root.Bokeh.Panel !== undefined && (root['Tabulator'] !== undefined) && (root['Tabulator'] !== undefined) && (root['Tabulator'] !== undefined) && (root['Tabulator'] !== undefined)) {\n",
       "        clearInterval(timer);\n",
       "        embed_document(root);\n",
       "      } else if (document.readyState == \"complete\") {\n",
       "        attempts++;\n",
       "        if (attempts > 200) {\n",
       "          clearInterval(timer);\n",
       "          console.log(\"Bokeh: ERROR: Unable to run BokehJS code because BokehJS library is missing\");\n",
       "        }\n",
       "      }\n",
       "    }, 25, root)\n",
       "  }\n",
       "})(window);</script>"
      ],
      "text/plain": [
       "<hvplot.interactive.Interactive at 0x7fe07eeb6f70>"
      ]
     },
     "execution_count": 424,
     "metadata": {
      "application/vnd.holoviews_exec.v0+json": {
       "id": "64076"
      }
     },
     "output_type": "execute_result"
    }
   ],
   "source": [
    "co2_vs_per_capita_scatterplot = co2_vs_gdp_scatterplot_pipeline.hvplot(x='Per Capita', \n",
    "                                                                y='Total_CO2', \n",
    "                                                                by='continent', \n",
    "                                                                size=80, kind=\"scatter\", \n",
    "                                                                alpha=0.7,\n",
    "                                                                legend=False, \n",
    "                                                                height=500, \n",
    "                                                                width=500)\n",
    "co2_vs_per_capita_scatterplot"
   ]
  },
  {
   "cell_type": "markdown",
   "id": "46d6aa58",
   "metadata": {},
   "source": [
    "###Bar chart with CO2 sources by continent"
   ]
  },
  {
   "cell_type": "code",
   "execution_count": 394,
   "id": "02dd49a5",
   "metadata": {},
   "outputs": [
    {
     "data": {},
     "metadata": {},
     "output_type": "display_data"
    },
    {
     "data": {
      "application/vnd.holoviews_exec.v0+json": "",
      "text/html": [
       "<div id='60073'>\n",
       "  <div class=\"bk-root\" id=\"85fababc-b4e5-4f60-882f-04e8c8e5b7ae\" data-root-id=\"60073\"></div>\n",
       "</div>\n",
       "<script type=\"application/javascript\">(function(root) {\n",
       "  function embed_document(root) {\n",
       "    var docs_json = {\"36c60f42-40b0-4825-aafc-cff2d481fb95\":{\"defs\":[{\"extends\":null,\"module\":null,\"name\":\"ReactiveHTML1\",\"overrides\":[],\"properties\":[]},{\"extends\":null,\"module\":null,\"name\":\"FlexBox1\",\"overrides\":[],\"properties\":[{\"default\":\"flex-start\",\"kind\":null,\"name\":\"align_content\"},{\"default\":\"flex-start\",\"kind\":null,\"name\":\"align_items\"},{\"default\":\"row\",\"kind\":null,\"name\":\"flex_direction\"},{\"default\":\"wrap\",\"kind\":null,\"name\":\"flex_wrap\"},{\"default\":\"flex-start\",\"kind\":null,\"name\":\"justify_content\"}]},{\"extends\":null,\"module\":null,\"name\":\"GridStack1\",\"overrides\":[],\"properties\":[{\"default\":\"warn\",\"kind\":null,\"name\":\"mode\"},{\"default\":null,\"kind\":null,\"name\":\"ncols\"},{\"default\":null,\"kind\":null,\"name\":\"nrows\"},{\"default\":true,\"kind\":null,\"name\":\"allow_resize\"},{\"default\":true,\"kind\":null,\"name\":\"allow_drag\"},{\"default\":[],\"kind\":null,\"name\":\"state\"}]},{\"extends\":null,\"module\":null,\"name\":\"click1\",\"overrides\":[],\"properties\":[{\"default\":\"\",\"kind\":null,\"name\":\"terminal_output\"},{\"default\":\"\",\"kind\":null,\"name\":\"debug_name\"},{\"default\":0,\"kind\":null,\"name\":\"clears\"}]},{\"extends\":null,\"module\":null,\"name\":\"NotificationAreaBase1\",\"overrides\":[],\"properties\":[{\"default\":\"bottom-right\",\"kind\":null,\"name\":\"position\"},{\"default\":0,\"kind\":null,\"name\":\"_clear\"}]},{\"extends\":null,\"module\":null,\"name\":\"NotificationArea1\",\"overrides\":[],\"properties\":[{\"default\":[],\"kind\":null,\"name\":\"notifications\"},{\"default\":\"bottom-right\",\"kind\":null,\"name\":\"position\"},{\"default\":0,\"kind\":null,\"name\":\"_clear\"},{\"default\":[{\"background\":\"#ffc107\",\"icon\":{\"className\":\"fas fa-exclamation-triangle\",\"color\":\"white\",\"tagName\":\"i\"},\"type\":\"warning\"},{\"background\":\"#007bff\",\"icon\":{\"className\":\"fas fa-info-circle\",\"color\":\"white\",\"tagName\":\"i\"},\"type\":\"info\"}],\"kind\":null,\"name\":\"types\"}]},{\"extends\":null,\"module\":null,\"name\":\"Notification\",\"overrides\":[],\"properties\":[{\"default\":null,\"kind\":null,\"name\":\"background\"},{\"default\":3000,\"kind\":null,\"name\":\"duration\"},{\"default\":null,\"kind\":null,\"name\":\"icon\"},{\"default\":\"\",\"kind\":null,\"name\":\"message\"},{\"default\":null,\"kind\":null,\"name\":\"notification_type\"},{\"default\":false,\"kind\":null,\"name\":\"_destroyed\"}]},{\"extends\":null,\"module\":null,\"name\":\"TemplateActions1\",\"overrides\":[],\"properties\":[{\"default\":0,\"kind\":null,\"name\":\"open_modal\"},{\"default\":0,\"kind\":null,\"name\":\"close_modal\"}]},{\"extends\":null,\"module\":null,\"name\":\"MaterialTemplateActions1\",\"overrides\":[],\"properties\":[{\"default\":0,\"kind\":null,\"name\":\"open_modal\"},{\"default\":0,\"kind\":null,\"name\":\"close_modal\"}]}],\"roots\":{\"references\":[{\"attributes\":{\"margin\":[5,5,5,5],\"name\":\"HSpacer220968\",\"sizing_mode\":\"stretch_width\"},\"id\":\"60079\",\"type\":\"Spacer\"},{\"attributes\":{\"client_comm_id\":\"c59c3d498fe84365b57b3d520716082b\",\"comm_id\":\"29b9c71599104970becad64785bbb686\",\"plot_id\":\"60073\"},\"id\":\"60082\",\"type\":\"panel.models.comm_manager.CommManager\"},{\"attributes\":{\"children\":[{\"id\":\"60074\"}],\"margin\":[0,0,0,0],\"name\":\"Row220971\",\"sizing_mode\":\"stretch_width\"},\"id\":\"60073\",\"type\":\"Row\"},{\"attributes\":{\"children\":[{\"id\":\"60081\"}],\"margin\":[0,0,0,0],\"name\":\"Row220943\",\"sizing_mode\":\"stretch_width\"},\"id\":\"60080\",\"type\":\"Row\"},{\"attributes\":{\"active\":0,\"button_type\":\"success\",\"labels\":[\"Coal\",\"Oil\",\"Gas\",\"Cement\",\"Flaring\",\"Other\"],\"margin\":[5,10,5,10],\"sizing_mode\":\"stretch_width\"},\"id\":\"60078\",\"type\":\"RadioButtonGroup\"},{\"attributes\":{\"end\":2021,\"margin\":[5,10,5,10],\"start\":1750,\"step\":5,\"title\":\"Year slider\",\"value\":1990},\"id\":\"60077\",\"type\":\"Slider\"},{\"attributes\":{\"margin\":[5,5,5,5],\"name\":\"DataFrame220966\",\"sizing_mode\":\"stretch_width\",\"text\":\"&lt;table border=&quot;0&quot; class=&quot;dataframe panel-df&quot;&gt;\\n  &lt;thead&gt;\\n    &lt;tr style=&quot;text-align: right;&quot;&gt;\\n      &lt;th&gt;&lt;/th&gt;\\n      &lt;th&gt;Year&lt;/th&gt;\\n      &lt;th&gt;continent&lt;/th&gt;\\n      &lt;th&gt;Coal&lt;/th&gt;\\n    &lt;/tr&gt;\\n  &lt;/thead&gt;\\n  &lt;tbody&gt;\\n    &lt;tr&gt;\\n      &lt;th&gt;0&lt;/th&gt;\\n      &lt;td&gt;1990&lt;/td&gt;\\n      &lt;td&gt;Africa&lt;/td&gt;\\n      &lt;td&gt;295.753071&lt;/td&gt;\\n    &lt;/tr&gt;\\n    &lt;tr&gt;\\n      &lt;th&gt;1&lt;/th&gt;\\n      &lt;td&gt;1990&lt;/td&gt;\\n      &lt;td&gt;Asia&lt;/td&gt;\\n      &lt;td&gt;3252.448897&lt;/td&gt;\\n    &lt;/tr&gt;\\n    &lt;tr&gt;\\n      &lt;th&gt;2&lt;/th&gt;\\n      &lt;td&gt;1990&lt;/td&gt;\\n      &lt;td&gt;Europe&lt;/td&gt;\\n      &lt;td&gt;2980.499273&lt;/td&gt;\\n    &lt;/tr&gt;\\n    &lt;tr&gt;\\n      &lt;th&gt;3&lt;/th&gt;\\n      &lt;td&gt;1990&lt;/td&gt;\\n      &lt;td&gt;North America&lt;/td&gt;\\n      &lt;td&gt;1930.964950&lt;/td&gt;\\n    &lt;/tr&gt;\\n    &lt;tr&gt;\\n      &lt;th&gt;4&lt;/th&gt;\\n      &lt;td&gt;1990&lt;/td&gt;\\n      &lt;td&gt;Oceania&lt;/td&gt;\\n      &lt;td&gt;147.035089&lt;/td&gt;\\n    &lt;/tr&gt;\\n    &lt;tr&gt;\\n      &lt;th&gt;5&lt;/th&gt;\\n      &lt;td&gt;1990&lt;/td&gt;\\n      &lt;td&gt;South America&lt;/td&gt;\\n      &lt;td&gt;66.518716&lt;/td&gt;\\n    &lt;/tr&gt;\\n  &lt;/tbody&gt;\\n&lt;/table&gt;\"},\"id\":\"60081\",\"type\":\"panel.models.markup.HTML\"},{\"attributes\":{\"children\":[{\"id\":\"60077\"},{\"id\":\"60078\"}],\"margin\":[0,0,0,0],\"name\":\"Column220938\",\"sizing_mode\":\"stretch_width\"},\"id\":\"60076\",\"type\":\"Column\"},{\"attributes\":{\"children\":[{\"id\":\"60076\"},{\"id\":\"60079\"}],\"margin\":[0,0,0,0],\"name\":\"Row220969\",\"sizing_mode\":\"stretch_width\"},\"id\":\"60075\",\"type\":\"Row\"},{\"attributes\":{\"children\":[{\"id\":\"60075\"},{\"id\":\"60080\"}],\"margin\":[0,0,0,0],\"name\":\"Column220970\",\"sizing_mode\":\"stretch_width\"},\"id\":\"60074\",\"type\":\"Column\"}],\"root_ids\":[\"60073\",\"60082\"]},\"title\":\"Bokeh Application\",\"version\":\"2.4.3\"}};\n",
       "    var render_items = [{\"docid\":\"36c60f42-40b0-4825-aafc-cff2d481fb95\",\"root_ids\":[\"60073\"],\"roots\":{\"60073\":\"85fababc-b4e5-4f60-882f-04e8c8e5b7ae\"}}];\n",
       "    root.Bokeh.embed.embed_items_notebook(docs_json, render_items);\n",
       "  }\n",
       "  if (root.Bokeh !== undefined && root.Bokeh.Panel !== undefined && ( root['Tabulator'] !== undefined) && ( root['Tabulator'] !== undefined) && ( root['Tabulator'] !== undefined) && ( root['Tabulator'] !== undefined)) {\n",
       "    embed_document(root);\n",
       "  } else {\n",
       "    var attempts = 0;\n",
       "    var timer = setInterval(function(root) {\n",
       "      if (root.Bokeh !== undefined && root.Bokeh.Panel !== undefined && (root['Tabulator'] !== undefined) && (root['Tabulator'] !== undefined) && (root['Tabulator'] !== undefined) && (root['Tabulator'] !== undefined)) {\n",
       "        clearInterval(timer);\n",
       "        embed_document(root);\n",
       "      } else if (document.readyState == \"complete\") {\n",
       "        attempts++;\n",
       "        if (attempts > 200) {\n",
       "          clearInterval(timer);\n",
       "          console.log(\"Bokeh: ERROR: Unable to run BokehJS code because BokehJS library is missing\");\n",
       "        }\n",
       "      }\n",
       "    }, 25, root)\n",
       "  }\n",
       "})(window);</script>"
      ],
      "text/plain": [
       "<hvplot.interactive.Interactive at 0x7fe050df8370>"
      ]
     },
     "execution_count": 394,
     "metadata": {
      "application/vnd.holoviews_exec.v0+json": {
       "id": "60073"
      }
     },
     "output_type": "execute_result"
    }
   ],
   "source": [
    "yaxis_co2_source = pn.widgets.RadioButtonGroup(\n",
    "    name='Y axis', \n",
    "    options=['Coal', 'Oil', 'Gas', \"Cement\", \"Flaring\", \"Other\"], \n",
    "    button_type='success'\n",
    ")\n",
    "\n",
    "\n",
    "\n",
    "co2_source_bar_pipeline = (\n",
    "    idf[\n",
    "        (idf.Year == year_slider) \n",
    "    ]\n",
    "    .groupby(['Year', 'continent'])[yaxis_co2_source].sum()\n",
    "    .to_frame()\n",
    "    .reset_index()\n",
    "    .sort_values(by='Year')  \n",
    "    .reset_index(drop=True)\n",
    ")\n",
    "co2_source_bar_pipeline"
   ]
  },
  {
   "cell_type": "code",
   "execution_count": 342,
   "id": "0db185e9",
   "metadata": {
    "scrolled": true
   },
   "outputs": [
    {
     "data": {},
     "metadata": {},
     "output_type": "display_data"
    },
    {
     "data": {},
     "metadata": {},
     "output_type": "display_data"
    },
    {
     "data": {
      "application/vnd.holoviews_exec.v0+json": "",
      "text/html": [
       "<div id='7252'>\n",
       "  <div class=\"bk-root\" id=\"59cd8e5d-97ba-47d0-83ba-5201bf6b9239\" data-root-id=\"7252\"></div>\n",
       "</div>\n",
       "<script type=\"application/javascript\">(function(root) {\n",
       "  function embed_document(root) {\n",
       "    var docs_json = {\"c2a20398-822e-44f5-bdc1-305b30306597\":{\"defs\":[{\"extends\":null,\"module\":null,\"name\":\"ReactiveHTML1\",\"overrides\":[],\"properties\":[]},{\"extends\":null,\"module\":null,\"name\":\"FlexBox1\",\"overrides\":[],\"properties\":[{\"default\":\"flex-start\",\"kind\":null,\"name\":\"align_content\"},{\"default\":\"flex-start\",\"kind\":null,\"name\":\"align_items\"},{\"default\":\"row\",\"kind\":null,\"name\":\"flex_direction\"},{\"default\":\"wrap\",\"kind\":null,\"name\":\"flex_wrap\"},{\"default\":\"flex-start\",\"kind\":null,\"name\":\"justify_content\"}]},{\"extends\":null,\"module\":null,\"name\":\"GridStack1\",\"overrides\":[],\"properties\":[{\"default\":\"warn\",\"kind\":null,\"name\":\"mode\"},{\"default\":null,\"kind\":null,\"name\":\"ncols\"},{\"default\":null,\"kind\":null,\"name\":\"nrows\"},{\"default\":true,\"kind\":null,\"name\":\"allow_resize\"},{\"default\":true,\"kind\":null,\"name\":\"allow_drag\"},{\"default\":[],\"kind\":null,\"name\":\"state\"}]},{\"extends\":null,\"module\":null,\"name\":\"click1\",\"overrides\":[],\"properties\":[{\"default\":\"\",\"kind\":null,\"name\":\"terminal_output\"},{\"default\":\"\",\"kind\":null,\"name\":\"debug_name\"},{\"default\":0,\"kind\":null,\"name\":\"clears\"}]},{\"extends\":null,\"module\":null,\"name\":\"NotificationAreaBase1\",\"overrides\":[],\"properties\":[{\"default\":\"bottom-right\",\"kind\":null,\"name\":\"position\"},{\"default\":0,\"kind\":null,\"name\":\"_clear\"}]},{\"extends\":null,\"module\":null,\"name\":\"NotificationArea1\",\"overrides\":[],\"properties\":[{\"default\":[],\"kind\":null,\"name\":\"notifications\"},{\"default\":\"bottom-right\",\"kind\":null,\"name\":\"position\"},{\"default\":0,\"kind\":null,\"name\":\"_clear\"},{\"default\":[{\"background\":\"#ffc107\",\"icon\":{\"className\":\"fas fa-exclamation-triangle\",\"color\":\"white\",\"tagName\":\"i\"},\"type\":\"warning\"},{\"background\":\"#007bff\",\"icon\":{\"className\":\"fas fa-info-circle\",\"color\":\"white\",\"tagName\":\"i\"},\"type\":\"info\"}],\"kind\":null,\"name\":\"types\"}]},{\"extends\":null,\"module\":null,\"name\":\"Notification\",\"overrides\":[],\"properties\":[{\"default\":null,\"kind\":null,\"name\":\"background\"},{\"default\":3000,\"kind\":null,\"name\":\"duration\"},{\"default\":null,\"kind\":null,\"name\":\"icon\"},{\"default\":\"\",\"kind\":null,\"name\":\"message\"},{\"default\":null,\"kind\":null,\"name\":\"notification_type\"},{\"default\":false,\"kind\":null,\"name\":\"_destroyed\"}]},{\"extends\":null,\"module\":null,\"name\":\"TemplateActions1\",\"overrides\":[],\"properties\":[{\"default\":0,\"kind\":null,\"name\":\"open_modal\"},{\"default\":0,\"kind\":null,\"name\":\"close_modal\"}]},{\"extends\":null,\"module\":null,\"name\":\"MaterialTemplateActions1\",\"overrides\":[],\"properties\":[{\"default\":0,\"kind\":null,\"name\":\"open_modal\"},{\"default\":0,\"kind\":null,\"name\":\"close_modal\"}]}],\"roots\":{\"references\":[{\"attributes\":{\"fill_alpha\":{\"value\":0.1},\"fill_color\":{\"value\":\"#30a2da\"},\"hatch_alpha\":{\"value\":0.1},\"hatch_color\":{\"value\":\"#30a2da\"},\"line_alpha\":{\"value\":0.1},\"top\":{\"field\":\"Coal\"},\"width\":{\"value\":0.8},\"x\":{\"field\":\"continent\"}},\"id\":\"7296\",\"type\":\"VBar\"},{\"attributes\":{},\"id\":\"7276\",\"type\":\"BasicTicker\"},{\"attributes\":{\"fill_alpha\":{\"value\":0.2},\"fill_color\":{\"value\":\"#30a2da\"},\"hatch_alpha\":{\"value\":0.2},\"hatch_color\":{\"value\":\"#30a2da\"},\"line_alpha\":{\"value\":0.2},\"top\":{\"field\":\"Coal\"},\"width\":{\"value\":0.8},\"x\":{\"field\":\"continent\"}},\"id\":\"7297\",\"type\":\"VBar\"},{\"attributes\":{},\"id\":\"7273\",\"type\":\"CategoricalTicker\"},{\"attributes\":{\"children\":[{\"id\":\"7254\"},{\"id\":\"7259\"}],\"margin\":[0,0,0,0],\"name\":\"Column33764\"},\"id\":\"7253\",\"type\":\"Column\"},{\"attributes\":{\"axis\":{\"id\":\"7275\"},\"coordinates\":null,\"dimension\":1,\"grid_line_color\":null,\"group\":null,\"ticker\":null},\"id\":\"7278\",\"type\":\"Grid\"},{\"attributes\":{\"callback\":null,\"renderers\":[{\"id\":\"7298\"}],\"tags\":[\"hv_created\"],\"tooltips\":[[\"continent\",\"@{continent}\"],[\"Coal\",\"@{Coal}\"]]},\"id\":\"7262\",\"type\":\"HoverTool\"},{\"attributes\":{\"axis_label\":\"Coal\",\"coordinates\":null,\"formatter\":{\"id\":\"7305\"},\"group\":null,\"major_label_policy\":{\"id\":\"7306\"},\"ticker\":{\"id\":\"7276\"}},\"id\":\"7275\",\"type\":\"LinearAxis\"},{\"attributes\":{\"end\":2021,\"margin\":[5,10,5,10],\"start\":1750,\"step\":5,\"title\":\"Year slider\",\"value\":1985},\"id\":\"7256\",\"type\":\"Slider\"},{\"attributes\":{\"factors\":[\"Africa\",\"Asia\",\"Europe\",\"North America\",\"Oceania\",\"South America\"],\"tags\":[[[\"continent\",\"continent\",null]]]},\"id\":\"7260\",\"type\":\"FactorRange\"},{\"attributes\":{\"coordinates\":null,\"data_source\":{\"id\":\"7292\"},\"glyph\":{\"id\":\"7295\"},\"group\":null,\"hover_glyph\":null,\"muted_glyph\":{\"id\":\"7297\"},\"nonselection_glyph\":{\"id\":\"7296\"},\"selection_glyph\":{\"id\":\"7300\"},\"view\":{\"id\":\"7299\"}},\"id\":\"7298\",\"type\":\"GlyphRenderer\"},{\"attributes\":{},\"id\":\"7281\",\"type\":\"WheelZoomTool\"},{\"attributes\":{\"active\":0,\"button_type\":\"success\",\"labels\":[\"Coal\",\"Oil\",\"Gas\",\"Cement\",\"Flaring\",\"Other\"],\"margin\":[5,10,5,10]},\"id\":\"7257\",\"type\":\"RadioButtonGroup\"},{\"attributes\":{\"children\":[{\"id\":\"7253\"}],\"margin\":[0,0,0,0],\"name\":\"Row33765\"},\"id\":\"7252\",\"type\":\"Row\"},{\"attributes\":{\"below\":[{\"id\":\"7272\"}],\"center\":[{\"id\":\"7274\"},{\"id\":\"7278\"}],\"height\":300,\"left\":[{\"id\":\"7275\"}],\"margin\":[5,5,5,5],\"min_border_bottom\":10,\"min_border_left\":10,\"min_border_right\":10,\"min_border_top\":10,\"renderers\":[{\"id\":\"7298\"}],\"sizing_mode\":\"fixed\",\"title\":{\"id\":\"7264\"},\"toolbar\":{\"id\":\"7285\"},\"width\":700,\"x_range\":{\"id\":\"7260\"},\"x_scale\":{\"id\":\"7268\"},\"y_range\":{\"id\":\"7261\"},\"y_scale\":{\"id\":\"7270\"}},\"id\":\"7263\",\"subtype\":\"Figure\",\"type\":\"Plot\"},{\"attributes\":{},\"id\":\"7280\",\"type\":\"PanTool\"},{\"attributes\":{},\"id\":\"7268\",\"type\":\"CategoricalScale\"},{\"attributes\":{\"bottom\":{\"value\":0},\"fill_alpha\":{\"value\":1.0},\"fill_color\":{\"value\":\"#30a2da\"},\"hatch_alpha\":{\"value\":1.0},\"hatch_color\":{\"value\":\"#30a2da\"},\"hatch_scale\":{\"value\":12.0},\"hatch_weight\":{\"value\":1.0},\"line_alpha\":{\"value\":1.0},\"line_cap\":{\"value\":\"butt\"},\"line_color\":{\"value\":\"black\"},\"line_dash\":{\"value\":[]},\"line_dash_offset\":{\"value\":0},\"line_join\":{\"value\":\"bevel\"},\"line_width\":{\"value\":1},\"top\":{\"field\":\"Coal\"},\"width\":{\"value\":0.8},\"x\":{\"field\":\"continent\"}},\"id\":\"7300\",\"type\":\"VBar\"},{\"attributes\":{\"client_comm_id\":\"834dc3fa09544cb49050e9049addb884\",\"comm_id\":\"1a031fa3c5724b5b9fbdab68164457a9\",\"plot_id\":\"7252\"},\"id\":\"7347\",\"type\":\"panel.models.comm_manager.CommManager\"},{\"attributes\":{\"end\":3609.495867,\"reset_end\":3609.495867,\"reset_start\":0.0,\"tags\":[[[\"Coal\",\"Coal\",null]]]},\"id\":\"7261\",\"type\":\"Range1d\"},{\"attributes\":{\"axis_label\":\"continent\",\"coordinates\":null,\"formatter\":{\"id\":\"7302\"},\"group\":null,\"major_label_policy\":{\"id\":\"7303\"},\"ticker\":{\"id\":\"7273\"}},\"id\":\"7272\",\"type\":\"CategoricalAxis\"},{\"attributes\":{\"data\":{\"Coal\":{\"__ndarray__\":\"Nq5/1ydrckB0C12JSMKkQJkR3h7krKlAk5BI23igm0Csi9toAIdhQN+P2y+f+EtA\",\"dtype\":\"float64\",\"order\":\"little\",\"shape\":[6]},\"continent\":[\"Africa\",\"Asia\",\"Europe\",\"North America\",\"Oceania\",\"South America\"]},\"selected\":{\"id\":\"7293\"},\"selection_policy\":{\"id\":\"7314\"}},\"id\":\"7292\",\"type\":\"ColumnDataSource\"},{\"attributes\":{\"source\":{\"id\":\"7292\"}},\"id\":\"7299\",\"type\":\"CDSView\"},{\"attributes\":{},\"id\":\"7270\",\"type\":\"LinearScale\"},{\"attributes\":{\"tools\":[{\"id\":\"7262\"},{\"id\":\"7279\"},{\"id\":\"7280\"},{\"id\":\"7281\"},{\"id\":\"7282\"},{\"id\":\"7283\"}]},\"id\":\"7285\",\"type\":\"Toolbar\"},{\"attributes\":{},\"id\":\"7279\",\"type\":\"SaveTool\"},{\"attributes\":{\"fill_color\":{\"value\":\"#30a2da\"},\"hatch_color\":{\"value\":\"#30a2da\"},\"top\":{\"field\":\"Coal\"},\"width\":{\"value\":0.8},\"x\":{\"field\":\"continent\"}},\"id\":\"7295\",\"type\":\"VBar\"},{\"attributes\":{\"children\":[{\"id\":\"7255\"},{\"id\":\"7258\"}],\"margin\":[0,0,0,0],\"name\":\"Row33763\"},\"id\":\"7254\",\"type\":\"Row\"},{\"attributes\":{},\"id\":\"7303\",\"type\":\"AllLabels\"},{\"attributes\":{},\"id\":\"7293\",\"type\":\"Selection\"},{\"attributes\":{\"children\":[{\"id\":\"7256\"},{\"id\":\"7257\"}],\"margin\":[0,0,0,0],\"name\":\"Column33648\"},\"id\":\"7255\",\"type\":\"Column\"},{\"attributes\":{\"bottom_units\":\"screen\",\"coordinates\":null,\"fill_alpha\":0.5,\"fill_color\":\"lightgrey\",\"group\":null,\"left_units\":\"screen\",\"level\":\"overlay\",\"line_alpha\":1.0,\"line_color\":\"black\",\"line_dash\":[4,4],\"line_width\":2,\"right_units\":\"screen\",\"syncable\":false,\"top_units\":\"screen\"},\"id\":\"7284\",\"type\":\"BoxAnnotation\"},{\"attributes\":{\"coordinates\":null,\"group\":null,\"text\":\"CO2 source by continent\",\"text_color\":\"black\",\"text_font_size\":\"12pt\"},\"id\":\"7264\",\"type\":\"Title\"},{\"attributes\":{},\"id\":\"7314\",\"type\":\"UnionRenderers\"},{\"attributes\":{\"children\":[{\"id\":\"7263\"}],\"margin\":[0,0,0,0],\"name\":\"Row33653\"},\"id\":\"7259\",\"type\":\"Row\"},{\"attributes\":{\"margin\":[5,5,5,5],\"name\":\"HSpacer33762\",\"sizing_mode\":\"stretch_width\"},\"id\":\"7258\",\"type\":\"Spacer\"},{\"attributes\":{\"axis\":{\"id\":\"7272\"},\"coordinates\":null,\"grid_line_color\":null,\"group\":null,\"ticker\":null},\"id\":\"7274\",\"type\":\"Grid\"},{\"attributes\":{},\"id\":\"7283\",\"type\":\"ResetTool\"},{\"attributes\":{},\"id\":\"7305\",\"type\":\"BasicTickFormatter\"},{\"attributes\":{},\"id\":\"7302\",\"type\":\"CategoricalTickFormatter\"},{\"attributes\":{},\"id\":\"7306\",\"type\":\"AllLabels\"},{\"attributes\":{\"overlay\":{\"id\":\"7284\"}},\"id\":\"7282\",\"type\":\"BoxZoomTool\"}],\"root_ids\":[\"7252\",\"7347\"]},\"title\":\"Bokeh Application\",\"version\":\"2.4.3\"}};\n",
       "    var render_items = [{\"docid\":\"c2a20398-822e-44f5-bdc1-305b30306597\",\"root_ids\":[\"7252\"],\"roots\":{\"7252\":\"59cd8e5d-97ba-47d0-83ba-5201bf6b9239\"}}];\n",
       "    root.Bokeh.embed.embed_items_notebook(docs_json, render_items);\n",
       "  }\n",
       "  if (root.Bokeh !== undefined && root.Bokeh.Panel !== undefined && ( root['Tabulator'] !== undefined) && ( root['Tabulator'] !== undefined) && ( root['Tabulator'] !== undefined)) {\n",
       "    embed_document(root);\n",
       "  } else {\n",
       "    var attempts = 0;\n",
       "    var timer = setInterval(function(root) {\n",
       "      if (root.Bokeh !== undefined && root.Bokeh.Panel !== undefined && (root['Tabulator'] !== undefined) && (root['Tabulator'] !== undefined) && (root['Tabulator'] !== undefined)) {\n",
       "        clearInterval(timer);\n",
       "        embed_document(root);\n",
       "      } else if (document.readyState == \"complete\") {\n",
       "        attempts++;\n",
       "        if (attempts > 200) {\n",
       "          clearInterval(timer);\n",
       "          console.log(\"Bokeh: ERROR: Unable to run BokehJS code because BokehJS library is missing\");\n",
       "        }\n",
       "      }\n",
       "    }, 25, root)\n",
       "  }\n",
       "})(window);</script>"
      ],
      "text/plain": [
       "<hvplot.interactive.Interactive at 0x7fe019cc2430>"
      ]
     },
     "execution_count": 342,
     "metadata": {
      "application/vnd.holoviews_exec.v0+json": {
       "id": "7252"
      }
     },
     "output_type": "execute_result"
    }
   ],
   "source": [
    "co2_source_bar_plot = co2_source_bar_pipeline.hvplot(kind='bar', \n",
    "                                                     x='continent', \n",
    "                                                     y=yaxis_co2_source, \n",
    "                                                     title='CO2 source by continent')\n",
    "co2_source_bar_plot"
   ]
  },
  {
   "cell_type": "markdown",
   "id": "c500064c",
   "metadata": {},
   "source": [
    "### Creating Dashboard"
   ]
  },
  {
   "cell_type": "code",
   "execution_count": null,
   "id": "5384ff83",
   "metadata": {},
   "outputs": [],
   "source": [
    "#Layout using Template\n",
    "pn.extension(sizing_mode = 'stretch_width')\n",
    "template = pn.template.FastListTemplate(\n",
    "    title='World CO2 emission dashboard', \n",
    "    sidebar=[pn.pane.Markdown(\"# CO2 Emissions and Climate Change\"), \n",
    "             pn.pane.Markdown(\"#### Carbon dioxide emissions are the primary driver of global climate change. It’s widely recognised that to avoid the worst impacts of climate change, the world needs to urgently reduce emissions. But, how this responsibility is shared between regions, countries, and individuals has been an endless point of contention in international discussions.\"), \n",
    "             pn.pane.PNG('climate_day.png', sizing_mode='scale_both'),\n",
    "             pn.pane.Markdown(\"## Settings\"),   \n",
    "             year_slider],\n",
    "    main=[pn.Row(pn.Column(yaxis_co2, \n",
    "                           co2_plot.panel(width=700), margin=(0,25)), \n",
    "                 co2_table.panel(width=500)), \n",
    "          pn.Row(pn.Column(co2_vs_gdp_scatterplot.panel(width=600), margin=(0,25)), \n",
    "                 pn.Column(yaxis_co2_source, co2_source_bar_plot.panel(width=600)))],\n",
    "   accent_base_color=\"#88d8b0\",\n",
    "    header_background=\"#88d8b0\",\n",
    ")\n",
    "# template.show()\n",
    "template.servable();\n",
    "template.show()\n"
   ]
  },
  {
   "cell_type": "code",
   "execution_count": null,
   "id": "644a08d8",
   "metadata": {},
   "outputs": [],
   "source": []
  },
  {
   "cell_type": "code",
   "execution_count": null,
   "id": "a4d6084c",
   "metadata": {},
   "outputs": [],
   "source": []
  },
  {
   "cell_type": "code",
   "execution_count": null,
   "id": "411505ca",
   "metadata": {},
   "outputs": [],
   "source": []
  },
  {
   "cell_type": "code",
   "execution_count": null,
   "id": "66246b3a",
   "metadata": {},
   "outputs": [],
   "source": []
  },
  {
   "cell_type": "code",
   "execution_count": null,
   "id": "69ec8310",
   "metadata": {},
   "outputs": [],
   "source": []
  }
 ],
 "metadata": {
  "kernelspec": {
   "display_name": "Python 3 (ipykernel)",
   "language": "python",
   "name": "python3"
  },
  "language_info": {
   "codemirror_mode": {
    "name": "ipython",
    "version": 3
   },
   "file_extension": ".py",
   "mimetype": "text/x-python",
   "name": "python",
   "nbconvert_exporter": "python",
   "pygments_lexer": "ipython3",
   "version": "3.9.13"
  }
 },
 "nbformat": 4,
 "nbformat_minor": 5
}
